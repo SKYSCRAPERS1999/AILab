{
 "cells": [
  {
   "cell_type": "markdown",
   "metadata": {},
   "source": [
    "## DecisionTree \n",
    "### for continuous features"
   ]
  },
  {
   "cell_type": "code",
   "execution_count": 1,
   "metadata": {
    "ExecuteTime": {
     "end_time": "2018-09-27T10:03:12.593185Z",
     "start_time": "2018-09-27T10:03:11.990224Z"
    }
   },
   "outputs": [],
   "source": [
    "import matplotlib.pyplot as plt\n",
    "import matplotlib\n",
    "import pandas as pd, numpy as np, math\n",
    "matplotlib.rcParams[u'font.sans-serif'] = ['simhei']\n",
    "matplotlib.rcParams['axes.unicode_minus'] = False"
   ]
  },
  {
   "cell_type": "code",
   "execution_count": 1086,
   "metadata": {
    "ExecuteTime": {
     "end_time": "2018-09-28T11:33:18.012540Z",
     "start_time": "2018-09-28T11:33:18.006803Z"
    }
   },
   "outputs": [],
   "source": [
    "def get_data3_alpha(ratio = 0.7):\n",
    "    data = pd.read_csv('./data3.csv')\n",
    "    data = data[['密度', '含糖率', '好瓜']]\n",
    "    data['好瓜'] = data['好瓜'].apply(lambda x: +2 if x == '是' else 0)\n",
    "    data = data.sample(frac = 1).reset_index(drop=True)\n",
    "    \n",
    "    data_posi = data[data.好瓜 == 2]\n",
    "    data_nega = data[data.好瓜 == 0]\n",
    "    data_train = data_posi[:int(len(data_posi)*ratio)].append(data_nega[:int(len(data_nega)*ratio)]).reset_index(drop=True)\n",
    "    data_test = data_posi[int(len(data_posi)*ratio):].append(data_nega[int(len(data_nega)*ratio):]).reset_index(drop=True)\n",
    "    \n",
    "    return (data_train, data_test)"
   ]
  },
  {
   "cell_type": "code",
   "execution_count": 916,
   "metadata": {
    "ExecuteTime": {
     "end_time": "2018-09-28T08:14:53.921517Z",
     "start_time": "2018-09-28T08:14:53.914205Z"
    }
   },
   "outputs": [],
   "source": [
    "import random, math\n",
    "\n",
    "def idxing(x):\n",
    "    if x == 'Iris-setosa':\n",
    "        return 2\n",
    "    elif x == 'Iris-versicolor':\n",
    "        return 2\n",
    "    else:\n",
    "        return 0\n",
    "    \n",
    "def get_data_iris(ratio = 0.7):\n",
    "    data = pd.read_csv('./data_iris.csv', names=['sepal_l', 'sepal_w', 'petal_l', 'petal_w', 'type'])\n",
    "\n",
    "    data['type'] = data['type'].apply(idxing)\n",
    "    data = data[data.type != 1]\n",
    "\n",
    "    data = data.sample(frac = 1).reset_index(drop=True)\n",
    "    data_posi = data[data.type == 2].sample(frac = 1).reset_index(drop=True)\n",
    "    data_nega = data[data.type == 0].sample(frac = 1).reset_index(drop=True)\n",
    "    data_train = data_posi[:int(len(data_posi)*ratio)].append(data_nega[:int(len(data_nega)*ratio)]).reset_index(drop=True)\n",
    "    data_test = data_posi[int(len(data_posi)*ratio):].append(data_nega[int(len(data_nega)*ratio):]).reset_index(drop=True)\n",
    "    \n",
    "    return (data_train, data_test)"
   ]
  },
  {
   "cell_type": "code",
   "execution_count": 1175,
   "metadata": {
    "ExecuteTime": {
     "end_time": "2018-09-28T12:03:16.246882Z",
     "start_time": "2018-09-28T12:03:16.217661Z"
    }
   },
   "outputs": [],
   "source": [
    "class DecisionTree(object):\n",
    "    def __init__(self, data_train, weights, max_dep = 1):\n",
    "        self.__data_train = data_train\n",
    "        self.__weights = weights\n",
    "        self.__max_dep = max_dep\n",
    "        self.__root = self.dfs(data_train, weights)\n",
    "    def get_root(self):\n",
    "        return self.__root\n",
    "    \n",
    "    def Entropy(self, p1):\n",
    "        if p1 < 1e-6 or p1 > 1.0 - 1e-6:\n",
    "            return 0.0\n",
    "        else:\n",
    "            return -(p1 * math.log2(p1) + (1 - p1) * math.log2(1 - p1))\n",
    "    \n",
    "    def Gain(self, data, weights, idx, split):\n",
    "        \n",
    "        l_idx, r_idx = np.where(data.iloc[:,idx] < split)[0], np.where(data.iloc[:,idx] >= split)[0]\n",
    "        data_l, data_r = data.iloc[l_idx], data.iloc[r_idx]\n",
    "        weights_l, weights_r = weights[l_idx], weights[r_idx]\n",
    "\n",
    "        p1 = weights[np.where(data.iloc[:,-1] == 2)[0]].sum() / weights.sum()\n",
    "        gain = self.Entropy(p1)\n",
    "        \n",
    "        p1_l = weights_l[np.where(data_l.iloc[:,-1] == 2)[0]].sum() / float(weights_l.sum())\n",
    "        p1_r = weights_r[np.where(data_r.iloc[:,-1] == 2)[0]].sum() / float(weights_r.sum())\n",
    "        gain -= weights_l.sum() / float(weights.sum()) * self.Entropy(p1_l)\n",
    "        gain -= weights_r.sum() / float(weights.sum()) * self.Entropy(p1_r)\n",
    "        \n",
    "        return gain\n",
    "    \n",
    "    def get_partition(self, data, weights):\n",
    "        max_gain, best_idx, best_split = 0.0, -1, 0.0\n",
    "        n, m = data.shape\n",
    "        for idx in range(m - 1):\n",
    "            col = np.unique(np.array(data.iloc[:,idx]))\n",
    "            for k in range(len(col) - 1):\n",
    "                split = (col[k] + col[k + 1]) / 2\n",
    "                gain = self.Gain(data, weights, idx, split)\n",
    "                if gain > max_gain + 1e-6:\n",
    "                    max_gain, best_idx, best_split = gain, idx, split\n",
    "                \n",
    "        return (best_idx, best_split)\n",
    "    \n",
    "    def dfs(self, data, weights, dep = 0):\n",
    "\n",
    "        node, type_count = {}, np.bincount(data.iloc[:,-1])\n",
    "        \n",
    "        best_idx, split = self.get_partition(data, weights)\n",
    "        if dep == self.__max_dep or best_idx == -1:\n",
    "            node['type'] = np.argmax(type_count) - 1\n",
    "            return node\n",
    "        \n",
    "        l_idx, r_idx = np.where(data.iloc[:,best_idx] < split)[0], np.where(data.iloc[:,best_idx] >= split)[0]\n",
    "        if len(l_idx) < 1 or len(r_idx) < 1:\n",
    "            node['type'] = np.argmax(type_count) - 1\n",
    "        else:\n",
    "            node['<'] = self.dfs(data.iloc[l_idx], weights[l_idx], dep + 1)\n",
    "            node['>='] = self.dfs(data.iloc[r_idx], weights[r_idx], dep + 1)\n",
    "            node['idx'], node['fea'], node['split'] = best_idx, data.columns[best_idx], split\n",
    "            \n",
    "        return node\n",
    "    \n",
    "    def predict(self, sample, to_output = False):\n",
    "        node = self.get_root()\n",
    "        while (True):\n",
    "            if 'type' in node:\n",
    "                _s, _n = sample[-1] - 1, node['type']\n",
    "                if to_output == True: print ('label: {}, predict: {}'.format(_s, _n))\n",
    "                return (_s, _n)\n",
    "            \n",
    "            elif sample[node['idx']] < node['split']:\n",
    "                node = node['<']\n",
    "            elif sample[node['idx']] >= node['split']:\n",
    "                node = node['>=']"
   ]
  },
  {
   "cell_type": "code",
   "execution_count": 980,
   "metadata": {
    "ExecuteTime": {
     "end_time": "2018-09-28T09:17:54.159342Z",
     "start_time": "2018-09-28T09:17:53.704217Z"
    },
    "collapsed": true
   },
   "outputs": [
    {
     "name": "stdout",
     "output_type": "stream",
     "text": [
      "label: 1.0, predict: 1\n",
      "label: 1.0, predict: 1\n",
      "label: 1.0, predict: 1\n",
      "label: 1.0, predict: 1\n",
      "label: 1.0, predict: 1\n",
      "label: 1.0, predict: 1\n",
      "label: 1.0, predict: 1\n",
      "label: 1.0, predict: 1\n",
      "label: 1.0, predict: 1\n",
      "label: 1.0, predict: 1\n",
      "label: 1.0, predict: 1\n",
      "label: 1.0, predict: -1\n",
      "label: 1.0, predict: 1\n",
      "label: 1.0, predict: 1\n",
      "label: 1.0, predict: 1\n",
      "label: 1.0, predict: 1\n",
      "label: 1.0, predict: 1\n",
      "label: 1.0, predict: 1\n",
      "label: 1.0, predict: 1\n",
      "label: 1.0, predict: 1\n",
      "label: 1.0, predict: 1\n",
      "label: 1.0, predict: 1\n",
      "label: 1.0, predict: 1\n",
      "label: 1.0, predict: 1\n",
      "label: 1.0, predict: 1\n",
      "label: 1.0, predict: 1\n",
      "label: 1.0, predict: 1\n",
      "label: 1.0, predict: 1\n",
      "label: 1.0, predict: 1\n",
      "label: 1.0, predict: 1\n",
      "label: 1.0, predict: 1\n",
      "label: 1.0, predict: 1\n",
      "label: 1.0, predict: 1\n",
      "label: 1.0, predict: -1\n",
      "label: 1.0, predict: 1\n",
      "label: 1.0, predict: 1\n",
      "label: 1.0, predict: 1\n",
      "label: 1.0, predict: 1\n",
      "label: 1.0, predict: 1\n",
      "label: 1.0, predict: 1\n",
      "label: 1.0, predict: 1\n",
      "label: 1.0, predict: 1\n",
      "label: 1.0, predict: 1\n",
      "label: 1.0, predict: 1\n",
      "label: 1.0, predict: 1\n",
      "label: 1.0, predict: 1\n",
      "label: 1.0, predict: 1\n",
      "label: 1.0, predict: 1\n",
      "label: 1.0, predict: 1\n",
      "label: 1.0, predict: 1\n",
      "label: 1.0, predict: 1\n",
      "label: 1.0, predict: 1\n",
      "label: 1.0, predict: 1\n",
      "label: 1.0, predict: 1\n",
      "label: 1.0, predict: 1\n",
      "label: 1.0, predict: 1\n",
      "label: 1.0, predict: 1\n",
      "label: 1.0, predict: 1\n",
      "label: 1.0, predict: 1\n",
      "label: 1.0, predict: 1\n",
      "label: 1.0, predict: 1\n",
      "label: 1.0, predict: 1\n",
      "label: 1.0, predict: 1\n",
      "label: 1.0, predict: -1\n",
      "label: 1.0, predict: 1\n",
      "label: 1.0, predict: 1\n",
      "label: 1.0, predict: 1\n",
      "label: 1.0, predict: 1\n",
      "label: 1.0, predict: 1\n",
      "label: 1.0, predict: 1\n",
      "label: -1.0, predict: -1\n",
      "label: -1.0, predict: -1\n",
      "label: -1.0, predict: -1\n",
      "label: -1.0, predict: -1\n",
      "label: -1.0, predict: -1\n",
      "label: -1.0, predict: -1\n",
      "label: -1.0, predict: -1\n",
      "label: -1.0, predict: -1\n",
      "label: -1.0, predict: -1\n",
      "label: -1.0, predict: -1\n",
      "label: -1.0, predict: -1\n",
      "label: -1.0, predict: -1\n",
      "label: -1.0, predict: -1\n",
      "label: -1.0, predict: -1\n",
      "label: -1.0, predict: -1\n",
      "label: -1.0, predict: -1\n",
      "label: -1.0, predict: -1\n",
      "label: -1.0, predict: -1\n",
      "label: -1.0, predict: -1\n",
      "label: -1.0, predict: -1\n",
      "label: -1.0, predict: -1\n",
      "label: -1.0, predict: -1\n",
      "label: -1.0, predict: -1\n",
      "label: -1.0, predict: -1\n",
      "label: -1.0, predict: 1\n",
      "label: -1.0, predict: -1\n",
      "label: -1.0, predict: -1\n",
      "label: -1.0, predict: -1\n",
      "label: -1.0, predict: -1\n",
      "label: -1.0, predict: -1\n",
      "label: -1.0, predict: -1\n",
      "label: -1.0, predict: -1\n",
      "label: -1.0, predict: -1\n",
      "label: -1.0, predict: -1\n",
      "label: -1.0, predict: -1\n"
     ]
    }
   ],
   "source": [
    "weights = np.random.random(len(data_train)); weights /= weights.sum()\n",
    "dt = DecisionTree(data_train = data_train, weights = weights)\n",
    "\n",
    "for i in range(len(data_train)):\n",
    "    dt.predict(data_train.iloc[i], to_output = True)"
   ]
  },
  {
   "cell_type": "markdown",
   "metadata": {},
   "source": [
    "## AdaBoost"
   ]
  },
  {
   "cell_type": "code",
   "execution_count": 1176,
   "metadata": {
    "ExecuteTime": {
     "end_time": "2018-09-28T12:03:18.776647Z",
     "start_time": "2018-09-28T12:03:18.756737Z"
    }
   },
   "outputs": [],
   "source": [
    "class AdaBoost(object):\n",
    "    def __init__(self, max_dep = 1, T = 20):\n",
    "        self.classifiers = []\n",
    "        self.classifier_weights = [] #np.zeros(T, np.float32)\n",
    "        self.max_dep = max_dep\n",
    "        self.T = T\n",
    "        self.model_info = [] #np.zeros((T, 3), np.float32)\n",
    "\n",
    "    def fit(self, data_train, data_test, to_output = False):\n",
    "        n, m = len(data_train), len(data_test)\n",
    "        weights = np.ones(n, np.float32) / float(n)\n",
    "        test_matrix = np.zeros((self.T, n), np.float32)\n",
    "        \n",
    "        for i in range(self.T):\n",
    "            dt = DecisionTree(data_train = data_train, max_dep = self.max_dep, weights = weights)\n",
    "            \n",
    "            label_list, pred_list = np.zeros(n), np.zeros(n)\n",
    "            for j in range(n):\n",
    "                label_list[j], pred_list[j] = dt.predict(data_train.iloc[j])\n",
    "            \n",
    "            err_ratio = weights[(pred_list != label_list)].sum() / weights.sum() + 1e-8\n",
    "            if err_ratio > 0.5 - 0.01:\n",
    "                test_matrix = test_matrix[:i,:]\n",
    "                print ('Invalid train in iter {}\\n'.format(i))\n",
    "                break\n",
    "            \n",
    "            alpha = 0.5 * np.log((1 - err_ratio) / err_ratio)\n",
    "            self.classifier_weights.append(alpha)\n",
    "            train_acc, test_acc = 0.0, 0.0\n",
    "            \n",
    "            for j in range(n):\n",
    "                train_acc += self.predict(data_train.iloc[j])\n",
    "            train_acc = train_acc / float(n)\n",
    "            \n",
    "            for j in range(m):\n",
    "                test_acc += self.predict(data_test.iloc[j])\n",
    "            test_acc = test_acc / float(m)\n",
    "            self.model_info.append(np.array([i, train_acc, test_acc]))\n",
    "            \n",
    "            if to_output == True:\n",
    "                print ('In round {}, err_ratio = {}, alpha = {}'.format(i, err_ratio, alpha))\n",
    "                print ('train_accuracy: {:6f}'.format(train_acc))\n",
    "                print ('test_accuracy: {:6f}'.format(test_acc))\n",
    "            \n",
    "            weights *= np.exp(-alpha * pred_list * label_list)\n",
    "            weights /= weights.sum()\n",
    "        \n",
    "            test_matrix[i,:] = pred_list\n",
    "            self.classifiers.append(dt)\n",
    "\n",
    "        output = np.sum((np.array(self.classifier_weights).reshape(-1,1) * test_matrix), axis = 0)\n",
    "        output = np.sign(output)\n",
    "        \n",
    "        return np.array(self.model_info)\n",
    "    \n",
    "    def predict(self, sample, to_output = False):\n",
    "        \n",
    "        sz = len(self.classifiers)\n",
    "        pred_list = np.zeros(sz, np.float32)\n",
    "        for (i, dt) in enumerate(self.classifiers):\n",
    "            (_, pred_list[i]) = dt.predict(sample)\n",
    "        output = np.dot(np.array(self.classifier_weights)[:sz,], pred_list)\n",
    "        output = np.sign(output)\n",
    "            \n",
    "        if to_output == True:\n",
    "            print ('label = {}, output = {}'.format(sample[-1] - 1, output))\n",
    "        return (abs(sample[-1] - 1 - output) < 1e-6)"
   ]
  },
  {
   "cell_type": "code",
   "execution_count": 1211,
   "metadata": {
    "ExecuteTime": {
     "end_time": "2018-09-28T12:11:14.599881Z",
     "start_time": "2018-09-28T12:11:14.097871Z"
    }
   },
   "outputs": [
    {
     "name": "stdout",
     "output_type": "stream",
     "text": [
      "In round 0, err_ratio = 0.1818181823356247, alpha = 0.7520386966489541\n",
      "train_accuracy: 0.000000\n",
      "test_accuracy: 0.000000\n",
      "In round 1, err_ratio = 0.222222248779068, alpha = 0.6263814074225263\n",
      "train_accuracy: 0.818182\n",
      "test_accuracy: 0.833333\n",
      "In round 2, err_ratio = 0.4107142786843872, alpha = 0.18050668729156508\n",
      "train_accuracy: 0.818182\n",
      "test_accuracy: 0.833333\n",
      "Invalid train in iter 3\n",
      "\n"
     ]
    }
   ],
   "source": [
    "np.random.seed(3)\n",
    "(data_train, data_test) = get_data3_alpha()\n",
    "\n",
    "boost = AdaBoost(T = 200)\n",
    "model_info = boost.fit(data_train, data_test, to_output = True)"
   ]
  },
  {
   "cell_type": "code",
   "execution_count": 1213,
   "metadata": {
    "ExecuteTime": {
     "end_time": "2018-09-28T12:11:20.531124Z",
     "start_time": "2018-09-28T12:11:20.376801Z"
    }
   },
   "outputs": [
    {
     "name": "stdout",
     "output_type": "stream",
     "text": [
      "dict_items([('<', {'type': -1}), ('>=', {'type': 1}), ('idx', 1), ('fea', '含糖率'), ('split', 0.20450000000000002)])\n",
      "dict_items([('<', {'type': -1}), ('>=', {'type': 1}), ('idx', 0), ('fea', '密度'), ('split', 0.3985)])\n",
      "dict_items([('<', {'type': -1}), ('>=', {'type': 1}), ('idx', 1), ('fea', '含糖率'), ('split', 0.126)])\n"
     ]
    },
    {
     "data": {
      "image/png": "[encoded data removed]",
      "text/plain": [
       "<Figure size 432x288 with 1 Axes>"
      ]
     },
     "metadata": {},
     "output_type": "display_data"
    }
   ],
   "source": [
    "plt.scatter(data_test.iloc[:,0], data_test.iloc[:,1], c = data_test.iloc[:,2], cmap = plt.cm.autumn)\n",
    "cols = data_test.columns\n",
    "plt.xlabel(cols[0])\n",
    "plt.ylabel(cols[1])\n",
    "for cf in boost.classifiers:\n",
    "    root = cf.get_root()\n",
    "    if root['fea'] == cols[0]:\n",
    "        plt.vlines(root['split'], 0.0, 0.5)\n",
    "    else:\n",
    "        plt.hlines(root['split'], 0.0, 0.8)\n",
    "    print (root.items())"
   ]
  },
  {
   "cell_type": "code",
   "execution_count": 1212,
   "metadata": {
    "ExecuteTime": {
     "end_time": "2018-09-28T12:11:19.142127Z",
     "start_time": "2018-09-28T12:11:16.662477Z"
    }
   },
   "outputs": [
    {
     "data": {
      "text/plain": [
       "<matplotlib.collections.PathCollection at 0x7f73d4dc31d0>"
      ]
     },
     "execution_count": 1212,
     "metadata": {},
     "output_type": "execute_result"
    },
    {
     "data": {
      "image/png": "[encoded data removed]",
      "text/plain": [
       "<Figure size 432x288 with 1 Axes>"
      ]
     },
     "metadata": {},
     "output_type": "display_data"
    }
   ],
   "source": [
    "cols = data_test.columns\n",
    "plt.xlabel(cols[0])\n",
    "plt.ylabel(cols[1])\n",
    "\n",
    "xv, yv = np.meshgrid(np.linspace(0, 0.8, 300), np.linspace(0, 0.5, 300), sparse=False, indexing='ij')\n",
    "posi_list, nega_list = [], []\n",
    "for i in range(len(xv)):\n",
    "    for j in range(len(yv)):\n",
    "        cur = np.array([xv[i,j], yv[i,j], 2.0])\n",
    "        if boost.predict(cur) == True:\n",
    "            posi_list.append(np.array([cur[0], cur[1]]))\n",
    "        else:\n",
    "            nega_list.append(np.array([cur[0], cur[1]]))\n",
    "posi_list, nega_list = np.array(posi_list), np.array(nega_list)\n",
    "plt.scatter(posi_list[:,0], posi_list[:,1], color='cyan')\n",
    "plt.scatter(nega_list[:,0], nega_list[:,1], color='blue')\n",
    "plt.scatter(data_test.iloc[:,0], data_test.iloc[:,1], c = data_test.iloc[:,2], marker='*', cmap = plt.cm.autumn)"
   ]
  },
  {
   "cell_type": "code",
   "execution_count": 1143,
   "metadata": {
    "ExecuteTime": {
     "end_time": "2018-09-28T11:50:01.740214Z",
     "start_time": "2018-09-28T11:50:01.592514Z"
    }
   },
   "outputs": [
    {
     "data": {
      "text/plain": [
       "<matplotlib.legend.Legend at 0x7f73d4a9ccc0>"
      ]
     },
     "execution_count": 1143,
     "metadata": {},
     "output_type": "execute_result"
    },
    {
     "data": {
      "image/png": "[encoded data removed]",
      "text/plain": [
       "<Figure size 432x288 with 1 Axes>"
      ]
     },
     "metadata": {},
     "output_type": "display_data"
    }
   ],
   "source": [
    "plt.plot(model_info[:,0], model_info[:,1])\n",
    "plt.plot(model_info[:,0], model_info[:,2])\n",
    "plt.legend(['train_accuracy', 'test_accuracy'])"
   ]
  }
 ],
 "metadata": {
  "kernelspec": {
   "display_name": "Python 3",
   "language": "python",
   "name": "python3"
  },
  "language_info": {
   "codemirror_mode": {
    "name": "ipython",
    "version": 3
   },
   "file_extension": ".py",
   "mimetype": "text/x-python",
   "name": "python",
   "nbconvert_exporter": "python",
   "pygments_lexer": "ipython3",
   "version": "3.6.5"
  }
 },
 "nbformat": 4,
 "nbformat_minor": 2
}
