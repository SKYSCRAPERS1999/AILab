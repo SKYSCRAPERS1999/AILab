{
 "cells": [
  {
   "cell_type": "markdown",
   "metadata": {},
   "source": [
    "## DecisionTree \n",
    "### for continuous features"
   ]
  },
  {
   "cell_type": "code",
   "execution_count": 3,
   "metadata": {
    "ExecuteTime": {
     "end_time": "2018-09-30T07:17:31.873902Z",
     "start_time": "2018-09-30T07:17:31.242621Z"
    }
   },
   "outputs": [],
   "source": [
    "import matplotlib.pyplot as plt\n",
    "import matplotlib\n",
    "import pandas as pd, numpy as np, math\n",
    "matplotlib.rcParams[u'font.sans-serif'] = ['simhei']\n",
    "matplotlib.rcParams['axes.unicode_minus'] = False"
   ]
  },
  {
   "cell_type": "code",
   "execution_count": 4,
   "metadata": {
    "ExecuteTime": {
     "end_time": "2018-09-30T07:17:32.151791Z",
     "start_time": "2018-09-30T07:17:32.146141Z"
    }
   },
   "outputs": [],
   "source": [
    "def get_data3_alpha(ratio = 0.7):\n",
    "    data = pd.read_csv('./data3.csv')\n",
    "    data = data[['密度', '含糖率', '好瓜']]\n",
    "    data['好瓜'] = data['好瓜'].apply(lambda x: +2 if x == '是' else 0)\n",
    "    data = data.sample(frac = 1).reset_index(drop=True)\n",
    "    \n",
    "    data_posi = data[data.好瓜 == 2]\n",
    "    data_nega = data[data.好瓜 == 0]\n",
    "    data_train = data_posi[:int(len(data_posi)*ratio)].append(data_nega[:int(len(data_nega)*ratio)]).reset_index(drop=True)\n",
    "    data_test = data_posi[int(len(data_posi)*ratio):].append(data_nega[int(len(data_nega)*ratio):]).reset_index(drop=True)\n",
    "    \n",
    "    return (data_train, data_test)"
   ]
  },
  {
   "cell_type": "code",
   "execution_count": 5,
   "metadata": {
    "ExecuteTime": {
     "end_time": "2018-09-30T07:17:33.177495Z",
     "start_time": "2018-09-30T07:17:33.156652Z"
    }
   },
   "outputs": [],
   "source": [
    "import random, math\n",
    "\n",
    "def get_data_iris(ratio = 0.7):\n",
    "    data = pd.read_csv('./data_iris.csv', names=['sepal_l', 'sepal_w', 'petal_l', 'petal_w', 'type'])\n",
    "    \n",
    "    def idxing(x):\n",
    "        if x == 'Iris-setosa':\n",
    "            return 1\n",
    "        elif x == 'Iris-versicolor':\n",
    "            return 2\n",
    "        else:\n",
    "            return 0\n",
    "        \n",
    "    data['type'] = data['type'].apply(idxing)\n",
    "    data = data[data.type != 1]\n",
    "\n",
    "    data = data.sample(frac = 1).reset_index(drop=True)\n",
    "    data_posi = data[data.type == 2].sample(frac = 1).reset_index(drop=True)\n",
    "    data_nega = data[data.type == 0].sample(frac = 1).reset_index(drop=True)\n",
    "    data_train = data_posi[:int(len(data_posi)*ratio)].append(data_nega[:int(len(data_nega)*ratio)]).reset_index(drop=True)\n",
    "    data_test = data_posi[int(len(data_posi)*ratio):].append(data_nega[int(len(data_nega)*ratio):]).reset_index(drop=True)\n",
    "    \n",
    "    return (data_train, data_test)"
   ]
  },
  {
   "cell_type": "code",
   "execution_count": 7,
   "metadata": {
    "ExecuteTime": {
     "end_time": "2018-09-30T07:17:50.622751Z",
     "start_time": "2018-09-30T07:17:50.605706Z"
    }
   },
   "outputs": [],
   "source": [
    "def get_data_haberman(ratio = 0.8):\n",
    "    data = pd.read_csv('./data_haberman.csv', names=['V1', 'V2', 'V3', 'type'])\n",
    "    data['type'] = data['type'].apply(lambda x: 0 if x == 1 else x)\n",
    "    data['V1'] = data['V1'].apply(lambda x: float(x) / 100.0)\n",
    "    data['V2'] = data['V2'].apply(lambda x: float(x) / 100.0)\n",
    "    data.drop(columns = 'V2', inplace = True)\n",
    "    \n",
    "    data = data.sample(frac = 1).reset_index(drop=True)\n",
    "    data_posi = data[data.type == 2].sample(frac = 1).reset_index(drop=True)\n",
    "    data_nega = data[data.type == 0].sample(frac = 1).reset_index(drop=True)\n",
    "    data_train = data_posi[:int(len(data_posi)*ratio)].append(data_nega[:int(len(data_nega)*ratio)]).reset_index(drop=True)\n",
    "    data_test = data_posi[int(len(data_posi)*ratio):].append(data_nega[int(len(data_nega)*ratio):]).reset_index(drop=True)\n",
    "    \n",
    "    return (data_train, data_test)"
   ]
  },
  {
   "cell_type": "code",
   "execution_count": 8,
   "metadata": {
    "ExecuteTime": {
     "end_time": "2018-09-30T07:17:51.945326Z",
     "start_time": "2018-09-30T07:17:51.923955Z"
    }
   },
   "outputs": [],
   "source": [
    "def get_data_tic(ratio = 0.8):\n",
    "    data = pd.read_csv('./data_tic_tac_toc.csv', names=['V1', 'V2', 'V3', 'V4', 'V5', 'V6', 'V7', 'V8', 'V9', 'type'])\n",
    "    data['type'] = data['type'].apply(lambda x: 2 if x == 'positive' else 0)\n",
    "    one_hot = pd.get_dummies(data=data.iloc[:,:-1])\n",
    "    data = data.drop(data.columns[:-1], axis=1)\n",
    "    data = pd.concat([one_hot, data], axis=1)\n",
    "    data = data.sample(frac = 1).reset_index(drop=True)\n",
    "    data_posi = data[data.type == 2].sample(frac = 1).reset_index(drop=True)\n",
    "    data_nega = data[data.type == 0].sample(frac = 1).reset_index(drop=True)\n",
    "    data_train = data_posi[:int(len(data_posi)*ratio)].append(data_nega[:int(len(data_nega)*ratio)]).reset_index(drop=True)\n",
    "    data_test = data_posi[int(len(data_posi)*ratio):].append(data_nega[int(len(data_nega)*ratio):]).reset_index(drop=True)\n",
    "    \n",
    "    return (data_train, data_test)"
   ]
  },
  {
   "cell_type": "code",
   "execution_count": 99,
   "metadata": {
    "ExecuteTime": {
     "end_time": "2018-09-30T07:43:05.135277Z",
     "start_time": "2018-09-30T07:43:05.108128Z"
    }
   },
   "outputs": [],
   "source": [
    "class DecisionTree(object):\n",
    "    def __init__(self, data_train, weights, max_dep = 1, col_idx = None):\n",
    "        self.__columns = data_train.columns\n",
    "        self.__col_idx = col_idx\n",
    "        self.__data_train = data_train\n",
    "        self.__weights = weights\n",
    "        self.__max_dep = max_dep\n",
    "        self.__root = self.dfs(data_train, weights)\n",
    "    def get_root(self):\n",
    "        return self.__root\n",
    "    def get_colnames(self):\n",
    "        return self.__columns\n",
    "    def get_idx(self):\n",
    "        return self.__col_idx\n",
    "    \n",
    "    def Entropy(self, p1):\n",
    "        if p1 < 1e-6 or p1 > 1.0 - 1e-6:\n",
    "            return 0.0\n",
    "        else:\n",
    "            return -(p1 * math.log2(p1) + (1 - p1) * math.log2(1 - p1))\n",
    "    \n",
    "    def Gain(self, data, weights, idx, split):\n",
    "        \n",
    "        l_idx, r_idx = np.where(data.iloc[:,idx] < split)[0], np.where(data.iloc[:,idx] >= split)[0]\n",
    "        data_l, data_r = data.iloc[l_idx], data.iloc[r_idx]\n",
    "        weights_l, weights_r = weights[l_idx], weights[r_idx]\n",
    "\n",
    "        p1 = weights[np.where(data.iloc[:,-1] == 2)[0]].sum() / weights.sum()\n",
    "        gain = self.Entropy(p1)\n",
    "        \n",
    "        p1_l = weights_l[np.where(data_l.iloc[:,-1] == 2)[0]].sum() / float(weights_l.sum())\n",
    "        p1_r = weights_r[np.where(data_r.iloc[:,-1] == 2)[0]].sum() / float(weights_r.sum())\n",
    "        gain -= weights_l.sum() / float(weights.sum()) * self.Entropy(p1_l)\n",
    "        gain -= weights_r.sum() / float(weights.sum()) * self.Entropy(p1_r)\n",
    "        \n",
    "        return gain\n",
    "    \n",
    "    def get_partition(self, data, weights):\n",
    "        max_gain, best_idx, best_split = 0.0, -1, 0.0\n",
    "        n, m = data.shape\n",
    "        for idx in range(m - 1):\n",
    "            col = np.unique(np.array(data.iloc[:,idx]))\n",
    "            for k in range(len(col) - 1):\n",
    "                split = (col[k] + col[k + 1]) / 2\n",
    "                gain = self.Gain(data, weights, idx, split)\n",
    "                if gain > max_gain + 1e-6:\n",
    "                    max_gain, best_idx, best_split = gain, idx, split\n",
    "                \n",
    "        return (best_idx, best_split)\n",
    "    \n",
    "    def dfs(self, data, weights, dep = 0):\n",
    "\n",
    "        node, type_count = {}, np.bincount(data.iloc[:,-1])\n",
    "        \n",
    "        best_idx, split = self.get_partition(data, weights)\n",
    "        if dep == self.__max_dep or best_idx == -1:\n",
    "            node['type'] = np.argmax(type_count) - 1\n",
    "            return node\n",
    "        \n",
    "        l_idx, r_idx = np.where(data.iloc[:,best_idx] < split)[0], np.where(data.iloc[:,best_idx] >= split)[0]\n",
    "        if len(l_idx) < 1 or len(r_idx) < 1:\n",
    "            node['type'] = np.argmax(type_count) - 1\n",
    "        else:\n",
    "            node['<'] = self.dfs(data.iloc[l_idx], weights[l_idx], dep + 1)\n",
    "            node['>='] = self.dfs(data.iloc[r_idx], weights[r_idx], dep + 1)\n",
    "            node['idx'], node['fea'], node['split'] = best_idx, data.columns[best_idx], split\n",
    "            \n",
    "        return node\n",
    "    \n",
    "    def predict(self, sample, to_output = False):\n",
    "        node = self.get_root()\n",
    "        while (True):\n",
    "            if 'type' in node:\n",
    "                _s, _n = sample[-1] - 1, node['type']\n",
    "                if to_output == True: print ('label: {}, predict: {}'.format(_s, _n))\n",
    "                return (_s, _n)\n",
    "            elif sample[node['idx']] < node['split']:\n",
    "                node = node['<']\n",
    "            elif sample[node['idx']] >= node['split']:\n",
    "                node = node['>=']"
   ]
  },
  {
   "cell_type": "code",
   "execution_count": 143,
   "metadata": {
    "ExecuteTime": {
     "end_time": "2018-09-30T06:39:57.800866Z",
     "start_time": "2018-09-30T06:39:57.693828Z"
    }
   },
   "outputs": [
    {
     "name": "stdout",
     "output_type": "stream",
     "text": [
      "label: 1.0, predict: -1\n",
      "label: 1.0, predict: 1\n",
      "label: 1.0, predict: 1\n",
      "label: 1.0, predict: 1\n",
      "label: 1.0, predict: 1\n",
      "label: -1.0, predict: -1\n",
      "label: -1.0, predict: 1\n",
      "label: -1.0, predict: -1\n",
      "label: -1.0, predict: -1\n",
      "label: -1.0, predict: -1\n",
      "label: -1.0, predict: -1\n"
     ]
    }
   ],
   "source": [
    "weights = np.random.random(len(data_train)); weights /= weights.sum()\n",
    "dt = DecisionTree(data_train = data_train, weights = weights)\n",
    "\n",
    "for i in range(len(data_train)):\n",
    "    dt.predict(data_train.iloc[i], to_output = True)"
   ]
  },
  {
   "cell_type": "markdown",
   "metadata": {},
   "source": [
    "## AdaBoost"
   ]
  },
  {
   "cell_type": "code",
   "execution_count": 10,
   "metadata": {
    "ExecuteTime": {
     "end_time": "2018-09-30T07:17:58.941616Z",
     "start_time": "2018-09-30T07:17:58.911083Z"
    }
   },
   "outputs": [],
   "source": [
    "class AdaBoost(object):\n",
    "    def __init__(self, max_dep = 1, T = 20):\n",
    "        self.classifiers = []\n",
    "        self.classifier_weights = [] #np.zeros(T, np.float32)\n",
    "        self.max_dep = max_dep\n",
    "        self.T = T\n",
    "        self.model_info = [] #np.zeros((T, 3), np.float32)\n",
    "\n",
    "    def fit(self, data_train, data_test, to_output = False):\n",
    "        n, m = len(data_train), len(data_test)\n",
    "        weights = np.ones(n, np.float32) / float(n)\n",
    "        test_matrix = np.zeros((self.T, n), np.float32)\n",
    "        \n",
    "        for i in range(self.T):\n",
    "            dt = DecisionTree(data_train = data_train, max_dep = self.max_dep, weights = weights)\n",
    "            \n",
    "            label_list, pred_list = np.zeros(n), np.zeros(n)\n",
    "            for j in range(n):\n",
    "                label_list[j], pred_list[j] = dt.predict(data_train.iloc[j])\n",
    "            \n",
    "            err_ratio = weights[(pred_list != label_list)].sum() / weights.sum() + 1e-8\n",
    "            \n",
    "            if err_ratio > 0.5 - 0.01:\n",
    "                restart = False\n",
    "                for j in range(2):\n",
    "                    weights = np.random.random(n)\n",
    "                    weights /= weights.sum()\n",
    "                    dt = DecisionTree(data_train = data_train, max_dep = self.max_dep, weights = weights)\n",
    "                    label_list, pred_list = np.zeros(n), np.zeros(n)\n",
    "                    for j in range(n):\n",
    "                        label_list[j], pred_list[j] = dt.predict(data_train.iloc[j])\n",
    "                    err_ratio = weights[(pred_list != label_list)].sum() / weights.sum() + 1e-8\n",
    "                    if err_ratio <= 0.5 - 0.01: restart = True; break\n",
    "                if restart == False:\n",
    "                    test_matrix = test_matrix[:i,:]\n",
    "                    print ('Invalid train in iter {}\\n'.format(i))\n",
    "                    break\n",
    "            \n",
    "            alpha = 0.5 * np.log((1 - err_ratio) / err_ratio)\n",
    "            self.classifier_weights.append(alpha)\n",
    "            train_acc, test_acc = 0.0, 0.0\n",
    "            \n",
    "            for j in range(n):\n",
    "                train_acc += self.predict(data_train.iloc[j])\n",
    "            train_acc = train_acc / float(n)\n",
    "            \n",
    "            for j in range(m):\n",
    "                test_acc += self.predict(data_test.iloc[j])\n",
    "            test_acc = test_acc / float(m)\n",
    "            self.model_info.append(np.array([i, train_acc, test_acc]))\n",
    "            \n",
    "            if to_output == True:\n",
    "                print ('In round {}, err_ratio = {}, alpha = {}'.format(i, err_ratio, alpha))\n",
    "                print ('train_accuracy: {:6f}'.format(train_acc))\n",
    "                print ('test_accuracy: {:6f}'.format(test_acc))\n",
    "            \n",
    "            weights *= np.exp(-alpha * pred_list * label_list)\n",
    "            weights /= weights.sum()\n",
    "        \n",
    "            test_matrix[i,:] = pred_list\n",
    "            self.classifiers.append(dt)\n",
    "            \n",
    "            if i and err_ratio < 1e-6:\n",
    "                test_matrix = test_matrix[:(i+1),:]\n",
    "                break\n",
    "                \n",
    "        output = np.sum((np.array(self.classifier_weights).reshape(-1,1) * test_matrix), axis = 0)\n",
    "        output = np.sign(output)\n",
    "        \n",
    "        return np.array(self.model_info)\n",
    "    \n",
    "    def predict(self, sample, to_output = False):\n",
    "        \n",
    "        sz = len(self.classifiers)\n",
    "        pred_list = np.zeros(sz, np.float32)\n",
    "        for (i, dt) in enumerate(self.classifiers):\n",
    "            (_, pred_list[i]) = dt.predict(sample)\n",
    "        output = np.dot(np.array(self.classifier_weights)[:sz,], pred_list)\n",
    "        output = np.sign(output)\n",
    "            \n",
    "        if to_output == True:\n",
    "            print ('label = {}, output = {}'.format(sample[-1] - 1, output))\n",
    "        return (abs(sample[-1] - 1 - output) < 1e-6)"
   ]
  },
  {
   "cell_type": "code",
   "execution_count": 25,
   "metadata": {
    "ExecuteTime": {
     "end_time": "2018-09-30T03:05:21.174512Z",
     "start_time": "2018-09-30T03:04:00.736388Z"
    },
    "collapsed": true
   },
   "outputs": [
    {
     "name": "stdout",
     "output_type": "stream",
     "text": [
      "In round 0, err_ratio = 0.07611941801143646, alpha = 1.248139713145373\n",
      "train_accuracy: 0.000000\n",
      "test_accuracy: 0.000000\n",
      "In round 1, err_ratio = 0.09553677843643188, alpha = 1.1239151772603238\n",
      "train_accuracy: 0.923881\n",
      "test_accuracy: 0.906250\n",
      "In round 2, err_ratio = 0.12909401463104248, alpha = 0.9544965488956477\n",
      "train_accuracy: 0.923881\n",
      "test_accuracy: 0.906250\n",
      "In round 3, err_ratio = 0.2209077875478363, alpha = 0.6301920240941099\n",
      "train_accuracy: 0.970149\n",
      "test_accuracy: 0.944444\n",
      "In round 4, err_ratio = 0.07107440217113488, alpha = 1.2851507004467395\n",
      "train_accuracy: 0.970149\n",
      "test_accuracy: 0.944444\n",
      "In round 5, err_ratio = 0.0948786880129544, alpha = 1.1277349369069734\n",
      "train_accuracy: 0.973134\n",
      "test_accuracy: 0.944444\n",
      "In round 6, err_ratio = 0.09547324165312499, alpha = 1.1242829359323667\n",
      "train_accuracy: 0.974627\n",
      "test_accuracy: 0.961806\n",
      "In round 7, err_ratio = 0.2400529432398179, alpha = 0.5761946364247692\n",
      "train_accuracy: 0.986567\n",
      "test_accuracy: 0.951389\n",
      "In round 8, err_ratio = 0.448473874020163, alpha = 0.10341939112946345\n",
      "train_accuracy: 0.979104\n",
      "test_accuracy: 0.951389\n",
      "In round 9, err_ratio = 0.08172653016801779, alpha = 1.2095582839329664\n",
      "train_accuracy: 0.980597\n",
      "test_accuracy: 0.951389\n",
      "In round 10, err_ratio = 0.10903115263116704, alpha = 1.050337908918794\n",
      "train_accuracy: 0.968657\n",
      "test_accuracy: 0.951389\n",
      "In round 11, err_ratio = 0.21285617294554096, alpha = 0.653897146020681\n",
      "train_accuracy: 0.979104\n",
      "test_accuracy: 0.961806\n",
      "In round 12, err_ratio = 0.21389224675391155, alpha = 0.6508107526526946\n",
      "train_accuracy: 0.977612\n",
      "test_accuracy: 0.958333\n",
      "In round 13, err_ratio = 0.11258429167493911, alpha = 1.0323056699406241\n",
      "train_accuracy: 0.979104\n",
      "test_accuracy: 0.954861\n",
      "In round 14, err_ratio = 0.1813428723899864, alpha = 0.7536378933464014\n",
      "train_accuracy: 0.985075\n",
      "test_accuracy: 0.968750\n",
      "In round 15, err_ratio = 0.4285544149558054, alpha = 0.14387577253017392\n",
      "train_accuracy: 0.985075\n",
      "test_accuracy: 0.961806\n",
      "In round 16, err_ratio = 0.07806927032481172, alpha = 1.2344367882818958\n",
      "train_accuracy: 0.985075\n",
      "test_accuracy: 0.961806\n",
      "In round 17, err_ratio = 0.10020515975697024, alpha = 1.0974735500737638\n",
      "train_accuracy: 0.982090\n",
      "test_accuracy: 0.958333\n",
      "In round 18, err_ratio = 0.24634580333346376, alpha = 0.5590986921172317\n",
      "train_accuracy: 0.983582\n",
      "test_accuracy: 0.965278\n",
      "In round 19, err_ratio = 0.38245985765071316, alpha = 0.23956018690073544\n",
      "train_accuracy: 0.983582\n",
      "test_accuracy: 0.965278\n"
     ]
    }
   ],
   "source": [
    "np.random.seed(1)\n",
    "(data_train, data_test) = get_data_tic()\n",
    "\n",
    "boost = AdaBoost(T = 20, max_dep = 5)\n",
    "model_info = boost.fit(data_train, data_test, to_output = True)"
   ]
  },
  {
   "cell_type": "code",
   "execution_count": 103,
   "metadata": {
    "ExecuteTime": {
     "end_time": "2018-09-30T07:43:42.867896Z",
     "start_time": "2018-09-30T07:43:42.848605Z"
    }
   },
   "outputs": [],
   "source": [
    "def plot_margin(model, scale = 100):\n",
    "    cols = data_test.columns\n",
    "    plt.xlabel(cols[0])\n",
    "    plt.ylabel(cols[1])\n",
    "    mx_x, mx_y = np.array(data_test.iloc[:,0]).max(), np.array(data_test.iloc[:,1]).max()\n",
    "    \n",
    "    xv, yv = np.meshgrid(np.linspace(0, mx_x, scale), np.linspace(0, mx_y, scale), sparse=False, indexing='ij')\n",
    "    posi_list, nega_list = [], []\n",
    "    for i in range(len(xv)):\n",
    "        for j in range(len(yv)):\n",
    "            cur = np.array([xv[i,j], yv[i,j], 2.0])\n",
    "            if model.predict(cur) == True:\n",
    "                posi_list.append(np.array([cur[0], cur[1]]))\n",
    "            else:\n",
    "                nega_list.append(np.array([cur[0], cur[1]]))\n",
    "    posi_list, nega_list = np.array(posi_list), np.array(nega_list)\n",
    "#     print (posi_list)\n",
    "    \n",
    "    plt.scatter(nega_list[:,0], nega_list[:,1], color='blue')\n",
    "    plt.scatter(posi_list[:,0], posi_list[:,1], color='cyan')\n",
    "    plt.scatter(data_test.iloc[:,0], data_test.iloc[:,1], c = data_test.iloc[:,2], marker='*', cmap = plt.cm.autumn)"
   ]
  },
  {
   "cell_type": "code",
   "execution_count": 27,
   "metadata": {
    "ExecuteTime": {
     "end_time": "2018-09-30T07:22:25.496540Z",
     "start_time": "2018-09-30T07:22:25.479458Z"
    }
   },
   "outputs": [],
   "source": [
    "def plot_splitter(model):\n",
    "    plt.scatter(data_test.iloc[:,0], data_test.iloc[:,1], c = data_test.iloc[:,2], cmap = plt.cm.autumn)\n",
    "    cols = data_test.columns\n",
    "    plt.xlabel(cols[0])\n",
    "    plt.ylabel(cols[1])\n",
    "    for cf in model.classifiers:\n",
    "        root = cf.get_root()\n",
    "        if root['fea'] == cols[0]:\n",
    "            plt.vlines(root['split'], 0.0, 0.5)\n",
    "        else:\n",
    "            plt.hlines(root['split'], 0.0, 0.8)\n",
    "        print (root.items())"
   ]
  },
  {
   "cell_type": "code",
   "execution_count": 13,
   "metadata": {
    "ExecuteTime": {
     "end_time": "2018-09-30T07:18:02.305825Z",
     "start_time": "2018-09-30T07:18:02.303159Z"
    }
   },
   "outputs": [],
   "source": [
    "def plot_acc(model_info):\n",
    "    plt.plot(model_info[:,0], model_info[:,1])\n",
    "    plt.plot(model_info[:,0], model_info[:,2])\n",
    "    plt.legend(['train_accuracy', 'test_accuracy'])"
   ]
  },
  {
   "cell_type": "code",
   "execution_count": 55,
   "metadata": {
    "ExecuteTime": {
     "end_time": "2018-09-30T03:09:56.532566Z",
     "start_time": "2018-09-30T03:09:56.348996Z"
    },
    "collapsed": true
   },
   "outputs": [
    {
     "name": "stdout",
     "output_type": "stream",
     "text": [
      "dict_items([('<', {'<': {'<': {'type': 1}, '>=': {'<': {'<': {'type': 1}, '>=': {'type': -1}, 'idx': 19, 'fea': 'V7_o', 'split': 0.5}, '>=': {'<': {'type': 1}, '>=': {'type': -1}, 'idx': 4, 'fea': 'V2_o', 'split': 0.5}, 'idx': 7, 'fea': 'V3_o', 'split': 0.5}, 'idx': 1, 'fea': 'V1_o', 'split': 0.5}, '>=': {'<': {'<': {'type': 1}, '>=': {'<': {'type': 1}, '>=': {'type': -1}, 'idx': 16, 'fea': 'V6_o', 'split': 0.5}, 'idx': 7, 'fea': 'V3_o', 'split': 0.5}, '>=': {'<': {'<': {'type': 1}, '>=': {'type': 1}, 'idx': 0, 'fea': 'V1_b', 'split': 0.5}, '>=': {'type': -1}, 'idx': 22, 'fea': 'V8_o', 'split': 0.5}, 'idx': 19, 'fea': 'V7_o', 'split': 0.5}, 'idx': 25, 'fea': 'V9_o', 'split': 0.5}), ('>=', {'<': {'<': {'type': -1}, '>=': {'<': {'<': {'type': 1}, '>=': {'type': -1}, 'idx': 10, 'fea': 'V4_o', 'split': 0.5}, '>=': {'<': {'type': -1}, '>=': {'type': 1}, 'idx': 2, 'fea': 'V1_x', 'split': 0.5}, 'idx': 17, 'fea': 'V6_x', 'split': 0.5}, 'idx': 20, 'fea': 'V7_x', 'split': 0.5}, '>=': {'<': {'<': {'type': -1}, '>=': {'<': {'type': -1}, '>=': {'type': 1}, 'idx': 17, 'fea': 'V6_x', 'split': 0.5}, 'idx': 26, 'fea': 'V9_x', 'split': 0.5}, '>=': {'<': {'<': {'type': -1}, '>=': {'type': 1}, 'idx': 21, 'fea': 'V8_b', 'split': 0.5}, '>=': {'type': 1}, 'idx': 5, 'fea': 'V2_x', 'split': 0.5}, 'idx': 2, 'fea': 'V1_x', 'split': 0.5}, 'idx': 8, 'fea': 'V3_x', 'split': 0.5}), ('idx', 13), ('fea', 'V5_o'), ('split', 0.5)])\n",
      "dict_items([('<', {'<': {'<': {'<': {'<': {'type': 1}, '>=': {'type': 1}, 'idx': 16, 'fea': 'V6_o', 'split': 0.5}, '>=': {'<': {'type': 1}, '>=': {'type': 1}, 'idx': 1, 'fea': 'V1_o', 'split': 0.5}, 'idx': 10, 'fea': 'V4_o', 'split': 0.5}, '>=': {'<': {'<': {'type': 1}, '>=': {'type': -1}, 'idx': 4, 'fea': 'V2_o', 'split': 0.5}, '>=': {'<': {'type': 1}, '>=': {'type': -1}, 'idx': 24, 'fea': 'V9_b', 'split': 0.5}, 'idx': 23, 'fea': 'V8_x', 'split': 0.5}, 'idx': 13, 'fea': 'V5_o', 'split': 0.5}, '>=': {'<': {'<': {'type': 1}, '>=': {'<': {'type': -1}, '>=': {'type': 1}, 'idx': 20, 'fea': 'V7_x', 'split': 0.5}, 'idx': 13, 'fea': 'V5_o', 'split': 0.5}, '>=': {'<': {'<': {'type': -1}, '>=': {'type': -1}, 'idx': 24, 'fea': 'V9_b', 'split': 0.5}, '>=': {'<': {'type': -1}, '>=': {'type': 1}, 'idx': 10, 'fea': 'V4_o', 'split': 0.5}, 'idx': 13, 'fea': 'V5_o', 'split': 0.5}, 'idx': 1, 'fea': 'V1_o', 'split': 0.5}, 'idx': 7, 'fea': 'V3_o', 'split': 0.5}), ('>=', {'<': {'<': {'<': {'<': {'type': 1}, '>=': {'type': -1}, 'idx': 13, 'fea': 'V5_o', 'split': 0.5}, '>=': {'<': {'type': -1}, '>=': {'type': 1}, 'idx': 21, 'fea': 'V8_b', 'split': 0.5}, 'idx': 19, 'fea': 'V7_o', 'split': 0.5}, '>=': {'<': {'<': {'type': -1}, '>=': {'type': -1}, 'idx': 11, 'fea': 'V4_x', 'split': 0.5}, '>=': {'<': {'type': -1}, '>=': {'type': 1}, 'idx': 2, 'fea': 'V1_x', 'split': 0.5}, 'idx': 8, 'fea': 'V3_x', 'split': 0.5}, 'idx': 5, 'fea': 'V2_x', 'split': 0.5}, '>=': {'<': {'<': {'type': -1}, '>=': {'<': {'type': 1}, '>=': {'type': -1}, 'idx': 7, 'fea': 'V3_o', 'split': 0.5}, 'idx': 2, 'fea': 'V1_x', 'split': 0.5}, '>=': {'<': {'<': {'type': 1}, '>=': {'type': -1}, 'idx': 2, 'fea': 'V1_x', 'split': 0.5}, '>=': {'type': 1}, 'idx': 5, 'fea': 'V2_x', 'split': 0.5}, 'idx': 14, 'fea': 'V5_x', 'split': 0.5}, 'idx': 23, 'fea': 'V8_x', 'split': 0.5}), ('idx', 25), ('fea', 'V9_o'), ('split', 0.5)])\n",
      "dict_items([('<', {'<': {'<': {'<': {'<': {'type': 1}, '>=': {'type': 1}, 'idx': 9, 'fea': 'V4_b', 'split': 0.5}, '>=': {'<': {'type': 1}, '>=': {'type': 1}, 'idx': 7, 'fea': 'V3_o', 'split': 0.5}, 'idx': 17, 'fea': 'V6_x', 'split': 0.5}, '>=': {'<': {'<': {'type': 1}, '>=': {'type': -1}, 'idx': 19, 'fea': 'V7_o', 'split': 0.5}, '>=': {'<': {'type': 1}, '>=': {'type': -1}, 'idx': 4, 'fea': 'V2_o', 'split': 0.5}, 'idx': 22, 'fea': 'V8_o', 'split': 0.5}, 'idx': 13, 'fea': 'V5_o', 'split': 0.5}, '>=': {'<': {'<': {'<': {'type': -1}, '>=': {'type': -1}, 'idx': 2, 'fea': 'V1_x', 'split': 0.5}, '>=': {'<': {'type': 1}, '>=': {'type': 1}, 'idx': 21, 'fea': 'V8_b', 'split': 0.5}, 'idx': 20, 'fea': 'V7_x', 'split': 0.5}, '>=': {'<': {'<': {'type': 1}, '>=': {'type': -1}, 'idx': 20, 'fea': 'V7_x', 'split': 0.5}, '>=': {'<': {'type': 1}, '>=': {'type': -1}, 'idx': 16, 'fea': 'V6_o', 'split': 0.5}, 'idx': 2, 'fea': 'V1_x', 'split': 0.5}, 'idx': 23, 'fea': 'V8_x', 'split': 0.5}, 'idx': 25, 'fea': 'V9_o', 'split': 0.5}), ('>=', {'<': {'<': {'<': {'<': {'type': 1}, '>=': {'type': 1}, 'idx': 7, 'fea': 'V3_o', 'split': 0.5}, '>=': {'<': {'type': 1}, '>=': {'type': -1}, 'idx': 16, 'fea': 'V6_o', 'split': 0.5}, 'idx': 13, 'fea': 'V5_o', 'split': 0.5}, '>=': {'type': 1}, 'idx': 15, 'fea': 'V6_b', 'split': 0.5}, '>=': {'<': {'<': {'<': {'type': 1}, '>=': {'type': 1}, 'idx': 13, 'fea': 'V5_o', 'split': 0.5}, '>=': {'<': {'type': -1}, '>=': {'type': 1}, 'idx': 5, 'fea': 'V2_x', 'split': 0.5}, 'idx': 25, 'fea': 'V9_o', 'split': 0.5}, '>=': {'type': -1}, 'idx': 1, 'fea': 'V1_o', 'split': 0.5}, 'idx': 19, 'fea': 'V7_o', 'split': 0.5}), ('idx', 10), ('fea', 'V4_o'), ('split', 0.5)])\n",
      "dict_items([('<', {'<': {'<': {'<': {'<': {'type': 1}, '>=': {'type': 1}, 'idx': 4, 'fea': 'V2_o', 'split': 0.5}, '>=': {'type': 1}, 'idx': 21, 'fea': 'V8_b', 'split': 0.5}, '>=': {'<': {'<': {'type': -1}, '>=': {'type': 1}, 'idx': 9, 'fea': 'V4_b', 'split': 0.5}, '>=': {'<': {'type': 1}, '>=': {'type': -1}, 'idx': 25, 'fea': 'V9_o', 'split': 0.5}, 'idx': 17, 'fea': 'V6_x', 'split': 0.5}, 'idx': 1, 'fea': 'V1_o', 'split': 0.5}, '>=': {'<': {'<': {'<': {'type': 1}, '>=': {'type': 1}, 'idx': 23, 'fea': 'V8_x', 'split': 0.5}, '>=': {'<': {'type': -1}, '>=': {'type': -1}, 'idx': 14, 'fea': 'V5_x', 'split': 0.5}, 'idx': 25, 'fea': 'V9_o', 'split': 0.5}, '>=': {'<': {'<': {'type': -1}, '>=': {'type': -1}, 'idx': 2, 'fea': 'V1_x', 'split': 0.5}, '>=': {'<': {'type': 1}, '>=': {'type': -1}, 'idx': 9, 'fea': 'V4_b', 'split': 0.5}, 'idx': 14, 'fea': 'V5_x', 'split': 0.5}, 'idx': 17, 'fea': 'V6_x', 'split': 0.5}, 'idx': 7, 'fea': 'V3_o', 'split': 0.5}), ('>=', {'<': {'<': {'<': {'<': {'type': 1}, '>=': {'type': 1}, 'idx': 5, 'fea': 'V2_x', 'split': 0.5}, '>=': {'<': {'type': 1}, '>=': {'type': -1}, 'idx': 13, 'fea': 'V5_o', 'split': 0.5}, 'idx': 6, 'fea': 'V3_b', 'split': 0.5}, '>=': {'<': {'<': {'type': -1}, '>=': {'type': 1}, 'idx': 18, 'fea': 'V7_b', 'split': 0.5}, '>=': {'<': {'type': 1}, '>=': {'type': -1}, 'idx': 19, 'fea': 'V7_o', 'split': 0.5}, 'idx': 0, 'fea': 'V1_b', 'split': 0.5}, 'idx': 25, 'fea': 'V9_o', 'split': 0.5}, '>=': {'<': {'type': 1}, '>=': {'<': {'<': {'type': 1}, '>=': {'type': 1}, 'idx': 7, 'fea': 'V3_o', 'split': 0.5}, '>=': {'type': -1}, 'idx': 1, 'fea': 'V1_o', 'split': 0.5}, 'idx': 19, 'fea': 'V7_o', 'split': 0.5}, 'idx': 15, 'fea': 'V6_b', 'split': 0.5}), ('idx', 10), ('fea', 'V4_o'), ('split', 0.5)])\n",
      "dict_items([('<', {'<': {'<': {'type': 1}, '>=': {'<': {'<': {'type': 1}, '>=': {'type': -1}, 'idx': 1, 'fea': 'V1_o', 'split': 0.5}, '>=': {'<': {'type': 1}, '>=': {'type': -1}, 'idx': 22, 'fea': 'V8_o', 'split': 0.5}, 'idx': 25, 'fea': 'V9_o', 'split': 0.5}, 'idx': 19, 'fea': 'V7_o', 'split': 0.5}, '>=': {'<': {'<': {'type': 1}, '>=': {'<': {'type': 1}, '>=': {'type': -1}, 'idx': 16, 'fea': 'V6_o', 'split': 0.5}, 'idx': 25, 'fea': 'V9_o', 'split': 0.5}, '>=': {'<': {'<': {'type': 1}, '>=': {'type': 1}, 'idx': 24, 'fea': 'V9_b', 'split': 0.5}, '>=': {'type': -1}, 'idx': 4, 'fea': 'V2_o', 'split': 0.5}, 'idx': 1, 'fea': 'V1_o', 'split': 0.5}, 'idx': 7, 'fea': 'V3_o', 'split': 0.5}), ('>=', {'<': {'<': {'type': -1}, '>=': {'<': {'<': {'type': 1}, '>=': {'type': -1}, 'idx': 10, 'fea': 'V4_o', 'split': 0.5}, '>=': {'<': {'type': -1}, '>=': {'type': 1}, 'idx': 2, 'fea': 'V1_x', 'split': 0.5}, 'idx': 17, 'fea': 'V6_x', 'split': 0.5}, 'idx': 20, 'fea': 'V7_x', 'split': 0.5}, '>=': {'<': {'<': {'type': -1}, '>=': {'<': {'type': -1}, '>=': {'type': 1}, 'idx': 17, 'fea': 'V6_x', 'split': 0.5}, 'idx': 26, 'fea': 'V9_x', 'split': 0.5}, '>=': {'<': {'<': {'type': -1}, '>=': {'type': 1}, 'idx': 21, 'fea': 'V8_b', 'split': 0.5}, '>=': {'type': 1}, 'idx': 5, 'fea': 'V2_x', 'split': 0.5}, 'idx': 2, 'fea': 'V1_x', 'split': 0.5}, 'idx': 8, 'fea': 'V3_x', 'split': 0.5}), ('idx', 13), ('fea', 'V5_o'), ('split', 0.5)])\n",
      "dict_items([('<', {'<': {'<': {'<': {'<': {'type': 1}, '>=': {'type': 1}, 'idx': 16, 'fea': 'V6_o', 'split': 0.5}, '>=': {'<': {'type': 1}, '>=': {'type': 1}, 'idx': 19, 'fea': 'V7_o', 'split': 0.5}, 'idx': 10, 'fea': 'V4_o', 'split': 0.5}, '>=': {'<': {'<': {'type': 1}, '>=': {'type': -1}, 'idx': 20, 'fea': 'V7_x', 'split': 0.5}, '>=': {'<': {'type': 1}, '>=': {'type': -1}, 'idx': 24, 'fea': 'V9_b', 'split': 0.5}, 'idx': 23, 'fea': 'V8_x', 'split': 0.5}, 'idx': 13, 'fea': 'V5_o', 'split': 0.5}, '>=': {'<': {'<': {'type': 1}, '>=': {'<': {'type': -1}, '>=': {'type': 1}, 'idx': 20, 'fea': 'V7_x', 'split': 0.5}, 'idx': 13, 'fea': 'V5_o', 'split': 0.5}, '>=': {'<': {'<': {'type': -1}, '>=': {'type': -1}, 'idx': 24, 'fea': 'V9_b', 'split': 0.5}, '>=': {'<': {'type': -1}, '>=': {'type': 1}, 'idx': 10, 'fea': 'V4_o', 'split': 0.5}, 'idx': 13, 'fea': 'V5_o', 'split': 0.5}, 'idx': 1, 'fea': 'V1_o', 'split': 0.5}, 'idx': 7, 'fea': 'V3_o', 'split': 0.5}), ('>=', {'<': {'<': {'<': {'type': 1}, '>=': {'<': {'type': 1}, '>=': {'type': -1}, 'idx': 22, 'fea': 'V8_o', 'split': 0.5}, 'idx': 19, 'fea': 'V7_o', 'split': 0.5}, '>=': {'<': {'<': {'type': 1}, '>=': {'type': 1}, 'idx': 18, 'fea': 'V7_b', 'split': 0.5}, '>=': {'type': -1}, 'idx': 16, 'fea': 'V6_o', 'split': 0.5}, 'idx': 7, 'fea': 'V3_o', 'split': 0.5}, '>=': {'<': {'type': -1}, '>=': {'<': {'<': {'type': 1}, '>=': {'type': -1}, 'idx': 17, 'fea': 'V6_x', 'split': 0.5}, '>=': {'<': {'type': 1}, '>=': {'type': -1}, 'idx': 5, 'fea': 'V2_x', 'split': 0.5}, 'idx': 7, 'fea': 'V3_o', 'split': 0.5}, 'idx': 2, 'fea': 'V1_x', 'split': 0.5}, 'idx': 13, 'fea': 'V5_o', 'split': 0.5}), ('idx', 25), ('fea', 'V9_o'), ('split', 0.5)])\n",
      "dict_items([('<', {'<': {'<': {'<': {'<': {'type': 1}, '>=': {'type': 1}, 'idx': 7, 'fea': 'V3_o', 'split': 0.5}, '>=': {'<': {'type': 1}, '>=': {'type': 1}, 'idx': 9, 'fea': 'V4_b', 'split': 0.5}, 'idx': 16, 'fea': 'V6_o', 'split': 0.5}, '>=': {'<': {'<': {'type': 1}, '>=': {'type': -1}, 'idx': 19, 'fea': 'V7_o', 'split': 0.5}, '>=': {'<': {'type': 1}, '>=': {'type': -1}, 'idx': 4, 'fea': 'V2_o', 'split': 0.5}, 'idx': 22, 'fea': 'V8_o', 'split': 0.5}, 'idx': 13, 'fea': 'V5_o', 'split': 0.5}, '>=': {'<': {'<': {'<': {'type': 1}, '>=': {'type': -1}, 'idx': 13, 'fea': 'V5_o', 'split': 0.5}, '>=': {'type': 1}, 'idx': 15, 'fea': 'V6_b', 'split': 0.5}, '>=': {'<': {'<': {'type': 1}, '>=': {'type': 1}, 'idx': 13, 'fea': 'V5_o', 'split': 0.5}, '>=': {'type': -1}, 'idx': 1, 'fea': 'V1_o', 'split': 0.5}, 'idx': 19, 'fea': 'V7_o', 'split': 0.5}, 'idx': 10, 'fea': 'V4_o', 'split': 0.5}), ('>=', {'<': {'<': {'<': {'<': {'type': 1}, '>=': {'type': -1}, 'idx': 1, 'fea': 'V1_o', 'split': 0.5}, '>=': {'<': {'type': -1}, '>=': {'type': 1}, 'idx': 0, 'fea': 'V1_b', 'split': 0.5}, 'idx': 23, 'fea': 'V8_x', 'split': 0.5}, '>=': {'<': {'<': {'type': -1}, '>=': {'type': -1}, 'idx': 22, 'fea': 'V8_o', 'split': 0.5}, '>=': {'<': {'type': 1}, '>=': {'type': -1}, 'idx': 16, 'fea': 'V6_o', 'split': 0.5}, 'idx': 3, 'fea': 'V2_b', 'split': 0.5}, 'idx': 7, 'fea': 'V3_o', 'split': 0.5}, '>=': {'<': {'<': {'<': {'type': 1}, '>=': {'type': -1}, 'idx': 16, 'fea': 'V6_o', 'split': 0.5}, '>=': {'<': {'type': 1}, '>=': {'type': -1}, 'idx': 1, 'fea': 'V1_o', 'split': 0.5}, 'idx': 13, 'fea': 'V5_o', 'split': 0.5}, '>=': {'type': 1}, 'idx': 10, 'fea': 'V4_o', 'split': 0.5}, 'idx': 18, 'fea': 'V7_b', 'split': 0.5}), ('idx', 25), ('fea', 'V9_o'), ('split', 0.5)])\n",
      "dict_items([('<', {'<': {'<': {'<': {'<': {'type': -1}, '>=': {'type': 1}, 'idx': 14, 'fea': 'V5_x', 'split': 0.5}, '>=': {'<': {'type': 1}, '>=': {'type': 1}, 'idx': 14, 'fea': 'V5_x', 'split': 0.5}, 'idx': 4, 'fea': 'V2_o', 'split': 0.5}, '>=': {'<': {'<': {'type': 1}, '>=': {'type': -1}, 'idx': 1, 'fea': 'V1_o', 'split': 0.5}, '>=': {'<': {'type': 1}, '>=': {'type': 1}, 'idx': 4, 'fea': 'V2_o', 'split': 0.5}, 'idx': 8, 'fea': 'V3_x', 'split': 0.5}, 'idx': 21, 'fea': 'V8_b', 'split': 0.5}, '>=': {'<': {'<': {'<': {'type': -1}, '>=': {'type': 1}, 'idx': 4, 'fea': 'V2_o', 'split': 0.5}, '>=': {'<': {'type': 1}, '>=': {'type': -1}, 'idx': 13, 'fea': 'V5_o', 'split': 0.5}, 'idx': 24, 'fea': 'V9_b', 'split': 0.5}, '>=': {'<': {'<': {'type': 1}, '>=': {'type': -1}, 'idx': 13, 'fea': 'V5_o', 'split': 0.5}, '>=': {'<': {'type': 1}, '>=': {'type': -1}, 'idx': 25, 'fea': 'V9_o', 'split': 0.5}, 'idx': 19, 'fea': 'V7_o', 'split': 0.5}, 'idx': 8, 'fea': 'V3_x', 'split': 0.5}, 'idx': 22, 'fea': 'V8_o', 'split': 0.5}), ('>=', {'<': {'<': {'<': {'<': {'type': 1}, '>=': {'type': 1}, 'idx': 2, 'fea': 'V1_x', 'split': 0.5}, '>=': {'<': {'type': -1}, '>=': {'type': 1}, 'idx': 22, 'fea': 'V8_o', 'split': 0.5}, 'idx': 10, 'fea': 'V4_o', 'split': 0.5}, '>=': {'<': {'type': 1}, '>=': {'<': {'type': 1}, '>=': {'type': 1}, 'idx': 10, 'fea': 'V4_o', 'split': 0.5}, 'idx': 16, 'fea': 'V6_o', 'split': 0.5}, 'idx': 20, 'fea': 'V7_x', 'split': 0.5}, '>=': {'<': {'<': {'type': -1}, '>=': {'<': {'type': -1}, '>=': {'type': 1}, 'idx': 20, 'fea': 'V7_x', 'split': 0.5}, 'idx': 2, 'fea': 'V1_x', 'split': 0.5}, '>=': {'<': {'<': {'type': 1}, '>=': {'type': -1}, 'idx': 19, 'fea': 'V7_o', 'split': 0.5}, '>=': {'type': 1}, 'idx': 1, 'fea': 'V1_o', 'split': 0.5}, 'idx': 14, 'fea': 'V5_x', 'split': 0.5}, 'idx': 25, 'fea': 'V9_o', 'split': 0.5}), ('idx', 3), ('fea', 'V2_b'), ('split', 0.5)])\n",
      "dict_items([('<', {'<': {'<': {'<': {'<': {'type': 1}, '>=': {'type': 1}, 'idx': 4, 'fea': 'V2_o', 'split': 0.5}, '>=': {'<': {'type': 1}, '>=': {'type': 1}, 'idx': 10, 'fea': 'V4_o', 'split': 0.5}, 'idx': 21, 'fea': 'V8_b', 'split': 0.5}, '>=': {'<': {'<': {'type': 1}, '>=': {'type': 1}, 'idx': 1, 'fea': 'V1_o', 'split': 0.5}, '>=': {'<': {'type': 1}, '>=': {'type': -1}, 'idx': 25, 'fea': 'V9_o', 'split': 0.5}, 'idx': 19, 'fea': 'V7_o', 'split': 0.5}, 'idx': 3, 'fea': 'V2_b', 'split': 0.5}, '>=': {'<': {'<': {'<': {'type': 1}, '>=': {'type': 1}, 'idx': 12, 'fea': 'V5_b', 'split': 0.5}, '>=': {'<': {'type': 1}, '>=': {'type': 1}, 'idx': 22, 'fea': 'V8_o', 'split': 0.5}, 'idx': 25, 'fea': 'V9_o', 'split': 0.5}, '>=': {'<': {'<': {'type': -1}, '>=': {'type': -1}, 'idx': 24, 'fea': 'V9_b', 'split': 0.5}, '>=': {'<': {'type': 1}, '>=': {'type': -1}, 'idx': 12, 'fea': 'V5_b', 'split': 0.5}, 'idx': 23, 'fea': 'V8_x', 'split': 0.5}, 'idx': 5, 'fea': 'V2_x', 'split': 0.5}, 'idx': 6, 'fea': 'V3_b', 'split': 0.5}), ('>=', {'<': {'<': {'<': {'<': {'type': -1}, '>=': {'type': 1}, 'idx': 20, 'fea': 'V7_x', 'split': 0.5}, '>=': {'<': {'type': -1}, '>=': {'type': 1}, 'idx': 26, 'fea': 'V9_x', 'split': 0.5}, 'idx': 8, 'fea': 'V3_x', 'split': 0.5}, '>=': {'<': {'<': {'type': 1}, '>=': {'type': -1}, 'idx': 18, 'fea': 'V7_b', 'split': 0.5}, '>=': {'<': {'type': 1}, '>=': {'type': -1}, 'idx': 7, 'fea': 'V3_o', 'split': 0.5}, 'idx': 24, 'fea': 'V9_b', 'split': 0.5}, 'idx': 16, 'fea': 'V6_o', 'split': 0.5}, '>=': {'<': {'<': {'<': {'type': 1}, '>=': {'type': 1}, 'idx': 19, 'fea': 'V7_o', 'split': 0.5}, '>=': {'<': {'type': -1}, '>=': {'type': 1}, 'idx': 15, 'fea': 'V6_b', 'split': 0.5}, 'idx': 6, 'fea': 'V3_b', 'split': 0.5}, '>=': {'type': -1}, 'idx': 16, 'fea': 'V6_o', 'split': 0.5}, 'idx': 10, 'fea': 'V4_o', 'split': 0.5}), ('idx', 13), ('fea', 'V5_o'), ('split', 0.5)])\n",
      "dict_items([('<', {'<': {'<': {'type': 1}, '>=': {'<': {'<': {'type': 1}, '>=': {'type': -1}, 'idx': 19, 'fea': 'V7_o', 'split': 0.5}, '>=': {'<': {'type': 1}, '>=': {'type': -1}, 'idx': 4, 'fea': 'V2_o', 'split': 0.5}, 'idx': 7, 'fea': 'V3_o', 'split': 0.5}, 'idx': 1, 'fea': 'V1_o', 'split': 0.5}, '>=': {'<': {'<': {'type': 1}, '>=': {'<': {'type': 1}, '>=': {'type': -1}, 'idx': 22, 'fea': 'V8_o', 'split': 0.5}, 'idx': 19, 'fea': 'V7_o', 'split': 0.5}, '>=': {'<': {'<': {'type': 1}, '>=': {'type': 1}, 'idx': 18, 'fea': 'V7_b', 'split': 0.5}, '>=': {'type': -1}, 'idx': 16, 'fea': 'V6_o', 'split': 0.5}, 'idx': 7, 'fea': 'V3_o', 'split': 0.5}, 'idx': 25, 'fea': 'V9_o', 'split': 0.5}), ('>=', {'<': {'<': {'type': -1}, '>=': {'<': {'<': {'type': 1}, '>=': {'type': -1}, 'idx': 10, 'fea': 'V4_o', 'split': 0.5}, '>=': {'<': {'type': -1}, '>=': {'type': 1}, 'idx': 2, 'fea': 'V1_x', 'split': 0.5}, 'idx': 17, 'fea': 'V6_x', 'split': 0.5}, 'idx': 20, 'fea': 'V7_x', 'split': 0.5}, '>=': {'<': {'<': {'type': -1}, '>=': {'<': {'type': -1}, '>=': {'type': 1}, 'idx': 17, 'fea': 'V6_x', 'split': 0.5}, 'idx': 26, 'fea': 'V9_x', 'split': 0.5}, '>=': {'<': {'<': {'type': -1}, '>=': {'type': 1}, 'idx': 21, 'fea': 'V8_b', 'split': 0.5}, '>=': {'type': 1}, 'idx': 5, 'fea': 'V2_x', 'split': 0.5}, 'idx': 2, 'fea': 'V1_x', 'split': 0.5}, 'idx': 8, 'fea': 'V3_x', 'split': 0.5}), ('idx', 13), ('fea', 'V5_o'), ('split', 0.5)])\n",
      "dict_items([('<', {'<': {'<': {'<': {'<': {'type': 1}, '>=': {'type': 1}, 'idx': 16, 'fea': 'V6_o', 'split': 0.5}, '>=': {'<': {'type': 1}, '>=': {'type': 1}, 'idx': 1, 'fea': 'V1_o', 'split': 0.5}, 'idx': 10, 'fea': 'V4_o', 'split': 0.5}, '>=': {'<': {'<': {'type': 1}, '>=': {'type': -1}, 'idx': 16, 'fea': 'V6_o', 'split': 0.5}, '>=': {'<': {'type': 1}, '>=': {'type': -1}, 'idx': 4, 'fea': 'V2_o', 'split': 0.5}, 'idx': 22, 'fea': 'V8_o', 'split': 0.5}, 'idx': 13, 'fea': 'V5_o', 'split': 0.5}, '>=': {'<': {'<': {'type': 1}, '>=': {'<': {'type': -1}, '>=': {'type': 1}, 'idx': 20, 'fea': 'V7_x', 'split': 0.5}, 'idx': 13, 'fea': 'V5_o', 'split': 0.5}, '>=': {'<': {'<': {'type': -1}, '>=': {'type': -1}, 'idx': 24, 'fea': 'V9_b', 'split': 0.5}, '>=': {'<': {'type': -1}, '>=': {'type': 1}, 'idx': 10, 'fea': 'V4_o', 'split': 0.5}, 'idx': 13, 'fea': 'V5_o', 'split': 0.5}, 'idx': 1, 'fea': 'V1_o', 'split': 0.5}, 'idx': 7, 'fea': 'V3_o', 'split': 0.5}), ('>=', {'<': {'<': {'<': {'<': {'type': 1}, '>=': {'type': 1}, 'idx': 17, 'fea': 'V6_x', 'split': 0.5}, '>=': {'<': {'type': -1}, '>=': {'type': 1}, 'idx': 21, 'fea': 'V8_b', 'split': 0.5}, 'idx': 19, 'fea': 'V7_o', 'split': 0.5}, '>=': {'<': {'type': -1}, '>=': {'<': {'type': 1}, '>=': {'type': 1}, 'idx': 19, 'fea': 'V7_o', 'split': 0.5}, 'idx': 14, 'fea': 'V5_x', 'split': 0.5}, 'idx': 1, 'fea': 'V1_o', 'split': 0.5}, '>=': {'<': {'<': {'<': {'type': -1}, '>=': {'type': 1}, 'idx': 11, 'fea': 'V4_x', 'split': 0.5}, '>=': {'type': 1}, 'idx': 0, 'fea': 'V1_b', 'split': 0.5}, '>=': {'type': -1}, 'idx': 16, 'fea': 'V6_o', 'split': 0.5}, 'idx': 7, 'fea': 'V3_o', 'split': 0.5}), ('idx', 25), ('fea', 'V9_o'), ('split', 0.5)])\n",
      "dict_items([('<', {'<': {'<': {'<': {'<': {'type': 1}, '>=': {'type': 1}, 'idx': 14, 'fea': 'V5_x', 'split': 0.5}, '>=': {'<': {'type': -1}, '>=': {'type': 1}, 'idx': 14, 'fea': 'V5_x', 'split': 0.5}, 'idx': 7, 'fea': 'V3_o', 'split': 0.5}, '>=': {'<': {'<': {'type': 1}, '>=': {'type': 1}, 'idx': 20, 'fea': 'V7_x', 'split': 0.5}, '>=': {'<': {'type': 1}, '>=': {'type': 1}, 'idx': 13, 'fea': 'V5_o', 'split': 0.5}, 'idx': 3, 'fea': 'V2_b', 'split': 0.5}, 'idx': 22, 'fea': 'V8_o', 'split': 0.5}, '>=': {'<': {'<': {'<': {'type': 1}, '>=': {'type': -1}, 'idx': 13, 'fea': 'V5_o', 'split': 0.5}, '>=': {'type': 1}, 'idx': 15, 'fea': 'V6_b', 'split': 0.5}, '>=': {'<': {'<': {'type': 1}, '>=': {'type': 1}, 'idx': 13, 'fea': 'V5_o', 'split': 0.5}, '>=': {'type': -1}, 'idx': 1, 'fea': 'V1_o', 'split': 0.5}, 'idx': 19, 'fea': 'V7_o', 'split': 0.5}, 'idx': 10, 'fea': 'V4_o', 'split': 0.5}), ('>=', {'<': {'<': {'<': {'<': {'type': 1}, '>=': {'type': -1}, 'idx': 22, 'fea': 'V8_o', 'split': 0.5}, '>=': {'<': {'type': -1}, '>=': {'type': 1}, 'idx': 21, 'fea': 'V8_b', 'split': 0.5}, 'idx': 4, 'fea': 'V2_o', 'split': 0.5}, '>=': {'<': {'<': {'type': 1}, '>=': {'type': -1}, 'idx': 5, 'fea': 'V2_x', 'split': 0.5}, '>=': {'<': {'type': 1}, '>=': {'type': -1}, 'idx': 16, 'fea': 'V6_o', 'split': 0.5}, 'idx': 18, 'fea': 'V7_b', 'split': 0.5}, 'idx': 7, 'fea': 'V3_o', 'split': 0.5}, '>=': {'<': {'<': {'<': {'type': -1}, '>=': {'type': 1}, 'idx': 14, 'fea': 'V5_x', 'split': 0.5}, '>=': {'<': {'type': 1}, '>=': {'type': -1}, 'idx': 13, 'fea': 'V5_o', 'split': 0.5}, 'idx': 22, 'fea': 'V8_o', 'split': 0.5}, '>=': {'<': {'type': 1}, '>=': {'type': -1}, 'idx': 13, 'fea': 'V5_o', 'split': 0.5}, 'idx': 18, 'fea': 'V7_b', 'split': 0.5}, 'idx': 1, 'fea': 'V1_o', 'split': 0.5}), ('idx', 25), ('fea', 'V9_o'), ('split', 0.5)])\n",
      "dict_items([('<', {'<': {'<': {'<': {'<': {'type': -1}, '>=': {'type': 1}, 'idx': 21, 'fea': 'V8_b', 'split': 0.5}, '>=': {'<': {'type': 1}, '>=': {'type': -1}, 'idx': 1, 'fea': 'V1_o', 'split': 0.5}, 'idx': 10, 'fea': 'V4_o', 'split': 0.5}, '>=': {'<': {'<': {'type': 1}, '>=': {'type': 1}, 'idx': 21, 'fea': 'V8_b', 'split': 0.5}, '>=': {'<': {'type': -1}, '>=': {'type': 1}, 'idx': 2, 'fea': 'V1_x', 'split': 0.5}, 'idx': 24, 'fea': 'V9_b', 'split': 0.5}, 'idx': 20, 'fea': 'V7_x', 'split': 0.5}, '>=': {'<': {'<': {'<': {'type': 1}, '>=': {'type': 1}, 'idx': 17, 'fea': 'V6_x', 'split': 0.5}, '>=': {'<': {'type': 1}, '>=': {'type': 1}, 'idx': 12, 'fea': 'V5_b', 'split': 0.5}, 'idx': 20, 'fea': 'V7_x', 'split': 0.5}, '>=': {'<': {'type': 1}, '>=': {'<': {'type': 1}, '>=': {'type': -1}, 'idx': 16, 'fea': 'V6_o', 'split': 0.5}, 'idx': 13, 'fea': 'V5_o', 'split': 0.5}, 'idx': 3, 'fea': 'V2_b', 'split': 0.5}, 'idx': 22, 'fea': 'V8_o', 'split': 0.5}), ('>=', {'<': {'<': {'<': {'<': {'type': 1}, '>=': {'type': -1}, 'idx': 19, 'fea': 'V7_o', 'split': 0.5}, '>=': {'<': {'type': -1}, '>=': {'type': 1}, 'idx': 21, 'fea': 'V8_b', 'split': 0.5}, 'idx': 17, 'fea': 'V6_x', 'split': 0.5}, '>=': {'<': {'<': {'type': -1}, '>=': {'type': -1}, 'idx': 20, 'fea': 'V7_x', 'split': 0.5}, '>=': {'<': {'type': 1}, '>=': {'type': -1}, 'idx': 19, 'fea': 'V7_o', 'split': 0.5}, 'idx': 15, 'fea': 'V6_b', 'split': 0.5}, 'idx': 7, 'fea': 'V3_o', 'split': 0.5}, '>=': {'<': {'<': {'<': {'type': -1}, '>=': {'type': -1}, 'idx': 3, 'fea': 'V2_b', 'split': 0.5}, '>=': {'<': {'type': 1}, '>=': {'type': -1}, 'idx': 13, 'fea': 'V5_o', 'split': 0.5}, 'idx': 22, 'fea': 'V8_o', 'split': 0.5}, '>=': {'<': {'type': 1}, '>=': {'type': -1}, 'idx': 13, 'fea': 'V5_o', 'split': 0.5}, 'idx': 18, 'fea': 'V7_b', 'split': 0.5}, 'idx': 1, 'fea': 'V1_o', 'split': 0.5}), ('idx', 25), ('fea', 'V9_o'), ('split', 0.5)])\n",
      "dict_items([('<', {'<': {'<': {'<': {'<': {'type': 1}, '>=': {'type': 1}, 'idx': 7, 'fea': 'V3_o', 'split': 0.5}, '>=': {'<': {'type': -1}, '>=': {'type': 1}, 'idx': 21, 'fea': 'V8_b', 'split': 0.5}, 'idx': 13, 'fea': 'V5_o', 'split': 0.5}, '>=': {'<': {'<': {'type': -1}, '>=': {'type': 1}, 'idx': 24, 'fea': 'V9_b', 'split': 0.5}, '>=': {'<': {'type': 1}, '>=': {'type': -1}, 'idx': 7, 'fea': 'V3_o', 'split': 0.5}, 'idx': 4, 'fea': 'V2_o', 'split': 0.5}, 'idx': 1, 'fea': 'V1_o', 'split': 0.5}, '>=': {'<': {'<': {'<': {'type': 1}, '>=': {'type': 1}, 'idx': 9, 'fea': 'V4_b', 'split': 0.5}, '>=': {'<': {'type': 1}, '>=': {'type': 1}, 'idx': 10, 'fea': 'V4_o', 'split': 0.5}, 'idx': 19, 'fea': 'V7_o', 'split': 0.5}, '>=': {'<': {'<': {'type': 1}, '>=': {'type': -1}, 'idx': 10, 'fea': 'V4_o', 'split': 0.5}, '>=': {'<': {'type': -1}, '>=': {'type': 1}, 'idx': 1, 'fea': 'V1_o', 'split': 0.5}, 'idx': 19, 'fea': 'V7_o', 'split': 0.5}, 'idx': 13, 'fea': 'V5_o', 'split': 0.5}, 'idx': 3, 'fea': 'V2_b', 'split': 0.5}), ('>=', {'<': {'<': {'<': {'<': {'type': -1}, '>=': {'type': 1}, 'idx': 14, 'fea': 'V5_x', 'split': 0.5}, '>=': {'<': {'type': 1}, '>=': {'type': -1}, 'idx': 7, 'fea': 'V3_o', 'split': 0.5}, 'idx': 9, 'fea': 'V4_b', 'split': 0.5}, '>=': {'<': {'type': 1}, '>=': {'<': {'type': -1}, '>=': {'type': 1}, 'idx': 14, 'fea': 'V5_x', 'split': 0.5}, 'idx': 24, 'fea': 'V9_b', 'split': 0.5}, 'idx': 20, 'fea': 'V7_x', 'split': 0.5}, '>=': {'<': {'<': {'<': {'type': -1}, '>=': {'type': 1}, 'idx': 5, 'fea': 'V2_x', 'split': 0.5}, '>=': {'<': {'type': 1}, '>=': {'type': 1}, 'idx': 18, 'fea': 'V7_b', 'split': 0.5}, 'idx': 0, 'fea': 'V1_b', 'split': 0.5}, '>=': {'<': {'<': {'type': -1}, '>=': {'type': 1}, 'idx': 14, 'fea': 'V5_x', 'split': 0.5}, '>=': {'<': {'type': -1}, '>=': {'type': -1}, 'idx': 7, 'fea': 'V3_o', 'split': 0.5}, 'idx': 4, 'fea': 'V2_o', 'split': 0.5}, 'idx': 20, 'fea': 'V7_x', 'split': 0.5}, 'idx': 25, 'fea': 'V9_o', 'split': 0.5}), ('idx', 23), ('fea', 'V8_x'), ('split', 0.5)])\n",
      "dict_items([('<', {'<': {'<': {'<': {'<': {'type': -1}, '>=': {'type': 1}, 'idx': 14, 'fea': 'V5_x', 'split': 0.5}, '>=': {'<': {'type': -1}, '>=': {'type': 1}, 'idx': 24, 'fea': 'V9_b', 'split': 0.5}, 'idx': 11, 'fea': 'V4_x', 'split': 0.5}, '>=': {'<': {'<': {'type': 1}, '>=': {'type': 1}, 'idx': 25, 'fea': 'V9_o', 'split': 0.5}, '>=': {'<': {'type': 1}, '>=': {'type': -1}, 'idx': 19, 'fea': 'V7_o', 'split': 0.5}, 'idx': 13, 'fea': 'V5_o', 'split': 0.5}, 'idx': 3, 'fea': 'V2_b', 'split': 0.5}, '>=': {'<': {'<': {'<': {'type': 1}, '>=': {'type': 1}, 'idx': 16, 'fea': 'V6_o', 'split': 0.5}, '>=': {'<': {'type': 1}, '>=': {'type': -1}, 'idx': 13, 'fea': 'V5_o', 'split': 0.5}, 'idx': 4, 'fea': 'V2_o', 'split': 0.5}, '>=': {'<': {'<': {'type': 1}, '>=': {'type': -1}, 'idx': 25, 'fea': 'V9_o', 'split': 0.5}, '>=': {'<': {'type': 1}, '>=': {'type': -1}, 'idx': 5, 'fea': 'V2_x', 'split': 0.5}, 'idx': 14, 'fea': 'V5_x', 'split': 0.5}, 'idx': 19, 'fea': 'V7_o', 'split': 0.5}, 'idx': 8, 'fea': 'V3_x', 'split': 0.5}), ('>=', {'<': {'<': {'<': {'<': {'type': 1}, '>=': {'type': 1}, 'idx': 10, 'fea': 'V4_o', 'split': 0.5}, '>=': {'<': {'type': 1}, '>=': {'type': 1}, 'idx': 17, 'fea': 'V6_x', 'split': 0.5}, 'idx': 7, 'fea': 'V3_o', 'split': 0.5}, '>=': {'<': {'<': {'type': -1}, '>=': {'type': 1}, 'idx': 5, 'fea': 'V2_x', 'split': 0.5}, '>=': {'<': {'type': -1}, '>=': {'type': 1}, 'idx': 26, 'fea': 'V9_x', 'split': 0.5}, 'idx': 13, 'fea': 'V5_o', 'split': 0.5}, 'idx': 1, 'fea': 'V1_o', 'split': 0.5}, '>=': {'<': {'<': {'<': {'type': 1}, '>=': {'type': 1}, 'idx': 13, 'fea': 'V5_o', 'split': 0.5}, '>=': {'<': {'type': 1}, '>=': {'type': -1}, 'idx': 18, 'fea': 'V7_b', 'split': 0.5}, 'idx': 4, 'fea': 'V2_o', 'split': 0.5}, '>=': {'<': {'<': {'type': -1}, '>=': {'type': -1}, 'idx': 18, 'fea': 'V7_b', 'split': 0.5}, '>=': {'<': {'type': 1}, '>=': {'type': -1}, 'idx': 3, 'fea': 'V2_b', 'split': 0.5}, 'idx': 14, 'fea': 'V5_x', 'split': 0.5}, 'idx': 25, 'fea': 'V9_o', 'split': 0.5}, 'idx': 9, 'fea': 'V4_b', 'split': 0.5}), ('idx', 23), ('fea', 'V8_x'), ('split', 0.5)])\n",
      "dict_items([('<', {'<': {'<': {'<': {'<': {'type': 1}, '>=': {'type': 1}, 'idx': 25, 'fea': 'V9_o', 'split': 0.5}, '>=': {'<': {'type': 1}, '>=': {'type': -1}, 'idx': 25, 'fea': 'V9_o', 'split': 0.5}, 'idx': 19, 'fea': 'V7_o', 'split': 0.5}, '>=': {'<': {'<': {'type': 1}, '>=': {'type': 1}, 'idx': 25, 'fea': 'V9_o', 'split': 0.5}, '>=': {'<': {'type': 1}, '>=': {'type': -1}, 'idx': 9, 'fea': 'V4_b', 'split': 0.5}, 'idx': 7, 'fea': 'V3_o', 'split': 0.5}, 'idx': 21, 'fea': 'V8_b', 'split': 0.5}, '>=': {'<': {'<': {'<': {'type': -1}, '>=': {'type': 1}, 'idx': 8, 'fea': 'V3_x', 'split': 0.5}, '>=': {'<': {'type': -1}, '>=': {'type': 1}, 'idx': 12, 'fea': 'V5_b', 'split': 0.5}, 'idx': 16, 'fea': 'V6_o', 'split': 0.5}, '>=': {'<': {'<': {'type': 1}, '>=': {'type': 1}, 'idx': 1, 'fea': 'V1_o', 'split': 0.5}, '>=': {'<': {'type': 1}, '>=': {'type': 1}, 'idx': 0, 'fea': 'V1_b', 'split': 0.5}, 'idx': 17, 'fea': 'V6_x', 'split': 0.5}, 'idx': 14, 'fea': 'V5_x', 'split': 0.5}, 'idx': 10, 'fea': 'V4_o', 'split': 0.5}), ('>=', {'<': {'<': {'<': {'<': {'type': 1}, '>=': {'type': 1}, 'idx': 5, 'fea': 'V2_x', 'split': 0.5}, '>=': {'<': {'type': 1}, '>=': {'type': -1}, 'idx': 1, 'fea': 'V1_o', 'split': 0.5}, 'idx': 19, 'fea': 'V7_o', 'split': 0.5}, '>=': {'<': {'<': {'type': 1}, '>=': {'type': 1}, 'idx': 2, 'fea': 'V1_x', 'split': 0.5}, '>=': {'<': {'type': -1}, '>=': {'type': 1}, 'idx': 17, 'fea': 'V6_x', 'split': 0.5}, 'idx': 25, 'fea': 'V9_o', 'split': 0.5}, 'idx': 7, 'fea': 'V3_o', 'split': 0.5}, '>=': {'<': {'<': {'<': {'type': 1}, '>=': {'type': 1}, 'idx': 4, 'fea': 'V2_o', 'split': 0.5}, '>=': {'<': {'type': 1}, '>=': {'type': -1}, 'idx': 19, 'fea': 'V7_o', 'split': 0.5}, 'idx': 13, 'fea': 'V5_o', 'split': 0.5}, '>=': {'<': {'<': {'type': -1}, '>=': {'type': -1}, 'idx': 18, 'fea': 'V7_b', 'split': 0.5}, '>=': {'<': {'type': 1}, '>=': {'type': -1}, 'idx': 2, 'fea': 'V1_x', 'split': 0.5}, 'idx': 14, 'fea': 'V5_x', 'split': 0.5}, 'idx': 25, 'fea': 'V9_o', 'split': 0.5}, 'idx': 9, 'fea': 'V4_b', 'split': 0.5}), ('idx', 23), ('fea', 'V8_x'), ('split', 0.5)])\n",
      "dict_items([('<', {'<': {'<': {'type': 1}, '>=': {'<': {'<': {'type': 1}, '>=': {'type': -1}, 'idx': 1, 'fea': 'V1_o', 'split': 0.5}, '>=': {'<': {'type': 1}, '>=': {'type': -1}, 'idx': 22, 'fea': 'V8_o', 'split': 0.5}, 'idx': 25, 'fea': 'V9_o', 'split': 0.5}, 'idx': 19, 'fea': 'V7_o', 'split': 0.5}, '>=': {'<': {'<': {'type': 1}, '>=': {'<': {'type': 1}, '>=': {'type': -1}, 'idx': 16, 'fea': 'V6_o', 'split': 0.5}, 'idx': 25, 'fea': 'V9_o', 'split': 0.5}, '>=': {'<': {'<': {'type': 1}, '>=': {'type': 1}, 'idx': 16, 'fea': 'V6_o', 'split': 0.5}, '>=': {'type': -1}, 'idx': 4, 'fea': 'V2_o', 'split': 0.5}, 'idx': 1, 'fea': 'V1_o', 'split': 0.5}, 'idx': 7, 'fea': 'V3_o', 'split': 0.5}), ('>=', {'<': {'<': {'type': -1}, '>=': {'<': {'<': {'type': 1}, '>=': {'type': -1}, 'idx': 10, 'fea': 'V4_o', 'split': 0.5}, '>=': {'<': {'type': -1}, '>=': {'type': 1}, 'idx': 2, 'fea': 'V1_x', 'split': 0.5}, 'idx': 17, 'fea': 'V6_x', 'split': 0.5}, 'idx': 20, 'fea': 'V7_x', 'split': 0.5}, '>=': {'<': {'<': {'type': -1}, '>=': {'<': {'type': -1}, '>=': {'type': 1}, 'idx': 17, 'fea': 'V6_x', 'split': 0.5}, 'idx': 26, 'fea': 'V9_x', 'split': 0.5}, '>=': {'<': {'<': {'type': -1}, '>=': {'type': 1}, 'idx': 21, 'fea': 'V8_b', 'split': 0.5}, '>=': {'type': 1}, 'idx': 5, 'fea': 'V2_x', 'split': 0.5}, 'idx': 2, 'fea': 'V1_x', 'split': 0.5}, 'idx': 8, 'fea': 'V3_x', 'split': 0.5}), ('idx', 13), ('fea', 'V5_o'), ('split', 0.5)])\n",
      "dict_items([('<', {'<': {'<': {'<': {'<': {'type': 1}, '>=': {'type': 1}, 'idx': 16, 'fea': 'V6_o', 'split': 0.5}, '>=': {'<': {'type': 1}, '>=': {'type': 1}, 'idx': 19, 'fea': 'V7_o', 'split': 0.5}, 'idx': 10, 'fea': 'V4_o', 'split': 0.5}, '>=': {'<': {'type': 1}, '>=': {'<': {'type': 1}, '>=': {'type': -1}, 'idx': 4, 'fea': 'V2_o', 'split': 0.5}, 'idx': 1, 'fea': 'V1_o', 'split': 0.5}, 'idx': 7, 'fea': 'V3_o', 'split': 0.5}, '>=': {'<': {'<': {'<': {'type': -1}, '>=': {'type': 1}, 'idx': 8, 'fea': 'V3_x', 'split': 0.5}, '>=': {'<': {'type': -1}, '>=': {'type': 1}, 'idx': 21, 'fea': 'V8_b', 'split': 0.5}, 'idx': 4, 'fea': 'V2_o', 'split': 0.5}, '>=': {'<': {'<': {'type': -1}, '>=': {'type': 1}, 'idx': 8, 'fea': 'V3_x', 'split': 0.5}, '>=': {'<': {'type': 1}, '>=': {'type': -1}, 'idx': 24, 'fea': 'V9_b', 'split': 0.5}, 'idx': 20, 'fea': 'V7_x', 'split': 0.5}, 'idx': 23, 'fea': 'V8_x', 'split': 0.5}, 'idx': 13, 'fea': 'V5_o', 'split': 0.5}), ('>=', {'<': {'<': {'<': {'<': {'type': -1}, '>=': {'type': 1}, 'idx': 11, 'fea': 'V4_x', 'split': 0.5}, '>=': {'<': {'type': -1}, '>=': {'type': -1}, 'idx': 18, 'fea': 'V7_b', 'split': 0.5}, 'idx': 5, 'fea': 'V2_x', 'split': 0.5}, '>=': {'<': {'<': {'type': 1}, '>=': {'type': -1}, 'idx': 22, 'fea': 'V8_o', 'split': 0.5}, '>=': {'<': {'type': -1}, '>=': {'type': 1}, 'idx': 6, 'fea': 'V3_b', 'split': 0.5}, 'idx': 16, 'fea': 'V6_o', 'split': 0.5}, 'idx': 0, 'fea': 'V1_b', 'split': 0.5}, '>=': {'<': {'<': {'type': 1}, '>=': {'<': {'type': -1}, '>=': {'type': 1}, 'idx': 2, 'fea': 'V1_x', 'split': 0.5}, 'idx': 13, 'fea': 'V5_o', 'split': 0.5}, '>=': {'<': {'<': {'type': -1}, '>=': {'type': -1}, 'idx': 12, 'fea': 'V5_b', 'split': 0.5}, '>=': {'<': {'type': -1}, '>=': {'type': 1}, 'idx': 5, 'fea': 'V2_x', 'split': 0.5}, 'idx': 15, 'fea': 'V6_b', 'split': 0.5}, 'idx': 19, 'fea': 'V7_o', 'split': 0.5}, 'idx': 8, 'fea': 'V3_x', 'split': 0.5}), ('idx', 25), ('fea', 'V9_o'), ('split', 0.5)])\n",
      "dict_items([('<', {'<': {'<': {'<': {'<': {'type': 1}, '>=': {'type': 1}, 'idx': 14, 'fea': 'V5_x', 'split': 0.5}, '>=': {'<': {'type': 1}, '>=': {'type': 1}, 'idx': 23, 'fea': 'V8_x', 'split': 0.5}, 'idx': 24, 'fea': 'V9_b', 'split': 0.5}, '>=': {'<': {'<': {'type': 1}, '>=': {'type': 1}, 'idx': 0, 'fea': 'V1_b', 'split': 0.5}, '>=': {'<': {'type': -1}, '>=': {'type': 1}, 'idx': 10, 'fea': 'V4_o', 'split': 0.5}, 'idx': 19, 'fea': 'V7_o', 'split': 0.5}, 'idx': 15, 'fea': 'V6_b', 'split': 0.5}, '>=': {'<': {'<': {'<': {'type': 1}, '>=': {'type': -1}, 'idx': 5, 'fea': 'V2_x', 'split': 0.5}, '>=': {'<': {'type': 1}, '>=': {'type': -1}, 'idx': 19, 'fea': 'V7_o', 'split': 0.5}, 'idx': 23, 'fea': 'V8_x', 'split': 0.5}, '>=': {'<': {'<': {'type': 1}, '>=': {'type': -1}, 'idx': 13, 'fea': 'V5_o', 'split': 0.5}, '>=': {'<': {'type': 1}, '>=': {'type': -1}, 'idx': 19, 'fea': 'V7_o', 'split': 0.5}, 'idx': 10, 'fea': 'V4_o', 'split': 0.5}, 'idx': 17, 'fea': 'V6_x', 'split': 0.5}, 'idx': 1, 'fea': 'V1_o', 'split': 0.5}), ('>=', {'<': {'<': {'<': {'<': {'type': 1}, '>=': {'type': 1}, 'idx': 16, 'fea': 'V6_o', 'split': 0.5}, '>=': {'type': 1}, 'idx': 1, 'fea': 'V1_o', 'split': 0.5}, '>=': {'<': {'<': {'type': 1}, '>=': {'type': -1}, 'idx': 1, 'fea': 'V1_o', 'split': 0.5}, '>=': {'<': {'type': -1}, '>=': {'type': -1}, 'idx': 2, 'fea': 'V1_x', 'split': 0.5}, 'idx': 25, 'fea': 'V9_o', 'split': 0.5}, 'idx': 7, 'fea': 'V3_o', 'split': 0.5}, '>=': {'<': {'<': {'type': -1}, '>=': {'<': {'type': 1}, '>=': {'type': 1}, 'idx': 7, 'fea': 'V3_o', 'split': 0.5}, 'idx': 26, 'fea': 'V9_x', 'split': 0.5}, '>=': {'<': {'<': {'type': -1}, '>=': {'type': -1}, 'idx': 26, 'fea': 'V9_x', 'split': 0.5}, '>=': {'<': {'type': 1}, '>=': {'type': -1}, 'idx': 4, 'fea': 'V2_o', 'split': 0.5}, 'idx': 8, 'fea': 'V3_x', 'split': 0.5}, 'idx': 2, 'fea': 'V1_x', 'split': 0.5}, 'idx': 13, 'fea': 'V5_o', 'split': 0.5}), ('idx', 9), ('fea', 'V4_b'), ('split', 0.5)])\n",
      "dict_items([('<', {'<': {'<': {'<': {'<': {'type': -1}, '>=': {'type': 1}, 'idx': 2, 'fea': 'V1_x', 'split': 0.5}, '>=': {'<': {'type': 1}, '>=': {'type': 1}, 'idx': 19, 'fea': 'V7_o', 'split': 0.5}, 'idx': 14, 'fea': 'V5_x', 'split': 0.5}, '>=': {'<': {'<': {'type': 1}, '>=': {'type': -1}, 'idx': 23, 'fea': 'V8_x', 'split': 0.5}, '>=': {'<': {'type': -1}, '>=': {'type': 1}, 'idx': 10, 'fea': 'V4_o', 'split': 0.5}, 'idx': 0, 'fea': 'V1_b', 'split': 0.5}, 'idx': 7, 'fea': 'V3_o', 'split': 0.5}, '>=': {'<': {'<': {'<': {'type': 1}, '>=': {'type': 1}, 'idx': 21, 'fea': 'V8_b', 'split': 0.5}, '>=': {'type': 1}, 'idx': 16, 'fea': 'V6_o', 'split': 0.5}, '>=': {'<': {'<': {'type': -1}, '>=': {'type': -1}, 'idx': 2, 'fea': 'V1_x', 'split': 0.5}, '>=': {'<': {'type': -1}, '>=': {'type': 1}, 'idx': 5, 'fea': 'V2_x', 'split': 0.5}, 'idx': 14, 'fea': 'V5_x', 'split': 0.5}, 'idx': 23, 'fea': 'V8_x', 'split': 0.5}, 'idx': 24, 'fea': 'V9_b', 'split': 0.5}), ('>=', {'<': {'<': {'<': {'<': {'type': 1}, '>=': {'type': 1}, 'idx': 0, 'fea': 'V1_b', 'split': 0.5}, '>=': {'<': {'type': 1}, '>=': {'type': -1}, 'idx': 4, 'fea': 'V2_o', 'split': 0.5}, 'idx': 7, 'fea': 'V3_o', 'split': 0.5}, '>=': {'<': {'type': -1}, '>=': {'<': {'type': 1}, '>=': {'type': 1}, 'idx': 7, 'fea': 'V3_o', 'split': 0.5}, 'idx': 26, 'fea': 'V9_x', 'split': 0.5}, 'idx': 13, 'fea': 'V5_o', 'split': 0.5}, '>=': {'<': {'<': {'<': {'type': 1}, '>=': {'type': -1}, 'idx': 13, 'fea': 'V5_o', 'split': 0.5}, '>=': {'<': {'type': -1}, '>=': {'type': 1}, 'idx': 21, 'fea': 'V8_b', 'split': 0.5}, 'idx': 25, 'fea': 'V9_o', 'split': 0.5}, '>=': {'<': {'<': {'type': 1}, '>=': {'type': -1}, 'idx': 22, 'fea': 'V8_o', 'split': 0.5}, '>=': {'<': {'type': 1}, '>=': {'type': -1}, 'idx': 25, 'fea': 'V9_o', 'split': 0.5}, 'idx': 14, 'fea': 'V5_x', 'split': 0.5}, 'idx': 20, 'fea': 'V7_x', 'split': 0.5}, 'idx': 2, 'fea': 'V1_x', 'split': 0.5}), ('idx', 9), ('fea', 'V4_b'), ('split', 0.5)])\n"
     ]
    },
    {
     "data": {
      "image/png": "[encoded data removed]",
      "text/plain": [
       "<Figure size 432x288 with 1 Axes>"
      ]
     },
     "metadata": {},
     "output_type": "display_data"
    }
   ],
   "source": [
    "plot_splitter(boost)"
   ]
  },
  {
   "cell_type": "code",
   "execution_count": 56,
   "metadata": {
    "ExecuteTime": {
     "end_time": "2018-09-30T03:10:05.152087Z",
     "start_time": "2018-09-30T03:10:05.000490Z"
    },
    "collapsed": true
   },
   "outputs": [
    {
     "ename": "IndexError",
     "evalue": "index 13 is out of bounds for axis 0 with size 3",
     "output_type": "error",
     "traceback": [
      "\u001b[0;31m---------------------------------------------------------------------------\u001b[0m",
      "\u001b[0;31mIndexError\u001b[0m                                Traceback (most recent call last)",
      "\u001b[0;32m<ipython-input-56-f5f8b2483317>\u001b[0m in \u001b[0;36m<module>\u001b[0;34m()\u001b[0m\n\u001b[0;32m----> 1\u001b[0;31m \u001b[0mplot_margin\u001b[0m\u001b[0;34m(\u001b[0m\u001b[0mboost\u001b[0m\u001b[0;34m)\u001b[0m\u001b[0;34m\u001b[0m\u001b[0m\n\u001b[0m",
      "\u001b[0;32m<ipython-input-52-9e097a593d36>\u001b[0m in \u001b[0;36mplot_margin\u001b[0;34m(model, scale)\u001b[0m\n\u001b[1;32m     10\u001b[0m         \u001b[0;32mfor\u001b[0m \u001b[0mj\u001b[0m \u001b[0;32min\u001b[0m \u001b[0mrange\u001b[0m\u001b[0;34m(\u001b[0m\u001b[0mlen\u001b[0m\u001b[0;34m(\u001b[0m\u001b[0myv\u001b[0m\u001b[0;34m)\u001b[0m\u001b[0;34m)\u001b[0m\u001b[0;34m:\u001b[0m\u001b[0;34m\u001b[0m\u001b[0m\n\u001b[1;32m     11\u001b[0m             \u001b[0mcur\u001b[0m \u001b[0;34m=\u001b[0m \u001b[0mnp\u001b[0m\u001b[0;34m.\u001b[0m\u001b[0marray\u001b[0m\u001b[0;34m(\u001b[0m\u001b[0;34m[\u001b[0m\u001b[0mxv\u001b[0m\u001b[0;34m[\u001b[0m\u001b[0mi\u001b[0m\u001b[0;34m,\u001b[0m\u001b[0mj\u001b[0m\u001b[0;34m]\u001b[0m\u001b[0;34m,\u001b[0m \u001b[0myv\u001b[0m\u001b[0;34m[\u001b[0m\u001b[0mi\u001b[0m\u001b[0;34m,\u001b[0m\u001b[0mj\u001b[0m\u001b[0;34m]\u001b[0m\u001b[0;34m,\u001b[0m \u001b[0;36m2.0\u001b[0m\u001b[0;34m]\u001b[0m\u001b[0;34m)\u001b[0m\u001b[0;34m\u001b[0m\u001b[0m\n\u001b[0;32m---> 12\u001b[0;31m             \u001b[0;32mif\u001b[0m \u001b[0mmodel\u001b[0m\u001b[0;34m.\u001b[0m\u001b[0mpredict\u001b[0m\u001b[0;34m(\u001b[0m\u001b[0mcur\u001b[0m\u001b[0;34m)\u001b[0m \u001b[0;34m==\u001b[0m \u001b[0;32mTrue\u001b[0m\u001b[0;34m:\u001b[0m\u001b[0;34m\u001b[0m\u001b[0m\n\u001b[0m\u001b[1;32m     13\u001b[0m                 \u001b[0mposi_list\u001b[0m\u001b[0;34m.\u001b[0m\u001b[0mappend\u001b[0m\u001b[0;34m(\u001b[0m\u001b[0mnp\u001b[0m\u001b[0;34m.\u001b[0m\u001b[0marray\u001b[0m\u001b[0;34m(\u001b[0m\u001b[0;34m[\u001b[0m\u001b[0mcur\u001b[0m\u001b[0;34m[\u001b[0m\u001b[0;36m0\u001b[0m\u001b[0;34m]\u001b[0m\u001b[0;34m,\u001b[0m \u001b[0mcur\u001b[0m\u001b[0;34m[\u001b[0m\u001b[0;36m1\u001b[0m\u001b[0;34m]\u001b[0m\u001b[0;34m]\u001b[0m\u001b[0;34m)\u001b[0m\u001b[0;34m)\u001b[0m\u001b[0;34m\u001b[0m\u001b[0m\n\u001b[1;32m     14\u001b[0m             \u001b[0;32melse\u001b[0m\u001b[0;34m:\u001b[0m\u001b[0;34m\u001b[0m\u001b[0m\n",
      "\u001b[0;32m<ipython-input-8-1d9d4968ccc2>\u001b[0m in \u001b[0;36mpredict\u001b[0;34m(self, sample, to_output)\u001b[0m\n\u001b[1;32m     75\u001b[0m         \u001b[0mpred_list\u001b[0m \u001b[0;34m=\u001b[0m \u001b[0mnp\u001b[0m\u001b[0;34m.\u001b[0m\u001b[0mzeros\u001b[0m\u001b[0;34m(\u001b[0m\u001b[0msz\u001b[0m\u001b[0;34m,\u001b[0m \u001b[0mnp\u001b[0m\u001b[0;34m.\u001b[0m\u001b[0mfloat32\u001b[0m\u001b[0;34m)\u001b[0m\u001b[0;34m\u001b[0m\u001b[0m\n\u001b[1;32m     76\u001b[0m         \u001b[0;32mfor\u001b[0m \u001b[0;34m(\u001b[0m\u001b[0mi\u001b[0m\u001b[0;34m,\u001b[0m \u001b[0mdt\u001b[0m\u001b[0;34m)\u001b[0m \u001b[0;32min\u001b[0m \u001b[0menumerate\u001b[0m\u001b[0;34m(\u001b[0m\u001b[0mself\u001b[0m\u001b[0;34m.\u001b[0m\u001b[0mclassifiers\u001b[0m\u001b[0;34m)\u001b[0m\u001b[0;34m:\u001b[0m\u001b[0;34m\u001b[0m\u001b[0m\n\u001b[0;32m---> 77\u001b[0;31m             \u001b[0;34m(\u001b[0m\u001b[0m_\u001b[0m\u001b[0;34m,\u001b[0m \u001b[0mpred_list\u001b[0m\u001b[0;34m[\u001b[0m\u001b[0mi\u001b[0m\u001b[0;34m]\u001b[0m\u001b[0;34m)\u001b[0m \u001b[0;34m=\u001b[0m \u001b[0mdt\u001b[0m\u001b[0;34m.\u001b[0m\u001b[0mpredict\u001b[0m\u001b[0;34m(\u001b[0m\u001b[0msample\u001b[0m\u001b[0;34m)\u001b[0m\u001b[0;34m\u001b[0m\u001b[0m\n\u001b[0m\u001b[1;32m     78\u001b[0m         \u001b[0moutput\u001b[0m \u001b[0;34m=\u001b[0m \u001b[0mnp\u001b[0m\u001b[0;34m.\u001b[0m\u001b[0mdot\u001b[0m\u001b[0;34m(\u001b[0m\u001b[0mnp\u001b[0m\u001b[0;34m.\u001b[0m\u001b[0marray\u001b[0m\u001b[0;34m(\u001b[0m\u001b[0mself\u001b[0m\u001b[0;34m.\u001b[0m\u001b[0mclassifier_weights\u001b[0m\u001b[0;34m)\u001b[0m\u001b[0;34m[\u001b[0m\u001b[0;34m:\u001b[0m\u001b[0msz\u001b[0m\u001b[0;34m,\u001b[0m\u001b[0;34m]\u001b[0m\u001b[0;34m,\u001b[0m \u001b[0mpred_list\u001b[0m\u001b[0;34m)\u001b[0m\u001b[0;34m\u001b[0m\u001b[0m\n\u001b[1;32m     79\u001b[0m         \u001b[0moutput\u001b[0m \u001b[0;34m=\u001b[0m \u001b[0mnp\u001b[0m\u001b[0;34m.\u001b[0m\u001b[0msign\u001b[0m\u001b[0;34m(\u001b[0m\u001b[0moutput\u001b[0m\u001b[0;34m)\u001b[0m\u001b[0;34m\u001b[0m\u001b[0m\n",
      "\u001b[0;32m<ipython-input-6-ea21183bdad8>\u001b[0m in \u001b[0;36mpredict\u001b[0;34m(self, sample, to_output)\u001b[0m\n\u001b[1;32m     70\u001b[0m                 \u001b[0;32mreturn\u001b[0m \u001b[0;34m(\u001b[0m\u001b[0m_s\u001b[0m\u001b[0;34m,\u001b[0m \u001b[0m_n\u001b[0m\u001b[0;34m)\u001b[0m\u001b[0;34m\u001b[0m\u001b[0m\n\u001b[1;32m     71\u001b[0m \u001b[0;34m\u001b[0m\u001b[0m\n\u001b[0;32m---> 72\u001b[0;31m             \u001b[0;32melif\u001b[0m \u001b[0msample\u001b[0m\u001b[0;34m[\u001b[0m\u001b[0mnode\u001b[0m\u001b[0;34m[\u001b[0m\u001b[0;34m'idx'\u001b[0m\u001b[0;34m]\u001b[0m\u001b[0;34m]\u001b[0m \u001b[0;34m<\u001b[0m \u001b[0mnode\u001b[0m\u001b[0;34m[\u001b[0m\u001b[0;34m'split'\u001b[0m\u001b[0;34m]\u001b[0m\u001b[0;34m:\u001b[0m\u001b[0;34m\u001b[0m\u001b[0m\n\u001b[0m\u001b[1;32m     73\u001b[0m                 \u001b[0mnode\u001b[0m \u001b[0;34m=\u001b[0m \u001b[0mnode\u001b[0m\u001b[0;34m[\u001b[0m\u001b[0;34m'<'\u001b[0m\u001b[0;34m]\u001b[0m\u001b[0;34m\u001b[0m\u001b[0m\n\u001b[1;32m     74\u001b[0m             \u001b[0;32melif\u001b[0m \u001b[0msample\u001b[0m\u001b[0;34m[\u001b[0m\u001b[0mnode\u001b[0m\u001b[0;34m[\u001b[0m\u001b[0;34m'idx'\u001b[0m\u001b[0;34m]\u001b[0m\u001b[0;34m]\u001b[0m \u001b[0;34m>=\u001b[0m \u001b[0mnode\u001b[0m\u001b[0;34m[\u001b[0m\u001b[0;34m'split'\u001b[0m\u001b[0;34m]\u001b[0m\u001b[0;34m:\u001b[0m\u001b[0;34m\u001b[0m\u001b[0m\n",
      "\u001b[0;31mIndexError\u001b[0m: index 13 is out of bounds for axis 0 with size 3"
     ]
    },
    {
     "data": {
      "image/png": "[encoded data removed]",
      "text/plain": [
       "<Figure size 432x288 with 1 Axes>"
      ]
     },
     "metadata": {},
     "output_type": "display_data"
    }
   ],
   "source": [
    "plot_margin(boost)"
   ]
  },
  {
   "cell_type": "code",
   "execution_count": 57,
   "metadata": {
    "ExecuteTime": {
     "end_time": "2018-09-30T03:10:07.276365Z",
     "start_time": "2018-09-30T03:10:07.093242Z"
    }
   },
   "outputs": [
    {
     "data": {
      "image/png": "[encoded data removed]",
      "text/plain": [
       "<Figure size 432x288 with 1 Axes>"
      ]
     },
     "metadata": {},
     "output_type": "display_data"
    }
   ],
   "source": [
    "plot_acc(model_info)"
   ]
  },
  {
   "cell_type": "markdown",
   "metadata": {
    "ExecuteTime": {
     "end_time": "2018-09-29T12:02:12.213293Z",
     "start_time": "2018-09-29T12:02:12.210410Z"
    }
   },
   "source": [
    "## Bagging"
   ]
  },
  {
   "cell_type": "code",
   "execution_count": 71,
   "metadata": {
    "ExecuteTime": {
     "end_time": "2018-09-30T07:33:03.030775Z",
     "start_time": "2018-09-30T07:33:03.013857Z"
    }
   },
   "outputs": [],
   "source": [
    "class Bagging(object):\n",
    "    def __init__(self, max_dep = 1, T = 20):\n",
    "        self.classifiers = []\n",
    "        self.max_dep = max_dep\n",
    "        self.T = T\n",
    "        self.model_info = []\n",
    "\n",
    "    def fit(self, data_train, data_test, to_output = False):\n",
    "        n, m = len(data_train), len(data_test)\n",
    "        \n",
    "        for i in range(self.T):\n",
    "            \n",
    "            data_train_sample = data_train.sample(frac=1,replace=True).drop_duplicates().reset_index(drop=True)\n",
    "            n = len(data_train_sample)\n",
    "            weights = np.ones(n, np.float32) / float(n)\n",
    "            \n",
    "            dt = DecisionTree(data_train = data_train_sample, max_dep = self.max_dep, weights = weights)\n",
    "            self.classifiers.append(dt)\n",
    "\n",
    "            label_list, pred_list = np.zeros(n), np.zeros(n)\n",
    "            for j in range(n):\n",
    "                label_list[j], pred_list[j] = dt.predict(data_train_sample.iloc[j])\n",
    "            \n",
    "            train_acc, test_acc = 0.0, 0.0\n",
    "            \n",
    "            for j in range(n):\n",
    "                train_acc += self.predict(data_train_sample.iloc[j])\n",
    "            train_acc = train_acc / float(n)\n",
    "            \n",
    "            for j in range(m):\n",
    "                test_acc += self.predict(data_test.iloc[j])\n",
    "            test_acc = test_acc / float(m)\n",
    "            self.model_info.append(np.array([i, train_acc, test_acc]))\n",
    "            \n",
    "            if to_output == True:\n",
    "                print ('In round {}:'.format(i))\n",
    "                print ('train_accuracy: {:6f}'.format(train_acc))\n",
    "                print ('test_accuracy: {:6f}'.format(test_acc))\n",
    "            \n",
    "        return np.array(self.model_info)\n",
    "    \n",
    "    def predict(self, sample, to_output = False):\n",
    "        sz = len(self.classifiers)\n",
    "        pred_float, pred_list = np.zeros(sz, np.float64), np.zeros(sz, np.int)\n",
    "        for (i, dt) in enumerate(self.classifiers):\n",
    "            (_, pred_float[i]) = dt.predict(sample)\n",
    "            pred_list[i] = np.sign(pred_float[i])\n",
    "        \n",
    "        output = np.argmax(np.bincount(pred_list + 1)) - 1\n",
    "        if to_output == True:\n",
    "            print ('label = {}, output = {}'.format(sample[-1] - 1, output))\n",
    "        return abs(sample[-1] - 1 - output) < 1e-6"
   ]
  },
  {
   "cell_type": "code",
   "execution_count": 2,
   "metadata": {
    "ExecuteTime": {
     "end_time": "2018-09-30T07:17:26.921401Z",
     "start_time": "2018-09-30T07:17:26.859119Z"
    },
    "scrolled": true
   },
   "outputs": [
    {
     "ename": "NameError",
     "evalue": "name 'np' is not defined",
     "output_type": "error",
     "traceback": [
      "\u001b[0;31m---------------------------------------------------------------------------\u001b[0m",
      "\u001b[0;31mNameError\u001b[0m                                 Traceback (most recent call last)",
      "\u001b[0;32m<ipython-input-2-cfca3e296071>\u001b[0m in \u001b[0;36m<module>\u001b[0;34m()\u001b[0m\n\u001b[0;32m----> 1\u001b[0;31m \u001b[0mnp\u001b[0m\u001b[0;34m.\u001b[0m\u001b[0mrandom\u001b[0m\u001b[0;34m.\u001b[0m\u001b[0mseed\u001b[0m\u001b[0;34m(\u001b[0m\u001b[0;36m3\u001b[0m\u001b[0;34m)\u001b[0m\u001b[0;34m\u001b[0m\u001b[0m\n\u001b[0m\u001b[1;32m      2\u001b[0m \u001b[0;34m(\u001b[0m\u001b[0mdata_train\u001b[0m\u001b[0;34m,\u001b[0m \u001b[0mdata_test\u001b[0m\u001b[0;34m)\u001b[0m \u001b[0;34m=\u001b[0m \u001b[0mget_data3_alpha\u001b[0m\u001b[0;34m(\u001b[0m\u001b[0;34m)\u001b[0m\u001b[0;34m\u001b[0m\u001b[0m\n\u001b[1;32m      3\u001b[0m \u001b[0;34m\u001b[0m\u001b[0m\n\u001b[1;32m      4\u001b[0m \u001b[0mbag\u001b[0m \u001b[0;34m=\u001b[0m \u001b[0mBagging\u001b[0m\u001b[0;34m(\u001b[0m\u001b[0mmax_dep\u001b[0m \u001b[0;34m=\u001b[0m \u001b[0;36m2\u001b[0m\u001b[0;34m,\u001b[0m \u001b[0mT\u001b[0m \u001b[0;34m=\u001b[0m \u001b[0;36m200\u001b[0m\u001b[0;34m)\u001b[0m\u001b[0;34m\u001b[0m\u001b[0m\n\u001b[1;32m      5\u001b[0m \u001b[0mmodel_info\u001b[0m \u001b[0;34m=\u001b[0m \u001b[0mbag\u001b[0m\u001b[0;34m.\u001b[0m\u001b[0mfit\u001b[0m\u001b[0;34m(\u001b[0m\u001b[0mdata_train\u001b[0m\u001b[0;34m,\u001b[0m \u001b[0mdata_test\u001b[0m\u001b[0;34m,\u001b[0m \u001b[0mto_output\u001b[0m \u001b[0;34m=\u001b[0m \u001b[0;32mTrue\u001b[0m\u001b[0;34m)\u001b[0m\u001b[0;34m\u001b[0m\u001b[0m\n",
      "\u001b[0;31mNameError\u001b[0m: name 'np' is not defined"
     ]
    }
   ],
   "source": [
    "np.random.seed(3)\n",
    "(data_train, data_test) = get_data3_alpha()\n",
    "\n",
    "bag = Bagging(max_dep = 2, T = 200)\n",
    "model_info = bag.fit(data_train, data_test, to_output = True)"
   ]
  },
  {
   "cell_type": "code",
   "execution_count": 83,
   "metadata": {
    "ExecuteTime": {
     "end_time": "2018-09-30T03:25:56.064281Z",
     "start_time": "2018-09-30T03:25:55.902710Z"
    }
   },
   "outputs": [
    {
     "data": {
      "image/png": "[encoded data removed]",
      "text/plain": [
       "<Figure size 432x288 with 1 Axes>"
      ]
     },
     "metadata": {},
     "output_type": "display_data"
    }
   ],
   "source": [
    "plot_acc(model_info)"
   ]
  },
  {
   "cell_type": "code",
   "execution_count": 84,
   "metadata": {
    "ExecuteTime": {
     "end_time": "2018-09-30T03:26:04.308972Z",
     "start_time": "2018-09-30T03:25:57.449004Z"
    }
   },
   "outputs": [
    {
     "data": {
      "image/png": "[encoded data removed]",
      "text/plain": [
       "<Figure size 432x288 with 1 Axes>"
      ]
     },
     "metadata": {},
     "output_type": "display_data"
    }
   ],
   "source": [
    "plot_margin(bag)"
   ]
  },
  {
   "cell_type": "markdown",
   "metadata": {},
   "source": [
    "## RandomForest"
   ]
  },
  {
   "cell_type": "code",
   "execution_count": 107,
   "metadata": {
    "ExecuteTime": {
     "end_time": "2018-09-30T07:44:38.414421Z",
     "start_time": "2018-09-30T07:44:38.398737Z"
    }
   },
   "outputs": [],
   "source": [
    "class RandomForest(object):\n",
    "    def __init__(self, max_dep = 1, T = 20):\n",
    "        self.classifiers = []\n",
    "        self.max_dep = max_dep\n",
    "        self.T = T\n",
    "        self.model_info = []\n",
    "\n",
    "    def fit(self, data_train, data_test, to_output = False):\n",
    "        n, m = len(data_train), len(data_test)\n",
    "        \n",
    "        for i in range(self.T):\n",
    "            \n",
    "            data_train_sample = data_train.sample(frac=1,replace=True).drop_duplicates().reset_index(drop=True)\n",
    "            n, nf = data_train_sample.shape\n",
    "            log2m = math.floor(math.sqrt(nf - 1))\n",
    "            data_train_sample = pd.concat([data_train_sample.iloc[:,:-1].sample(n=log2m,axis=1),\\\n",
    "                                           data_train_sample.iloc[:,-1]], axis=1)\n",
    "            \n",
    "            col_idx = data_train.columns.get_indexer(data_train_sample.columns)\n",
    "            weights = np.ones(n, np.float32) / float(n)\n",
    "            \n",
    "            dt = DecisionTree(data_train = data_train_sample, max_dep = self.max_dep, weights = weights, \\\n",
    "                             col_idx = col_idx)\n",
    "            self.classifiers.append(dt)\n",
    "                \n",
    "            if i % 10 == 0:\n",
    "                print ('In round {}:'.format(i))\n",
    "            \n",
    "                train_acc, test_acc = 0.0, 0.0\n",
    "\n",
    "                for j in range(len(data_train)):\n",
    "                    train_acc += self.predict(data_train.iloc[j])\n",
    "                train_acc = train_acc / float(len(data_train))\n",
    "                \n",
    "                for j in range(len(data_test)):\n",
    "                    test_acc += self.predict(data_test.iloc[j])\n",
    "                test_acc = test_acc / float(len(data_test))\n",
    "                \n",
    "                if to_output == True:        \n",
    "                    print ('train_accuracy: {:6f}'.format(train_acc))\n",
    "                    print ('test_accuracy: {:6f}'.format(test_acc))\n",
    "                \n",
    "                label_list, pred_list = np.zeros(n), np.zeros(n)\n",
    "                for j in range(n):\n",
    "                    label_list[j], pred_list[j] = dt.predict(data_train.iloc[j])\n",
    "                self.model_info.append(np.array([i, train_acc, test_acc]))\n",
    "                \n",
    "        return np.array(self.model_info)\n",
    "    \n",
    "    def predict(self, sample, to_output = False):\n",
    "        sz = len(self.classifiers)\n",
    "        pred_float, pred_list = np.zeros(sz, np.float64), np.zeros(sz, np.int)\n",
    "        for (i, dt) in enumerate(self.classifiers):\n",
    "            sample_dt = sample[dt.get_idx()]\n",
    "            (_, pred_float[i]) = dt.predict(sample_dt)\n",
    "            pred_list[i] = np.sign(pred_float[i])\n",
    "        \n",
    "        output = np.argmax(np.bincount(pred_list + 1)) - 1\n",
    "        if to_output == True:\n",
    "            print ('label = {}, output = {}'.format(sample[-1] - 1, output))\n",
    "        return abs(sample[-1] - 1 - output) < 1e-6"
   ]
  },
  {
   "cell_type": "code",
   "execution_count": 111,
   "metadata": {
    "ExecuteTime": {
     "end_time": "2018-09-30T07:48:05.538851Z",
     "start_time": "2018-09-30T07:47:32.551334Z"
    }
   },
   "outputs": [
    {
     "name": "stdout",
     "output_type": "stream",
     "text": [
      "In round 0:\n",
      "train_accuracy: 0.785714\n",
      "test_accuracy: 0.533333\n",
      "In round 10:\n",
      "train_accuracy: 1.000000\n",
      "test_accuracy: 0.933333\n",
      "In round 20:\n",
      "train_accuracy: 0.985714\n",
      "test_accuracy: 0.966667\n",
      "In round 30:\n",
      "train_accuracy: 0.985714\n",
      "test_accuracy: 0.966667\n",
      "In round 40:\n",
      "train_accuracy: 0.985714\n",
      "test_accuracy: 0.933333\n",
      "In round 50:\n",
      "train_accuracy: 0.985714\n",
      "test_accuracy: 0.966667\n",
      "In round 60:\n",
      "train_accuracy: 0.985714\n",
      "test_accuracy: 0.966667\n",
      "In round 70:\n",
      "train_accuracy: 0.985714\n",
      "test_accuracy: 0.966667\n",
      "In round 80:\n",
      "train_accuracy: 0.985714\n",
      "test_accuracy: 0.966667\n",
      "In round 90:\n",
      "train_accuracy: 0.985714\n",
      "test_accuracy: 0.966667\n"
     ]
    }
   ],
   "source": [
    "np.random.seed(3)\n",
    "(data_train, data_test) = get_data_iris()\n",
    "\n",
    "bag = RandomForest(max_dep = 5, T = 100)\n",
    "model_info = bag.fit(data_train, data_test, to_output = True)"
   ]
  },
  {
   "cell_type": "code",
   "execution_count": 112,
   "metadata": {
    "ExecuteTime": {
     "end_time": "2018-09-30T07:48:14.801404Z",
     "start_time": "2018-09-30T07:48:14.675689Z"
    }
   },
   "outputs": [
    {
     "data": {
      "image/png": "[encoded data removed]",
      "text/plain": [
       "<Figure size 432x288 with 1 Axes>"
      ]
     },
     "metadata": {},
     "output_type": "display_data"
    }
   ],
   "source": [
    "plot_acc(model_info)"
   ]
  },
  {
   "cell_type": "code",
   "execution_count": 113,
   "metadata": {
    "ExecuteTime": {
     "end_time": "2018-09-30T07:48:15.886573Z",
     "start_time": "2018-09-30T07:48:15.743003Z"
    }
   },
   "outputs": [
    {
     "ename": "IndexError",
     "evalue": "index 4 is out of bounds for axis 1 with size 3",
     "output_type": "error",
     "traceback": [
      "\u001b[0;31m---------------------------------------------------------------------------\u001b[0m",
      "\u001b[0;31mIndexError\u001b[0m                                Traceback (most recent call last)",
      "\u001b[0;32m<ipython-input-113-03f7247c2294>\u001b[0m in \u001b[0;36m<module>\u001b[0;34m()\u001b[0m\n\u001b[0;32m----> 1\u001b[0;31m \u001b[0mplot_margin\u001b[0m\u001b[0;34m(\u001b[0m\u001b[0mbag\u001b[0m\u001b[0;34m,\u001b[0m \u001b[0mscale\u001b[0m\u001b[0;34m=\u001b[0m\u001b[0;36m100\u001b[0m\u001b[0;34m)\u001b[0m\u001b[0;34m\u001b[0m\u001b[0m\n\u001b[0m",
      "\u001b[0;32m<ipython-input-103-9e097a593d36>\u001b[0m in \u001b[0;36mplot_margin\u001b[0;34m(model, scale)\u001b[0m\n\u001b[1;32m     10\u001b[0m         \u001b[0;32mfor\u001b[0m \u001b[0mj\u001b[0m \u001b[0;32min\u001b[0m \u001b[0mrange\u001b[0m\u001b[0;34m(\u001b[0m\u001b[0mlen\u001b[0m\u001b[0;34m(\u001b[0m\u001b[0myv\u001b[0m\u001b[0;34m)\u001b[0m\u001b[0;34m)\u001b[0m\u001b[0;34m:\u001b[0m\u001b[0;34m\u001b[0m\u001b[0m\n\u001b[1;32m     11\u001b[0m             \u001b[0mcur\u001b[0m \u001b[0;34m=\u001b[0m \u001b[0mnp\u001b[0m\u001b[0;34m.\u001b[0m\u001b[0marray\u001b[0m\u001b[0;34m(\u001b[0m\u001b[0;34m[\u001b[0m\u001b[0mxv\u001b[0m\u001b[0;34m[\u001b[0m\u001b[0mi\u001b[0m\u001b[0;34m,\u001b[0m\u001b[0mj\u001b[0m\u001b[0;34m]\u001b[0m\u001b[0;34m,\u001b[0m \u001b[0myv\u001b[0m\u001b[0;34m[\u001b[0m\u001b[0mi\u001b[0m\u001b[0;34m,\u001b[0m\u001b[0mj\u001b[0m\u001b[0;34m]\u001b[0m\u001b[0;34m,\u001b[0m \u001b[0;36m2.0\u001b[0m\u001b[0;34m]\u001b[0m\u001b[0;34m)\u001b[0m\u001b[0;34m\u001b[0m\u001b[0m\n\u001b[0;32m---> 12\u001b[0;31m             \u001b[0;32mif\u001b[0m \u001b[0mmodel\u001b[0m\u001b[0;34m.\u001b[0m\u001b[0mpredict\u001b[0m\u001b[0;34m(\u001b[0m\u001b[0mcur\u001b[0m\u001b[0;34m)\u001b[0m \u001b[0;34m==\u001b[0m \u001b[0;32mTrue\u001b[0m\u001b[0;34m:\u001b[0m\u001b[0;34m\u001b[0m\u001b[0m\n\u001b[0m\u001b[1;32m     13\u001b[0m                 \u001b[0mposi_list\u001b[0m\u001b[0;34m.\u001b[0m\u001b[0mappend\u001b[0m\u001b[0;34m(\u001b[0m\u001b[0mnp\u001b[0m\u001b[0;34m.\u001b[0m\u001b[0marray\u001b[0m\u001b[0;34m(\u001b[0m\u001b[0;34m[\u001b[0m\u001b[0mcur\u001b[0m\u001b[0;34m[\u001b[0m\u001b[0;36m0\u001b[0m\u001b[0;34m]\u001b[0m\u001b[0;34m,\u001b[0m \u001b[0mcur\u001b[0m\u001b[0;34m[\u001b[0m\u001b[0;36m1\u001b[0m\u001b[0;34m]\u001b[0m\u001b[0;34m]\u001b[0m\u001b[0;34m)\u001b[0m\u001b[0;34m)\u001b[0m\u001b[0;34m\u001b[0m\u001b[0m\n\u001b[1;32m     14\u001b[0m             \u001b[0;32melse\u001b[0m\u001b[0;34m:\u001b[0m\u001b[0;34m\u001b[0m\u001b[0m\n",
      "\u001b[0;32m<ipython-input-107-16492b811a54>\u001b[0m in \u001b[0;36mpredict\u001b[0;34m(self, sample, to_output)\u001b[0m\n\u001b[1;32m     50\u001b[0m         \u001b[0mpred_float\u001b[0m\u001b[0;34m,\u001b[0m \u001b[0mpred_list\u001b[0m \u001b[0;34m=\u001b[0m \u001b[0mnp\u001b[0m\u001b[0;34m.\u001b[0m\u001b[0mzeros\u001b[0m\u001b[0;34m(\u001b[0m\u001b[0msz\u001b[0m\u001b[0;34m,\u001b[0m \u001b[0mnp\u001b[0m\u001b[0;34m.\u001b[0m\u001b[0mfloat64\u001b[0m\u001b[0;34m)\u001b[0m\u001b[0;34m,\u001b[0m \u001b[0mnp\u001b[0m\u001b[0;34m.\u001b[0m\u001b[0mzeros\u001b[0m\u001b[0;34m(\u001b[0m\u001b[0msz\u001b[0m\u001b[0;34m,\u001b[0m \u001b[0mnp\u001b[0m\u001b[0;34m.\u001b[0m\u001b[0mint\u001b[0m\u001b[0;34m)\u001b[0m\u001b[0;34m\u001b[0m\u001b[0m\n\u001b[1;32m     51\u001b[0m         \u001b[0;32mfor\u001b[0m \u001b[0;34m(\u001b[0m\u001b[0mi\u001b[0m\u001b[0;34m,\u001b[0m \u001b[0mdt\u001b[0m\u001b[0;34m)\u001b[0m \u001b[0;32min\u001b[0m \u001b[0menumerate\u001b[0m\u001b[0;34m(\u001b[0m\u001b[0mself\u001b[0m\u001b[0;34m.\u001b[0m\u001b[0mclassifiers\u001b[0m\u001b[0;34m)\u001b[0m\u001b[0;34m:\u001b[0m\u001b[0;34m\u001b[0m\u001b[0m\n\u001b[0;32m---> 52\u001b[0;31m             \u001b[0msample_dt\u001b[0m \u001b[0;34m=\u001b[0m \u001b[0msample\u001b[0m\u001b[0;34m[\u001b[0m\u001b[0mdt\u001b[0m\u001b[0;34m.\u001b[0m\u001b[0mget_idx\u001b[0m\u001b[0;34m(\u001b[0m\u001b[0;34m)\u001b[0m\u001b[0;34m]\u001b[0m\u001b[0;34m\u001b[0m\u001b[0m\n\u001b[0m\u001b[1;32m     53\u001b[0m             \u001b[0;34m(\u001b[0m\u001b[0m_\u001b[0m\u001b[0;34m,\u001b[0m \u001b[0mpred_float\u001b[0m\u001b[0;34m[\u001b[0m\u001b[0mi\u001b[0m\u001b[0;34m]\u001b[0m\u001b[0;34m)\u001b[0m \u001b[0;34m=\u001b[0m \u001b[0mdt\u001b[0m\u001b[0;34m.\u001b[0m\u001b[0mpredict\u001b[0m\u001b[0;34m(\u001b[0m\u001b[0msample_dt\u001b[0m\u001b[0;34m)\u001b[0m\u001b[0;34m\u001b[0m\u001b[0m\n\u001b[1;32m     54\u001b[0m             \u001b[0mpred_list\u001b[0m\u001b[0;34m[\u001b[0m\u001b[0mi\u001b[0m\u001b[0;34m]\u001b[0m \u001b[0;34m=\u001b[0m \u001b[0mnp\u001b[0m\u001b[0;34m.\u001b[0m\u001b[0msign\u001b[0m\u001b[0;34m(\u001b[0m\u001b[0mpred_float\u001b[0m\u001b[0;34m[\u001b[0m\u001b[0mi\u001b[0m\u001b[0;34m]\u001b[0m\u001b[0;34m)\u001b[0m\u001b[0;34m\u001b[0m\u001b[0m\n",
      "\u001b[0;31mIndexError\u001b[0m: index 4 is out of bounds for axis 1 with size 3"
     ]
    },
    {
     "data": {
      "image/png": "[encoded data removed]",
      "text/plain": [
       "<Figure size 432x288 with 1 Axes>"
      ]
     },
     "metadata": {},
     "output_type": "display_data"
    }
   ],
   "source": [
    "plot_margin(bag, scale=100)"
   ]
  }
 ],
 "metadata": {
  "kernelspec": {
   "display_name": "Python 3",
   "language": "python",
   "name": "python3"
  },
  "language_info": {
   "codemirror_mode": {
    "name": "ipython",
    "version": 3
   },
   "file_extension": ".py",
   "mimetype": "text/x-python",
   "name": "python",
   "nbconvert_exporter": "python",
   "pygments_lexer": "ipython3",
   "version": "3.6.5"
  }
 },
 "nbformat": 4,
 "nbformat_minor": 2
}
