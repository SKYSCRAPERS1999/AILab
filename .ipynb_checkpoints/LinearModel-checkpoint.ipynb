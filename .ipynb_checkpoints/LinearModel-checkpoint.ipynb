{
 "cells": [
  {
   "cell_type": "code",
   "execution_count": 2,
   "metadata": {
    "ExecuteTime": {
     "end_time": "2018-09-24T01:42:34.164090Z",
     "start_time": "2018-09-24T01:42:34.161377Z"
    }
   },
   "outputs": [],
   "source": [
    "import numpy as np, pandas as pd, math\n",
    "import matplotlib.pyplot as plt"
   ]
  },
  {
   "cell_type": "markdown",
   "metadata": {
    "ExecuteTime": {
     "end_time": "2018-09-12T08:42:07.221636Z",
     "start_time": "2018-09-12T08:42:07.215213Z"
    }
   },
   "source": [
    "## 3.3"
   ]
  },
  {
   "cell_type": "code",
   "execution_count": 481,
   "metadata": {
    "ExecuteTime": {
     "end_time": "2018-09-24T06:31:13.281870Z",
     "start_time": "2018-09-24T06:31:13.184657Z"
    }
   },
   "outputs": [
    {
     "name": "stderr",
     "output_type": "stream",
     "text": [
      "/home/impulse/anaconda3/lib/python3.6/site-packages/ipykernel_launcher.py:3: SettingWithCopyWarning: \n",
      "A value is trying to be set on a copy of a slice from a DataFrame.\n",
      "Try using .loc[row_indexer,col_indexer] = value instead\n",
      "\n",
      "See the caveats in the documentation: http://pandas.pydata.org/pandas-docs/stable/indexing.html#indexing-view-versus-copy\n",
      "  This is separate from the ipykernel package so we can avoid doing imports until\n"
     ]
    }
   ],
   "source": [
    "data3 = pd.read_csv('./data3.csv')\n",
    "data3_alpha = data3.get(['密度', '含糖率', '好瓜'])\n",
    "data3_alpha['好瓜'] = data3_alpha['好瓜'].apply(lambda x: 1 if x == '是' else 0)\n",
    "data3_alpha.head()\n",
    "\n",
    "feature, label = data3_alpha.get(['密度', '含糖率']), data3_alpha['好瓜']\n",
    "feature, label = feature.values, label.values\n",
    "feature = np.c_[feature, np.ones(len(feature))]"
   ]
  },
  {
   "cell_type": "code",
   "execution_count": 487,
   "metadata": {
    "ExecuteTime": {
     "end_time": "2018-09-24T06:34:04.886121Z",
     "start_time": "2018-09-24T06:34:04.882261Z"
    }
   },
   "outputs": [],
   "source": [
    "def gauss(x, y, sigma = 0.15):\n",
    "    z = np.square(x - y)\n",
    "    if len(z.shape) > 1: z = z.sum(axis = 1)\n",
    "    else: z = z.sum()\n",
    "    t = -z / float(2.0 * sigma * sigma)\n",
    "    return np.exp(t)"
   ]
  },
  {
   "cell_type": "code",
   "execution_count": 465,
   "metadata": {
    "ExecuteTime": {
     "end_time": "2018-09-24T06:23:28.225008Z",
     "start_time": "2018-09-24T06:23:28.204914Z"
    }
   },
   "outputs": [],
   "source": [
    "def deriv(feature, label, beta, lamda = 0.1, ker = True, kappa = None):\n",
    "    m = feature.shape[1]\n",
    "    n = feature.shape[0]\n",
    "    ret = np.zeros(m)\n",
    "    if ker == True:\n",
    "        ret = np.zeros(n)\n",
    "    \n",
    "    if ker == False:\n",
    "        for i in range(n):\n",
    "            y = np.exp(np.dot(beta, feature[i]))\n",
    "            p1 = float(y) / float(1 + y)\n",
    "            ret -= feature[i] * (label[i] - p1)\n",
    "        ret += 2 * lamda * beta ## l2 正则\n",
    "    else:\n",
    "        for j in range(n):\n",
    "            for i in range(n):\n",
    "                y = np.exp(np.dot(beta, kappa[i]))\n",
    "                p1 = float(y) / float(1 + y)\n",
    "                ret[j] -= kappa[i, j] * (label[i] - p1)\n",
    "    return ret"
   ]
  },
  {
   "cell_type": "code",
   "execution_count": 466,
   "metadata": {
    "ExecuteTime": {
     "end_time": "2018-09-24T06:23:29.305327Z",
     "start_time": "2018-09-24T06:23:29.292450Z"
    }
   },
   "outputs": [],
   "source": [
    "def LR(feature, label, kappa = None, ker = True, beta = np.ones(3), step = 1.0, output = 0):\n",
    "    n = feature.shape[0]\n",
    "    m, i = feature.shape[1], 0\n",
    "    \n",
    "    beta, last = np.ones(m), np.zeros(m)\n",
    "    if ker == True:\n",
    "        beta, last = np.ones(n), np.zeros(n)\n",
    "        \n",
    "    while np.sum(np.square(last - beta)) > 1e-3:\n",
    "        i = i + 1\n",
    "        if output and (i < 10 or i % 100 == 0):\n",
    "            print (i, beta)\n",
    "        last = beta\n",
    "        beta = beta - deriv(feature, label, beta, 0.1, ker, kappa) * step / i\n",
    "    return beta"
   ]
  },
  {
   "cell_type": "code",
   "execution_count": 467,
   "metadata": {
    "ExecuteTime": {
     "end_time": "2018-09-24T06:23:30.517502Z",
     "start_time": "2018-09-24T06:23:30.510389Z"
    }
   },
   "outputs": [],
   "source": [
    "def plotBestFit(beta, feature, label):\n",
    "    xcord1, ycord1 = [],  []\n",
    "    xcord2, ycord2 = [],  []\n",
    "    for i in range(len(feature)):\n",
    "        if int(label[i]) == 1:\n",
    "            xcord1.append(feature[i, 0]); ycord1.append(feature[i, 1])\n",
    "        else:\n",
    "            xcord2.append(feature[i, 0]); ycord2.append(feature[i, 1])\n",
    "    fig = plt.figure()\n",
    "    ax = fig.add_subplot(111)\n",
    "    ax.scatter(xcord1, ycord1, s = 30, c = 'red', marker='s')\n",
    "    ax.scatter(xcord2, ycord2, s = 30, c = 'green')\n",
    "    x = np.arange(0, 1, 0.1)\n",
    "    y = (-beta[2] - beta[0] * x) / beta[1] ## w1*x1 + w2*x2 + b = 0\n",
    "    ax.plot(x, y)\n",
    "    plt.xlabel(\"X1\"); plt.ylabel(\"X2\")\n",
    "    plt.show()"
   ]
  },
  {
   "cell_type": "code",
   "execution_count": 492,
   "metadata": {
    "ExecuteTime": {
     "end_time": "2018-09-24T06:35:13.903796Z",
     "start_time": "2018-09-24T06:34:59.713168Z"
    }
   },
   "outputs": [
    {
     "data": {
      "text/plain": [
       "[<matplotlib.lines.Line2D at 0x7f79681fe400>,\n",
       " <matplotlib.lines.Line2D at 0x7f79681e7fd0>,\n",
       " <matplotlib.lines.Line2D at 0x7f7968abd160>,\n",
       " <matplotlib.lines.Line2D at 0x7f7968abd2b0>,\n",
       " <matplotlib.lines.Line2D at 0x7f7968abd400>,\n",
       " <matplotlib.lines.Line2D at 0x7f7968abd550>,\n",
       " <matplotlib.lines.Line2D at 0x7f7968abd6a0>,\n",
       " <matplotlib.lines.Line2D at 0x7f7968abd7f0>]"
      ]
     },
     "execution_count": 492,
     "metadata": {},
     "output_type": "execute_result"
    },
    {
     "data": {
      "image/png": "[encoded data removed]",
      "text/plain": [
       "<Figure size 432x288 with 1 Axes>"
      ]
     },
     "metadata": {},
     "output_type": "display_data"
    }
   ],
   "source": [
    "xv, yv = np.meshgrid(np.linspace(0, 0.8, 300), np.linspace(0, 0.5, 300), sparse=False, indexing='ij')\n",
    "test_posi = []\n",
    "test_nega = []\n",
    "for i in range(len(xv)):\n",
    "    for j in range(len(yv)):\n",
    "        cur = np.array([xv[i,j], yv[i,j], 1.0]) + 1e-8 * np.ones(3)\n",
    "        kappa = np.zeros(n)\n",
    "        for k in range(n): \n",
    "            kappa[k] = gauss(feature[k], cur)\n",
    "        predict = np.dot(kappa, beta)\n",
    "        if predict >= 0:\n",
    "            test_posi.append([cur[0], cur[1]])\n",
    "        else:\n",
    "            test_nega.append([cur[0], cur[1]])\n",
    "            \n",
    "test_posi = np.array(test_posi)\n",
    "test_nega = np.array(test_nega)\n",
    "\n",
    "plt.plot(test_posi[:,0], test_posi[:,1], color = 'green')\n",
    "plt.plot(test_nega[:,0], test_nega[:,1], color = 'gray')\n",
    "\n",
    "plt.plot(feature[np.where(label==0),0], feature[np.where(label==0),1], marker='*', color = 'red')\n",
    "plt.plot(feature[np.where(label==1),0], feature[np.where(label==1),1], marker='*', color = 'blue')"
   ]
  },
  {
   "cell_type": "code",
   "execution_count": 488,
   "metadata": {
    "ExecuteTime": {
     "end_time": "2018-09-24T06:34:09.067460Z",
     "start_time": "2018-09-24T06:34:08.882653Z"
    }
   },
   "outputs": [
    {
     "name": "stdout",
     "output_type": "stream",
     "text": [
      "1 4.9082791077003645\n",
      "1 4.1800782507620236\n",
      "1 2.5605216751630087\n",
      "1 4.273774763551626\n",
      "1 1.6058232767691996\n",
      "1 1.180683434983101\n",
      "1 0.3589033326822968\n",
      "1 1.4540603960989826\n",
      "0 -4.205609313485477\n",
      "0 -1.6554451012041813\n",
      "0 -2.016665971956054\n",
      "0 -1.1374089007199042\n",
      "0 -1.7742586990278086\n",
      "0 -0.5059720515154273\n",
      "0 0.30718012425436086\n",
      "0 -3.6744369597491406\n",
      "0 -4.180631150138382\n",
      "\n",
      " 0.9411764705882353\n"
     ]
    },
    {
     "data": {
      "text/plain": [
       "<matplotlib.collections.PathCollection at 0x7f796b3335c0>"
      ]
     },
     "execution_count": 488,
     "metadata": {},
     "output_type": "execute_result"
    },
    {
     "data": {
      "image/png": "[encoded data removed]",
      "text/plain": [
       "<Figure size 432x288 with 1 Axes>"
      ]
     },
     "metadata": {},
     "output_type": "display_data"
    }
   ],
   "source": [
    "n = len(feature)\n",
    "kappa = np.zeros((n, n))\n",
    "for i in range(n): \n",
    "    for j in range(n): \n",
    "        kappa[i, j] = gauss(feature[i], feature[j])\n",
    "        \n",
    "beta = LR(feature, label, kappa, True)\n",
    "\n",
    "if len(beta) > 3:\n",
    "    for i in range(n):\n",
    "        print(label[i], np.dot(beta, kappa[i]))\n",
    "    acc = [ 1 if (x > 0 and y == 1) or (x <= 0 and y == 0) else 0 for x, y in zip(np.dot(kappa, beta), label) ]\n",
    "else:\n",
    "    for i in range(n):\n",
    "        print(label[i], np.dot(beta, feature[i]))\n",
    "    acc = [ 1 if (x > 0 and y == 1) or (x <= 0 and y == 0) else 0 for x, y in zip(np.dot(feature, beta), label) ]\n",
    "\n",
    "print ('\\n', sum(acc) / len(acc))\n",
    "\n",
    "\n",
    "plt.scatter(feature[np.where(label==0),0], feature[np.where(label==0),1], marker='x')\n",
    "plt.scatter(feature[np.where(label==1),0], feature[np.where(label==1),1], marker='*')\n",
    "# plotBestFit(beta, feature, label)"
   ]
  },
  {
   "cell_type": "markdown",
   "metadata": {
    "heading_collapsed": true
   },
   "source": [
    "## 3.4"
   ]
  },
  {
   "cell_type": "code",
   "execution_count": 683,
   "metadata": {
    "ExecuteTime": {
     "end_time": "2018-09-12T12:08:38.838598Z",
     "start_time": "2018-09-12T12:08:38.814779Z"
    },
    "hidden": true
   },
   "outputs": [],
   "source": [
    "data_iris = pd.read_csv('./data_iris.csv', names=['sepal_l', 'sepal_w', 'petal_l', 'petal_w', 'type'])"
   ]
  },
  {
   "cell_type": "code",
   "execution_count": 684,
   "metadata": {
    "ExecuteTime": {
     "end_time": "2018-09-12T12:08:39.445077Z",
     "start_time": "2018-09-12T12:08:39.429499Z"
    },
    "hidden": true
   },
   "outputs": [],
   "source": [
    "def idxing(x):\n",
    "    if x == 'Iris-setosa':\n",
    "        return 0\n",
    "    elif x == 'Iris-versicolor':\n",
    "        return 1\n",
    "    else:\n",
    "        return 2\n",
    "data_iris['type'] = data_iris['type'].apply(idxing)"
   ]
  },
  {
   "cell_type": "code",
   "execution_count": 687,
   "metadata": {
    "ExecuteTime": {
     "end_time": "2018-09-12T12:11:19.354698Z",
     "start_time": "2018-09-12T12:11:19.342151Z"
    },
    "hidden": true
   },
   "outputs": [],
   "source": [
    "def data_from_idx(data, idx):\n",
    "    data = data[data['type'] != (idx + 2) % 3]\n",
    "    data['type'] = data['type'].apply(lambda x: 0 if x == idx else 1)    \n",
    "    return data"
   ]
  },
  {
   "cell_type": "code",
   "execution_count": 755,
   "metadata": {
    "ExecuteTime": {
     "end_time": "2018-09-12T12:57:24.081866Z",
     "start_time": "2018-09-12T12:57:24.076014Z"
    },
    "hidden": true
   },
   "outputs": [],
   "source": [
    "def ten_fold(df):\n",
    "    \n",
    "    fold = 10\n",
    "    data = data_from_idx(df, 0)\n",
    "    data = data.values\n",
    "    \n",
    "    correct_num = 0\n",
    "\n",
    "    for T in range(10):\n",
    "        np.random.shuffle(data)\n",
    "\n",
    "        feature = data[:,:-1]\n",
    "        label = data[:,-1]\n",
    "        feature = np.c_[feature, np.ones(len(data))]\n",
    "\n",
    "        for i in range(fold):\n",
    "            index_test = np.arange(i, len(data), fold)\n",
    "            index_train = np.array(list(set(range(100)).difference(index_test)))\n",
    "\n",
    "            feature_train = feature[index_train]\n",
    "            label_train = label[index_train]\n",
    "\n",
    "            feature_test = feature[index_test]\n",
    "            label_test = label[index_test]\n",
    "            predict_label_test = np.zeros(len(label_test))\n",
    "\n",
    "            beta = LR(feature_train, label_train)\n",
    "            for i in range(len(label_test)):\n",
    "                t = 1 if np.dot(beta, feature_test[i]) >= 0 else 0\n",
    "                predict_label_test[i] = t\n",
    "\n",
    "#             print(predict_label_test)\n",
    "#             print(label_test)\n",
    "            correct_num += np.sum(predict_label_test == label_test)\n",
    "    \n",
    "    print ('accuracy is {}%'.format(correct_num / float(10)))\n",
    "    \n",
    "    return "
   ]
  },
  {
   "cell_type": "code",
   "execution_count": 756,
   "metadata": {
    "ExecuteTime": {
     "end_time": "2018-09-12T12:57:38.362968Z",
     "start_time": "2018-09-12T12:57:25.181573Z"
    },
    "hidden": true
   },
   "outputs": [
    {
     "name": "stderr",
     "output_type": "stream",
     "text": [
      "/home/impulse/anaconda3/lib/python3.6/site-packages/ipykernel_launcher.py:3: SettingWithCopyWarning: \n",
      "A value is trying to be set on a copy of a slice from a DataFrame.\n",
      "Try using .loc[row_indexer,col_indexer] = value instead\n",
      "\n",
      "See the caveats in the documentation: http://pandas.pydata.org/pandas-docs/stable/indexing.html#indexing-view-versus-copy\n",
      "  This is separate from the ipykernel package so we can avoid doing imports until\n"
     ]
    },
    {
     "name": "stdout",
     "output_type": "stream",
     "text": [
      "accuracy is 89.8%\n"
     ]
    }
   ],
   "source": [
    "ten_fold(data_iris)"
   ]
  },
  {
   "cell_type": "code",
   "execution_count": 764,
   "metadata": {
    "ExecuteTime": {
     "end_time": "2018-09-12T13:03:30.518325Z",
     "start_time": "2018-09-12T13:03:30.497853Z"
    },
    "hidden": true
   },
   "outputs": [],
   "source": [
    "def n_fold(df):\n",
    "    \n",
    "    data = data_from_idx(df, 0)\n",
    "    data = data.values\n",
    "    fold = len(data)\n",
    "    \n",
    "    correct_num = 0\n",
    "\n",
    "    np.random.shuffle(data)\n",
    "\n",
    "    feature = data[:,:-1]\n",
    "    label = data[:,-1]\n",
    "    feature = np.c_[feature, np.ones(len(data))]\n",
    "\n",
    "    for i in range(fold):\n",
    "        print ('i = {}'.format(i))\n",
    "        index_test = np.arange(i, len(data), fold)\n",
    "        index_train = np.array(list(set(range(100)).difference(index_test)))\n",
    "\n",
    "        feature_train = feature[index_train]\n",
    "        label_train = label[index_train]\n",
    "\n",
    "        feature_test = feature[index_test]\n",
    "        label_test = label[index_test]\n",
    "        predict_label_test = np.zeros(len(label_test))\n",
    "\n",
    "        beta = LR(feature_train, label_train)\n",
    "        for i in range(len(label_test)):\n",
    "            t = 1 if np.dot(beta, feature_test[i]) >= 0 else 0\n",
    "            predict_label_test[i] = t\n",
    "\n",
    "#             print(predict_label_test)\n",
    "#             print(label_test)\n",
    "        correct_num += np.sum(predict_label_test == label_test)\n",
    "    \n",
    "    print ('accuracy is {}%'.format(correct_num))\n",
    "    \n",
    "    return "
   ]
  },
  {
   "cell_type": "code",
   "execution_count": 765,
   "metadata": {
    "ExecuteTime": {
     "end_time": "2018-09-12T13:03:44.513141Z",
     "start_time": "2018-09-12T13:03:31.056240Z"
    },
    "hidden": true,
    "scrolled": true
   },
   "outputs": [
    {
     "name": "stderr",
     "output_type": "stream",
     "text": [
      "/home/impulse/anaconda3/lib/python3.6/site-packages/ipykernel_launcher.py:3: SettingWithCopyWarning: \n",
      "A value is trying to be set on a copy of a slice from a DataFrame.\n",
      "Try using .loc[row_indexer,col_indexer] = value instead\n",
      "\n",
      "See the caveats in the documentation: http://pandas.pydata.org/pandas-docs/stable/indexing.html#indexing-view-versus-copy\n",
      "  This is separate from the ipykernel package so we can avoid doing imports until\n"
     ]
    },
    {
     "name": "stdout",
     "output_type": "stream",
     "text": [
      "i = 0\n",
      "i = 1\n",
      "i = 2\n",
      "i = 3\n",
      "i = 4\n",
      "i = 5\n",
      "i = 6\n",
      "i = 7\n",
      "i = 8\n",
      "i = 9\n",
      "i = 10\n",
      "i = 11\n",
      "i = 12\n",
      "i = 13\n",
      "i = 14\n",
      "i = 15\n",
      "i = 16\n",
      "i = 17\n",
      "i = 18\n",
      "i = 19\n",
      "i = 20\n",
      "i = 21\n",
      "i = 22\n",
      "i = 23\n",
      "i = 24\n",
      "i = 25\n",
      "i = 26\n",
      "i = 27\n",
      "i = 28\n",
      "i = 29\n",
      "i = 30\n",
      "i = 31\n",
      "i = 32\n",
      "i = 33\n",
      "i = 34\n",
      "i = 35\n",
      "i = 36\n",
      "i = 37\n",
      "i = 38\n",
      "i = 39\n",
      "i = 40\n",
      "i = 41\n",
      "i = 42\n",
      "i = 43\n",
      "i = 44\n",
      "i = 45\n",
      "i = 46\n",
      "i = 47\n",
      "i = 48\n",
      "i = 49\n",
      "i = 50\n",
      "i = 51\n",
      "i = 52\n",
      "i = 53\n",
      "i = 54\n",
      "i = 55\n",
      "i = 56\n",
      "i = 57\n",
      "i = 58\n",
      "i = 59\n",
      "i = 60\n",
      "i = 61\n",
      "i = 62\n",
      "i = 63\n",
      "i = 64\n",
      "i = 65\n",
      "i = 66\n",
      "i = 67\n",
      "i = 68\n",
      "i = 69\n",
      "i = 70\n",
      "i = 71\n",
      "i = 72\n",
      "i = 73\n",
      "i = 74\n",
      "i = 75\n",
      "i = 76\n",
      "i = 77\n",
      "i = 78\n",
      "i = 79\n",
      "i = 80\n",
      "i = 81\n",
      "i = 82\n",
      "i = 83\n",
      "i = 84\n",
      "i = 85\n",
      "i = 86\n",
      "i = 87\n",
      "i = 88\n",
      "i = 89\n",
      "i = 90\n",
      "i = 91\n",
      "i = 92\n",
      "i = 93\n",
      "i = 94\n",
      "i = 95\n",
      "i = 96\n",
      "i = 97\n",
      "i = 98\n",
      "i = 99\n",
      "accuracy is 100%\n"
     ]
    }
   ],
   "source": [
    "n_fold(data_iris)"
   ]
  },
  {
   "cell_type": "markdown",
   "metadata": {
    "heading_collapsed": true
   },
   "source": [
    "## 3.5"
   ]
  },
  {
   "cell_type": "code",
   "execution_count": 883,
   "metadata": {
    "ExecuteTime": {
     "end_time": "2018-09-12T16:00:10.193175Z",
     "start_time": "2018-09-12T16:00:10.134548Z"
    },
    "hidden": true
   },
   "outputs": [
    {
     "name": "stderr",
     "output_type": "stream",
     "text": [
      "/home/impulse/anaconda3/lib/python3.6/site-packages/ipykernel_launcher.py:3: SettingWithCopyWarning: \n",
      "A value is trying to be set on a copy of a slice from a DataFrame.\n",
      "Try using .loc[row_indexer,col_indexer] = value instead\n",
      "\n",
      "See the caveats in the documentation: http://pandas.pydata.org/pandas-docs/stable/indexing.html#indexing-view-versus-copy\n",
      "  This is separate from the ipykernel package so we can avoid doing imports until\n"
     ]
    }
   ],
   "source": [
    "data3 = pd.read_csv('./data3.csv')\n",
    "data3_alpha = data3.get(['密度', '含糖率', '好瓜'])\n",
    "data3_alpha['好瓜'] = data3_alpha['好瓜'].apply(lambda x: 1 if x == '是' else 0)\n",
    "data3_alpha.head()\n",
    "\n",
    "feature, label = data3_alpha.get(['密度', '含糖率']), data3_alpha['好瓜']\n",
    "feature, label = feature.values, label.values"
   ]
  },
  {
   "cell_type": "code",
   "execution_count": 802,
   "metadata": {
    "ExecuteTime": {
     "end_time": "2018-09-12T15:18:05.281068Z",
     "start_time": "2018-09-12T15:18:05.270513Z"
    },
    "hidden": true
   },
   "outputs": [],
   "source": [
    "def Devi(data): # 样本离差阵\n",
    "    bar = np.mean(data)\n",
    "    data -= bar\n",
    "    return np.dot(data.T, data)"
   ]
  },
  {
   "cell_type": "code",
   "execution_count": 916,
   "metadata": {
    "ExecuteTime": {
     "end_time": "2018-09-12T16:12:50.815556Z",
     "start_time": "2018-09-12T16:12:50.792310Z"
    },
    "hidden": true
   },
   "outputs": [],
   "source": [
    "def LDA(feature, label):\n",
    "    feature_1 = feature[label == 1]\n",
    "    feature_0 = feature[label == 0]\n",
    "    \n",
    "    bar_1 = np.apply_along_axis(arr=feature_1, axis=0, func1d=np.mean)\n",
    "    bar_0 = np.apply_along_axis(arr=feature_0, axis=0, func1d=np.mean)\n",
    "#     Sb = np.dot(bar_0, bar_1.T)\n",
    "    S0, S1 = Devi(feature_0), Devi(feature_1)\n",
    "    Sw = S0 + S1\n",
    "    U, S, VT = np.linalg.svd(Sw)\n",
    "    \n",
    "    end = 0\n",
    "    for i in range(len(S) + 1):\n",
    "        if S[:end].sum() / float(S.sum()) <= 0.99:\n",
    "            end = i\n",
    "            \n",
    "    w = np.linalg.multi_dot([VT.T[:,:end], np.linalg.inv(np.diag(S[:end])), U[:end,:], bar_0 - bar_1])\n",
    "    return w"
   ]
  },
  {
   "cell_type": "code",
   "execution_count": 917,
   "metadata": {
    "ExecuteTime": {
     "end_time": "2018-09-12T16:12:51.624815Z",
     "start_time": "2018-09-12T16:12:51.611108Z"
    },
    "hidden": true
   },
   "outputs": [],
   "source": [
    "w = LDA(feature, label)"
   ]
  },
  {
   "cell_type": "code",
   "execution_count": 918,
   "metadata": {
    "ExecuteTime": {
     "end_time": "2018-09-12T16:12:52.296020Z",
     "start_time": "2018-09-12T16:12:52.268737Z"
    },
    "hidden": true
   },
   "outputs": [],
   "source": [
    "def plotDisCriminant(w, feature, label):\n",
    "    xcord1, ycord1 = feature[label == 0, 0], feature[label == 0, 1]\n",
    "    xcord2, ycord2 = feature[label == 1, 0], feature[label == 1, 1]\n",
    "    \n",
    "    fig = plt.figure()\n",
    "    ax = fig.add_subplot(111)\n",
    "    ax.scatter(xcord1, ycord1, s = 30, c = 'red', marker='s')\n",
    "    ax.scatter(xcord2, ycord2, s = 30, c = 'green')\n",
    "    x = np.arange(0, 1, 0.1)\n",
    "    y = 1.0 * w[1] / w[0] * x\n",
    "    ax.plot(x, y)\n",
    "    plt.xlabel(\"X1\"); plt.ylabel(\"X2\")\n",
    "    plt.show()"
   ]
  },
  {
   "cell_type": "code",
   "execution_count": 919,
   "metadata": {
    "ExecuteTime": {
     "end_time": "2018-09-12T16:12:53.219344Z",
     "start_time": "2018-09-12T16:12:53.037261Z"
    },
    "hidden": true
   },
   "outputs": [
    {
     "data": {
      "image/png": "[encoded data removed]",
      "text/plain": [
       "<Figure size 432x288 with 1 Axes>"
      ]
     },
     "metadata": {},
     "output_type": "display_data"
    }
   ],
   "source": [
    "plotDisCriminant(w, feature, label)"
   ]
  },
  {
   "cell_type": "markdown",
   "metadata": {},
   "source": [
    "## More"
   ]
  },
  {
   "cell_type": "code",
   "execution_count": 332,
   "metadata": {
    "ExecuteTime": {
     "end_time": "2018-09-24T05:00:15.837590Z",
     "start_time": "2018-09-24T05:00:15.738235Z"
    }
   },
   "outputs": [
    {
     "data": {
      "image/png": "[encoded data removed]",
      "text/plain": [
       "<Figure size 432x288 with 1 Axes>"
      ]
     },
     "metadata": {},
     "output_type": "display_data"
    }
   ],
   "source": [
    "% matplotlib inline\n",
    "\n",
    "import numpy as np\n",
    "import matplotlib.pyplot as plt\n",
    "import sklearn\n",
    "import sklearn.linear_model\n",
    "import sklearn.kernel_ridge\n",
    "import sklearn.metrics.pairwise\n",
    "\n",
    "def plot_model(X_test, clf):\n",
    "    '''\n",
    "    Note: uses globals x, y, x_test, which are assigned below\n",
    "    when the dataset is created. Don't overwrite these variables.\n",
    "    '''\n",
    "    y_test = clf.predict(X_test)\n",
    "    plt.scatter(x_train, y_train)\n",
    "    plt.plot(x_test, y_test)\n",
    "    plt.legend(['Test', 'Train'])\n",
    "    \n",
    "# Set random seed\n",
    "np.random.seed(0)\n",
    "\n",
    "# Create random set of m training x values between -5 and 5\n",
    "m = 100\n",
    "x_train = np.random.rand(m)*10 - 5   \n",
    "\n",
    "# Create evenly spaced test x values (for plotting)\n",
    "x_test  = np.linspace(-5, 5, 100)\n",
    "m_test  = len(x_test);\n",
    "\n",
    "def f(x):\n",
    "    return 0.1*(x + x**2 + 10*x + 0.5*x**2 - 0.5*x**3)*x\n",
    "\n",
    "def f(x):\n",
    "    return 0.5*np.cos(x) + np.sin(x) + 4*np.cos(2*x) + np.exp(np.cos(3*x))\n",
    "\n",
    "\n",
    "y_train = f(x_train) + np.random.randn(m)   # polynomial plus noise\n",
    "\n",
    "x_train = x_train.reshape(-1, 1)\n",
    "x_test  = x_test.reshape(-1, 1)\n",
    "\n",
    "# Plot the training data\n",
    "plt.scatter(x_train, y_train)\n",
    "plt.title('Training Data')\n",
    "plt.xlabel('x')\n",
    "plt.ylabel('y')\n",
    "plt.show()"
   ]
  },
  {
   "cell_type": "code",
   "execution_count": 340,
   "metadata": {
    "ExecuteTime": {
     "end_time": "2018-09-24T05:12:51.652035Z",
     "start_time": "2018-09-24T05:12:51.508384Z"
    }
   },
   "outputs": [
    {
     "data": {
      "image/png": "[encoded data removed]",
      "text/plain": [
       "<Figure size 432x288 with 1 Axes>"
      ]
     },
     "metadata": {},
     "output_type": "display_data"
    }
   ],
   "source": [
    "clf = sklearn.linear_model.LinearRegression()\n",
    "clf.fit(x_train, y_train)\n",
    "plot_model(x_test, clf)"
   ]
  },
  {
   "cell_type": "code",
   "execution_count": 387,
   "metadata": {
    "ExecuteTime": {
     "end_time": "2018-09-24T05:47:13.527228Z",
     "start_time": "2018-09-24T05:47:13.351770Z"
    }
   },
   "outputs": [
    {
     "data": {
      "image/png": "[encoded data removed]",
      "text/plain": [
       "<Figure size 432x288 with 1 Axes>"
      ]
     },
     "metadata": {},
     "output_type": "display_data"
    }
   ],
   "source": [
    "def linear_kernel(X, Z):\n",
    "    '''\n",
    "    Compute dot product between each row of X and each row of Z\n",
    "    '''\n",
    "    m1,_ = X.shape\n",
    "    m2,_ = Z.shape\n",
    "    K = np.zeros((m1, m2))\n",
    "    for i in range(m1):\n",
    "        for j in range(m2):\n",
    "            K[i,j] = np.dot(X[i,:], Z[j,:])\n",
    "    \n",
    "    return K\n",
    "\n",
    "\n",
    "K_train = linear_kernel(x_train, x_train) + 1e-8 * np.eye(m)  # see note below\n",
    "K_test  = linear_kernel(x_test,  x_train)\n",
    "m = K_train.shape[0]\n",
    "\n",
    "clf = sklearn.linear_model.LinearRegression()\n",
    "clf.fit(K_train, y_train)\n",
    "plot_model(K_test, clf)"
   ]
  },
  {
   "cell_type": "code",
   "execution_count": 389,
   "metadata": {
    "ExecuteTime": {
     "end_time": "2018-09-24T05:47:16.749707Z",
     "start_time": "2018-09-24T05:47:16.531084Z"
    }
   },
   "outputs": [
    {
     "data": {
      "image/png": "[encoded data removed]",
      "text/plain": [
       "<Figure size 432x288 with 1 Axes>"
      ]
     },
     "metadata": {},
     "output_type": "display_data"
    }
   ],
   "source": [
    "# Explicit definition\n",
    "def polynomial_kernel(X, Z, d):\n",
    "    '''\n",
    "    Compute dot product between each row of X and each row of Z\n",
    "    '''\n",
    "    m1,_ = X.shape\n",
    "    m2,_ = Z.shape\n",
    "    K = np.zeros((m1, m2))\n",
    "    for i in range(m1):\n",
    "        for j in range(m2):\n",
    "            K[i,j] = (np.dot(X[i,:], Z[j,:]) + 1)**d\n",
    "            \n",
    "    return K\n",
    "\n",
    "K_train = polynomial_kernel(x_train, x_train, 12) + 1e-8 * np.eye(m)  # see note below\n",
    "K_test  = polynomial_kernel(x_test,  x_train, 12)\n",
    "m = K_train.shape[0]\n",
    "\n",
    "clf = sklearn.linear_model.LinearRegression()\n",
    "clf.fit(K_train, y_train)\n",
    "plot_model(K_test, clf)"
   ]
  },
  {
   "cell_type": "code",
   "execution_count": null,
   "metadata": {},
   "outputs": [],
   "source": []
  }
 ],
 "metadata": {
  "kernelspec": {
   "display_name": "Python 3",
   "language": "python",
   "name": "python3"
  },
  "language_info": {
   "codemirror_mode": {
    "name": "ipython",
    "version": 3
   },
   "file_extension": ".py",
   "mimetype": "text/x-python",
   "name": "python",
   "nbconvert_exporter": "python",
   "pygments_lexer": "ipython3",
   "version": "3.6.5"
  }
 },
 "nbformat": 4,
 "nbformat_minor": 2
}
