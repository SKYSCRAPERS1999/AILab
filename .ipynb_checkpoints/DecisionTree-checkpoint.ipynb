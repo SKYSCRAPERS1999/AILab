{
 "cells": [
  {
   "cell_type": "code",
   "execution_count": 1,
   "metadata": {
    "ExecuteTime": {
     "end_time": "2018-09-18T08:33:55.684685Z",
     "start_time": "2018-09-18T08:33:55.253881Z"
    }
   },
   "outputs": [],
   "source": [
    "import matplotlib.pyplot as plt\n",
    "import matplotlib\n",
    "import pandas as pd, numpy as np\n",
    "matplotlib.rcParams[u'font.sans-serif'] = ['simhei']\n",
    "matplotlib.rcParams['axes.unicode_minus'] = False"
   ]
  },
  {
   "cell_type": "code",
   "execution_count": 2,
   "metadata": {
    "ExecuteTime": {
     "end_time": "2018-09-18T08:33:57.855885Z",
     "start_time": "2018-09-18T08:33:57.818966Z"
    }
   },
   "outputs": [],
   "source": [
    "decisionNode = dict(boxstyle='sawtooth', fc='10')\n",
    "leafNode = dict(boxstyle='round4',fc='0.8')\n",
    "arrow_args = dict(arrowstyle='<|-')\n",
    "\n",
    "def plotNode(nodeTxt, centerPt, parentPt, nodeType):\n",
    "    createPlot.ax1.annotate(nodeTxt, xy=parentPt, xycoords='axes fraction',\\\n",
    "                             xytext=centerPt,textcoords='axes fraction',\\\n",
    "                             va='center', ha='center',bbox=nodeType,arrowprops\\\n",
    "                             =arrow_args)\n",
    "\n",
    "def getNumLeafs(myTree):\n",
    "\n",
    "    numLeafs = 0\n",
    "    firstStr = list(myTree.keys())[0]\n",
    "    secondDict = myTree[firstStr]\n",
    "    for key in secondDict:\n",
    "        if(type(secondDict[key]).__name__ == 'dict'):\n",
    "            numLeafs += getNumLeafs(secondDict[key])\n",
    "        else:\n",
    "            numLeafs += 1\n",
    "    return  numLeafs\n",
    "\n",
    "def getTreeDepth(myTree):\n",
    "\n",
    "    maxDepth = 0\n",
    "    firstStr = list(myTree.keys())[0]\n",
    "    secondDict = myTree[firstStr]\n",
    "    for key in secondDict:\n",
    "        if(type(secondDict[key]).__name__ == 'dict'):\n",
    "            thisDepth = 1+getTreeDepth((secondDict[key]))\n",
    "        else:\n",
    "            thisDepth = 1\n",
    "        if thisDepth > maxDepth: maxDepth = thisDepth\n",
    "    return maxDepth\n",
    "\n",
    "def retrieveTree(i):\n",
    "    #预先设置树的信息\n",
    "    listOfTree = [{'no surfacing':{0:'no', 1:{'flipper':{0:'no', 1:'yes'}}}},\n",
    "                  {'no surfacing':{0:'no', 1:{'flipper':{0:{'head':{0:'no', 1:'yes'}},1:'no'}}}},\n",
    "                  {'a1':{0:'b1', 1:{'b2':{0:{'c1':{0:'d1',1:'d2'}}, 1:'c2'}}, 2:'b3'}}]\n",
    "    return listOfTree[i]\n",
    "\n",
    "def createPlot(inTree):\n",
    "    fig = plt.figure(1,facecolor='white')\n",
    "    fig.clf()\n",
    "    axprops = dict(xticks = [], yticks=[])\n",
    "    createPlot.ax1 = plt.subplot(111,frameon = False,**axprops)\n",
    "    plotTree.totalW = float(getNumLeafs(inTree))\n",
    "    plotTree.totalD = float(getTreeDepth(inTree))\n",
    "    plotTree.xOff = -0.5/plotTree.totalW;plotTree.yOff = 1.0\n",
    "    plotTree(inTree,(0.5,1.0), '')\n",
    "    plt.show()\n",
    "\n",
    "def plotMidText(cntrPt, parentPt,txtString):\n",
    "    xMid = (parentPt[0]-cntrPt[0])/2.0 + cntrPt[0]\n",
    "    yMid = (parentPt[1] - cntrPt[1])/2.0 + cntrPt[1]\n",
    "    createPlot.ax1.text(xMid, yMid, txtString)\n",
    "\n",
    "def plotTree(myTree, parentPt, nodeTxt):\n",
    "    numLeafs = getNumLeafs(myTree)\n",
    "    depth = getTreeDepth(myTree)\n",
    "    firstStr = list(myTree.keys())[0]\n",
    "    cntrPt = (plotTree.xOff+(1.0+float(numLeafs))/2.0/plotTree.totalW,\\\n",
    "              plotTree.yOff)\n",
    "    plotMidText(cntrPt,parentPt,nodeTxt)\n",
    "    plotNode(firstStr,cntrPt,parentPt,decisionNode)\n",
    "    secondDict = myTree[firstStr]\n",
    "    plotTree.yOff = plotTree.yOff - 1.0/plotTree.totalD\n",
    "    for key in secondDict:\n",
    "        if type(secondDict[key]).__name__ == 'dict':\n",
    "            plotTree(secondDict[key],cntrPt,str(key))\n",
    "        else:\n",
    "            plotTree.xOff = plotTree.xOff + 1.0/plotTree.totalW\n",
    "            plotNode(secondDict[key],(plotTree.xOff,plotTree.yOff),\\\n",
    "                     cntrPt,leafNode)\n",
    "            plotMidText((plotTree.xOff,plotTree.yOff),cntrPt,str(key))\n",
    "    plotTree.yOff = plotTree.yOff + 1.0/plotTree.totalD"
   ]
  },
  {
   "cell_type": "code",
   "execution_count": 3,
   "metadata": {
    "ExecuteTime": {
     "end_time": "2018-09-18T08:33:59.627556Z",
     "start_time": "2018-09-18T08:33:59.476366Z"
    }
   },
   "outputs": [
    {
     "data": {
      "image/png": "[encoded data removed]",
      "text/plain": [
       "<Figure size 432x288 with 1 Axes>"
      ]
     },
     "metadata": {},
     "output_type": "display_data"
    }
   ],
   "source": [
    "myTree = retrieveTree(2)\n",
    "createPlot(myTree)"
   ]
  },
  {
   "cell_type": "code",
   "execution_count": 4,
   "metadata": {
    "ExecuteTime": {
     "end_time": "2018-09-18T08:34:00.780082Z",
     "start_time": "2018-09-18T08:34:00.743538Z"
    }
   },
   "outputs": [],
   "source": [
    "class TreeNode(object):\n",
    "    def __init__(self, idx, data):\n",
    "        self.idx = idx\n",
    "        self.feature = self.val = None\n",
    "        self.is_leaf = True\n",
    "        \n",
    "        self.posi = len(data[data[data.columns[-1]] == 1])\n",
    "        self.nega = len(data[data[data.columns[-1]] == 0])\n",
    "\n",
    "        self.ch = set()\n",
    "        self.data = data\n",
    "        \n",
    "        if self.posi * 2.0 >= len(data):\n",
    "            self.val = 1\n",
    "        else:\n",
    "            self.val = 0\n",
    "            \n",
    "class DecisionTree(object):\n",
    "    \n",
    "    def __init__(self, data, test_data):\n",
    "        self.data = data\n",
    "        self.test_data = test_data\n",
    "        self.nodes = {}\n",
    "        self.nodes[0] = TreeNode(0, self.data)\n",
    "        self.nodes[0].is_leaf = True\n",
    "        self.tot = 1\n",
    "        self.n = len(data)\n",
    "        self.tree = {}\n",
    "        \n",
    "    def add_node(self, data):\n",
    "        self.nodes[self.tot] = TreeNode(self.tot, data)    \n",
    "        self.tot += 1\n",
    "        return self.tot - 1\n",
    "\n",
    "    def Entropy(self, p1):\n",
    "        if p1 < 1e-6 or p1 > 1.0 - 1e-6:\n",
    "            return 0\n",
    "        else:\n",
    "            return -(p1 * math.log2(p1) + (1 - p1) * math.log2(1 - p1))\n",
    "    \n",
    "    def Gain(self, data, feature):\n",
    "        import math\n",
    "        p1 = len(data[data[data.columns[-1]] == 1]) / float(len(data))\n",
    "        gain = self.Entropy(p1)\n",
    "        groups = data.groupby(feature)\n",
    "        for dat in groups:\n",
    "            \n",
    "            dat = dat[1]\n",
    "            p1 = len(dat[dat[dat.columns[-1]] == 1]) / float(len(dat))\n",
    "            gain -= len(dat) / float(len(data)) * self.Entropy(p1)\n",
    "        return gain\n",
    "    \n",
    "    def Gini(self, data, feature):\n",
    "        import math\n",
    "        gini = 0.0\n",
    "        groups = data.groupby(feature)\n",
    "        for dat in groups:\n",
    "            dat = dat[1]\n",
    "            p1 = len(dat[dat[dat.columns[-1]] == 1]) / float(len(dat))\n",
    "            gini += len(dat) / float(len(data)) * (1.0 - p1 * p1 - (1 - p1) * (1 - p1))\n",
    "        return (1e9 - gini)\n",
    "    \n",
    "    def sel_feature(self, data, method = 0): \n",
    "        best_feature, max_gain = None, -1e9\n",
    "        for feature in data.columns[:-1]:\n",
    "            if method == 0:\n",
    "                cur_gain = self.Gain(data, feature)\n",
    "            elif method == 1:\n",
    "                cur_gain = self.Gini(data, feature)\n",
    "            else:\n",
    "                cur_gain = random.randint(0, 1e9)\n",
    "            if cur_gain > max_gain + 1e-6:\n",
    "                best_feature, max_gain = feature, cur_gain\n",
    "        return best_feature\n",
    "    \n",
    "    def to_end(self, data):\n",
    "        if len(data) == 1:\n",
    "            return True\n",
    "        if len(data.groupby(data.columns[-1])) == 1:\n",
    "            return True\n",
    "        one_class = True\n",
    "        for feature in data.columns[:-1]:\n",
    "            if len(data.groupby(feature)) > 1:\n",
    "                one_class = False\n",
    "                break\n",
    "        if one_class:\n",
    "            return True\n",
    "        return False        \n",
    "    \n",
    "    def prune_test(self, data, cur, feature, to_prune = True):\n",
    "        feature_vals = set(data[feature].values)\n",
    "\n",
    "        pre_accuracy = self.test_accuracy(self.test_data)\n",
    "        \n",
    "        self.nodes[cur].is_leaf = False  # for checking\n",
    "        self.nodes[cur].feature = feature # for checking\n",
    "        for (i, val) in enumerate(feature_vals):\n",
    "            data_cur = data[data[feature] == val]\n",
    "            nxt = self.add_node(data_cur)\n",
    "         \n",
    "            self.nodes[cur].ch.add((nxt, val))\n",
    "        aft_accuracy = self.test_accuracy(self.test_data)\n",
    "        \n",
    "        print ('pre: {}, aft: {}'.format(pre_accuracy, aft_accuracy))\n",
    "        if to_prune == True and pre_accuracy > aft_accuracy: # become not better\n",
    "            self.nodes[cur].is_leaf = True # change back\n",
    "            self.nodes[cur].feature = None # change back\n",
    "            for (nxt, val) in self.nodes[cur].ch:\n",
    "                self.nodes.pop(nxt)\n",
    "                self.tot -= 1\n",
    "            self.nodes[cur].ch.clear()\n",
    "            return False\n",
    "        else:\n",
    "            return True\n",
    "                \n",
    "    def dfs(self, data, cur = 0, par = -1):\n",
    "    \n",
    "        if self.to_end(data) == True:\n",
    "            print ('{} from {}, val is {}, end and return'.format(cur, par, self.nodes[cur].val))\n",
    "            return\n",
    "        \n",
    "        feature = self.sel_feature(data)\n",
    "        feature_vals = set(data[feature].values)\n",
    "        if feature_vals == None or self.prune_test(data, cur, feature, True) == False:\n",
    "            print ('{}: prune_test not pass!'.format(cur))\n",
    "            return\n",
    "        else:\n",
    "            print ('{}: prune_test successfully pass!'.format(cur))\n",
    "            \n",
    "        for (nxt, val) in self.nodes[cur].ch:\n",
    "            print ('dfs: ', nxt, val, self.nodes[nxt].posi, self.nodes[nxt].nega)\n",
    "            self.dfs(self.nodes[nxt].data, nxt, cur)\n",
    "        \n",
    "    def get_tree(self, cur = 0):\n",
    "        if self.nodes[cur].is_leaf == True:\n",
    "            return self.nodes[cur].val\n",
    "        else:\n",
    "            cur_tree = {}\n",
    "            for (nxt, val) in self.nodes[cur].ch:\n",
    "                cur_tree[val] = self.get_tree(nxt)\n",
    "            return {self.nodes[cur].feature: cur_tree}\n",
    "    \n",
    "    def train_accuracy(self):\n",
    "        accuracy, n = 0.0, 0.0\n",
    "        for cur in range(self.tot):\n",
    "            if self.nodes[cur].is_leaf == True:\n",
    "                n += self.nodes[cur].posi + self.nodes[cur].nega\n",
    "                if self.nodes[cur].val == 1:\n",
    "                    accuracy += self.nodes[cur].posi\n",
    "                else:\n",
    "                    accuracy += self.nodes[cur].nega\n",
    "        return accuracy / float(n)\n",
    "    \n",
    "    def predict(self, sample, cur = 0):\n",
    "        if self.nodes[cur].is_leaf == True:\n",
    "            return ([cur],  self.nodes[cur].val)\n",
    "        else:\n",
    "            feature = self.nodes[cur].feature\n",
    "            for (nxt, val) in self.nodes[cur].ch:\n",
    "                next_data = self.nodes[nxt].data\n",
    "                if len(next_data) > 0 and sample[feature] == next_data[feature].iloc[0]:\n",
    "                    path, value = self.predict(sample, nxt)\n",
    "                    return ([cur] + path, value)\n",
    "            return ([cur], self.nodes[cur].val)\n",
    "        \n",
    "    def test_accuracy(self, test_data):\n",
    "        accuracy, n = 0.0, len(test_data)\n",
    "        for (i, sample) in enumerate(test_data.iterrows()):\n",
    "            sample = sample[1]\n",
    "            path, value = self.predict(sample, 0)\n",
    "            if value == sample[-1]:\n",
    "                accuracy += 1\n",
    "\n",
    "        return accuracy / float(n)"
   ]
  },
  {
   "cell_type": "markdown",
   "metadata": {
    "ExecuteTime": {
     "end_time": "2018-09-17T07:16:38.619362Z",
     "start_time": "2018-09-17T07:16:38.617174Z"
    }
   },
   "source": [
    "## 4.3, 4.4"
   ]
  },
  {
   "cell_type": "code",
   "execution_count": 5,
   "metadata": {
    "ExecuteTime": {
     "end_time": "2018-09-18T08:34:18.100753Z",
     "start_time": "2018-09-18T08:34:18.094591Z"
    }
   },
   "outputs": [],
   "source": [
    "import random, math\n",
    "\n",
    "def get_data2():\n",
    "    data = pd.read_csv('./data3.csv')\n",
    "    to_drop = list(set(['编号','密度', '含糖率']).intersection(data.columns))\n",
    "    data = data.drop(axis=1,columns=to_drop)\n",
    "    data['好瓜'] = data['好瓜'].apply(lambda x: 1 if x == '是' else 0)\n",
    "    \n",
    "    data = data.sample(frac = 1).reset_index(drop=True)\n",
    "    data_posi = data[data.好瓜 == 1]\n",
    "    data_nega = data[data.好瓜 == 0]\n",
    "    data_train = data_posi[:int(len(data_posi)*0.7)].append(data_nega[:int(len(data_nega)*0.6)]).reset_index(drop=True)\n",
    "    data_test = data_posi[int(len(data_posi)*0.7):].append(data_nega[int(len(data_nega)*0.6):]).reset_index(drop=True)\n",
    "\n",
    "    return (data_train, data_test)"
   ]
  },
  {
   "cell_type": "code",
   "execution_count": 6,
   "metadata": {
    "ExecuteTime": {
     "end_time": "2018-09-18T08:34:22.055992Z",
     "start_time": "2018-09-18T08:34:22.034086Z"
    }
   },
   "outputs": [],
   "source": [
    "import random, math\n",
    "\n",
    "def idxing(x):\n",
    "    if x == 'Iris-setosa':\n",
    "        return 2\n",
    "    elif x == 'Iris-versicolor':\n",
    "        return 0\n",
    "    else:\n",
    "        return 1\n",
    "def rescaling(x, d1, d2):\n",
    "    if (x <= d1):\n",
    "        return 'small'\n",
    "    elif (x <= d2):\n",
    "        return 'mid'\n",
    "    else:\n",
    "        return 'big'\n",
    "    \n",
    "def get_data_iris():\n",
    "    data = pd.read_csv('./data_iris.csv', names=['sepal_l', 'sepal_w', 'petal_l', 'petal_w', 'type'])\n",
    "\n",
    "    data['type'] = data['type'].apply(idxing)\n",
    "    data = data[data.type != 2]\n",
    "\n",
    "    data_bar = np.apply_along_axis(axis=0,arr=data,func1d=np.median)\n",
    "    for i in range(len(data_bar) - 1):\n",
    "        feature = data.columns[i]\n",
    "        sorted_feature_data = np.unique(sorted(list(data[feature])))\n",
    "        n = len(sorted_feature_data)\n",
    "        data[feature] = data[feature].apply(rescaling,d1=sorted_feature_data[n//3]\n",
    "            ,d2=sorted_feature_data[2*n//3])\n",
    "\n",
    "    data = data.sample(frac = 1).reset_index(drop=True)\n",
    "    data_posi = data[data.type == 1].sample(frac = 1).reset_index(drop=True)\n",
    "    data_nega = data[data.type == 0].sample(frac = 1).reset_index(drop=True)\n",
    "    data_train = data_posi[:int(len(data_posi)*0.5)].append(data_nega[:int(len(data_nega)*0.5)]).reset_index(drop=True)\n",
    "    data_test = data_posi[int(len(data_posi)*0.5):].append(data_nega[int(len(data_nega)*0.5):]).reset_index(drop=True)\n",
    "    \n",
    "    return (data_train, data_test)"
   ]
  },
  {
   "cell_type": "code",
   "execution_count": 7,
   "metadata": {
    "ExecuteTime": {
     "end_time": "2018-09-18T08:34:23.745317Z",
     "start_time": "2018-09-18T08:34:23.725875Z"
    }
   },
   "outputs": [
    {
     "name": "stdout",
     "output_type": "stream",
     "text": [
      "5 5\n",
      "3 4\n"
     ]
    }
   ],
   "source": [
    "(data_train, data_test) = get_data2()\n",
    "print (len(np.where(data_train.好瓜==1)[0]), len(np.where(data_train.好瓜==0)[0]))\n",
    "print (len(np.where(data_test.好瓜==1)[0]), len(np.where(data_test.好瓜==0)[0]))"
   ]
  },
  {
   "cell_type": "code",
   "execution_count": 222,
   "metadata": {
    "ExecuteTime": {
     "end_time": "2018-09-17T09:55:24.285988Z",
     "start_time": "2018-09-17T09:55:24.220229Z"
    }
   },
   "outputs": [
    {
     "name": "stdout",
     "output_type": "stream",
     "text": [
      "25 25\n",
      "25 25\n"
     ]
    }
   ],
   "source": [
    "(data_train, data_test) = get_data_iris()\n",
    "print (len(np.where(data_train.type==1)[0]), len(np.where(data_train.type==0)[0]))\n",
    "print (len(np.where(data_test.type==1)[0]), len(np.where(data_test.type==0)[0]))"
   ]
  },
  {
   "cell_type": "code",
   "execution_count": 8,
   "metadata": {
    "ExecuteTime": {
     "end_time": "2018-09-18T08:34:28.538684Z",
     "start_time": "2018-09-18T08:34:28.265801Z"
    },
    "scrolled": false
   },
   "outputs": [
    {
     "name": "stdout",
     "output_type": "stream",
     "text": [
      "pre: 0.42857142857142855, aft: 0.8571428571428571\n",
      "0: prune_test successfully pass!\n",
      "dfs:  2 清晰 4 1\n",
      "pre: 0.8571428571428571, aft: 0.8571428571428571\n",
      "2: prune_test successfully pass!\n",
      "dfs:  6 浅白 1 0\n",
      "6 from 2, val is 1, end and return\n",
      "dfs:  5 青绿 2 0\n",
      "5 from 2, val is 1, end and return\n",
      "dfs:  4 乌黑 1 1\n",
      "pre: 0.8571428571428571, aft: 0.7142857142857143\n",
      "4: prune_test not pass!\n",
      "dfs:  1 模糊 0 2\n",
      "1 from 0, val is 0, end and return\n",
      "dfs:  3 稍糊 1 2\n",
      "pre: 0.8571428571428571, aft: 0.7142857142857143\n",
      "3: prune_test not pass!\n",
      "train_accuracy: 0.8, test_accuracy: 0.8571428571428571\n"
     ]
    },
    {
     "data": {
      "image/png": "[encoded data removed]",
      "text/plain": [
       "<Figure size 432x288 with 1 Axes>"
      ]
     },
     "metadata": {},
     "output_type": "display_data"
    }
   ],
   "source": [
    "dt = DecisionTree(data_train, data_test)\n",
    "dt.dfs(dt.data)\n",
    "print ('train_accuracy: {}, test_accuracy: {}'.format(dt.train_accuracy(), dt.test_accuracy(dt.test_data)))\n",
    "\n",
    "dt.tree = dt.get_tree()\n",
    "if isinstance(dt.tree, dict):\n",
    "    createPlot(dt.tree)"
   ]
  }
 ],
 "metadata": {
  "kernelspec": {
   "display_name": "Python 3",
   "language": "python",
   "name": "python3"
  },
  "language_info": {
   "codemirror_mode": {
    "name": "ipython",
    "version": 3
   },
   "file_extension": ".py",
   "mimetype": "text/x-python",
   "name": "python",
   "nbconvert_exporter": "python",
   "pygments_lexer": "ipython3",
   "version": "3.6.5"
  }
 },
 "nbformat": 4,
 "nbformat_minor": 2
}
