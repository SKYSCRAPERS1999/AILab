{
 "cells": [
  {
   "cell_type": "code",
   "execution_count": 103,
   "metadata": {
    "ExecuteTime": {
     "end_time": "2018-09-13T08:38:22.584142Z",
     "start_time": "2018-09-13T08:38:22.545529Z"
    }
   },
   "outputs": [],
   "source": [
    "import matplotlib.pyplot as plt\n",
    "import matplotlib as mpl\n",
    "mpl.rcParams[u'font.sans-serif'] = ['simhei']\n",
    "mpl.rcParams['axes.unicode_minus'] = False\n",
    "\n",
    "class Tp():\n",
    "    def __init__(self):\n",
    "        self.decisionNode = dict(boxstyle='sawtooth', fc='10')\n",
    "        self.leafNode = dict(boxstyle='round4',fc='0.8')\n",
    "        self.arrow_args = dict(arrowstyle='<|-')\n",
    "  \n",
    "    def plotNode(self, nodeTxt, centerPt, parentPt, nodeType):\n",
    "        createPlot.ax1.annotate(nodeTxt, xy=parentPt, xycoords='axes fraction',\\\n",
    "                                 xytext=centerPt,textcoords='axes fraction',\\\n",
    "                                 va='center', ha='center',bbox=nodeType,arrowprops\\\n",
    "                                 =self.arrow_args)\n",
    "\n",
    "\n",
    "    def getNumLeafs(self, myTree):\n",
    "        numLeafs = 0\n",
    "        firstStr = list(myTree.keys())[0]\n",
    "        secondDict = myTree[firstStr]\n",
    "        for key in secondDict:\n",
    "            if(type(secondDict[key]).__name__ == 'dict'):\n",
    "                numLeafs += self.getNumLeafs(secondDict[key])\n",
    "            else:\n",
    "                numLeafs += 1\n",
    "        return  numLeafs\n",
    "\n",
    "    def getTreeDepth(self, myTree):\n",
    "        maxDepth = 0\n",
    "        firstStr = list(myTree.keys())[0]\n",
    "        secondDict = myTree[firstStr]\n",
    "        for key in secondDict:\n",
    "            if(type(secondDict[key]).__name__ == 'dict'):\n",
    "                thisDepth = 1 + self.getTreeDepth((secondDict[key]))\n",
    "            else:\n",
    "                thisDepth = 1\n",
    "            if thisDepth > maxDepth: maxDepth = thisDepth\n",
    "        return maxDepth\n",
    "\n",
    "    def retrieveTree(self, i):\n",
    "        #预先设置树的信息\n",
    "        listOfTree = [{'no surfacing':{0:'no', 1:{'flipper':{0:'no', 1:'yes'}}}},\n",
    "                      {'no surfacing':{0:'no', 1:{'flipper':{0:{'head':{0:'no', 1:'yes'}},1:'no'}}}},\n",
    "                      {'a1':{0:'b1', 1:{'b2':{0:{'c1':{0:'d1',1:'d2'}}, 1:'c2'}}, 2:'b3'}}]\n",
    "        return listOfTree[i]\n",
    "\n",
    "    def createPlot(self, inTree):\n",
    "        fig = plt.figure(1,facecolor='white')\n",
    "        fig.clf()\n",
    "        axprops = dict(xticks = [], yticks=[])\n",
    "        createPlot.ax1 = plt.subplot(111,frameon = False,**axprops)\n",
    "        plotTree.totalW = float(getNumLeafs(inTree))\n",
    "        plotTree.totalD = float(getTreeDepth(inTree))\n",
    "        plotTree.xOff = -0.5/plotTree.totalW; plotTree.yOff = 1.0\n",
    "        self.plotTree(inTree,(0.5,1.0), '')\n",
    "        plt.show()\n",
    "\n",
    "    def plotMidText(self, cntrPt, parentPt,txtString):\n",
    "        xMid = (parentPt[0]-cntrPt[0])/2.0 + cntrPt[0]\n",
    "        yMid = (parentPt[1]-cntrPt[1])/2.0 + cntrPt[1]\n",
    "        createPlot.ax1.text(xMid, yMid, txtString)\n",
    "\n",
    "    def plotTree(self, myTree, parentPt, nodeTxt):\n",
    "        numLeafs = self.getNumLeafs(myTree)\n",
    "        depth = self.getTreeDepth(myTree)\n",
    "        firstStr = list(myTree.keys())[0]\n",
    "        cntrPt = (plotTree.xOff+(1.0+float(numLeafs))/2.0/plotTree.totalW,\\\n",
    "                  plotTree.yOff)\n",
    "        self.plotMidText(cntrPt,parentPt,nodeTxt)\n",
    "        self.plotNode(firstStr,cntrPt,parentPt,self.decisionNode)\n",
    "        secondDict = myTree[firstStr]\n",
    "        plotTree.yOff = plotTree.yOff - 1.0/plotTree.totalD\n",
    "        for key in secondDict:\n",
    "            if type(secondDict[key]).__name__ == 'dict':\n",
    "                self.plotTree(secondDict[key],cntrPt,str(key))\n",
    "            else:\n",
    "                plotTree.xOff = plotTree.xOff + 1.0/plotTree.totalW\n",
    "                self.plotNode(secondDict[key],(plotTree.xOff,plotTree.yOff),\\\n",
    "                         (cntrPt[0], cntrPt[1]),self.leafNode)\n",
    "                self.plotMidText((plotTree.xOff,plotTree.yOff),cntrPt,str(key))\n",
    "        plotTree.yOff = plotTree.yOff + 1.0/plotTree.totalD"
   ]
  },
  {
   "cell_type": "code",
   "execution_count": 104,
   "metadata": {
    "ExecuteTime": {
     "end_time": "2018-09-13T08:38:23.674901Z",
     "start_time": "2018-09-13T08:38:23.539868Z"
    }
   },
   "outputs": [
    {
     "data": {
      "image/png": "[encoded data removed]",
      "text/plain": [
       "<Figure size 432x288 with 1 Axes>"
      ]
     },
     "metadata": {},
     "output_type": "display_data"
    }
   ],
   "source": [
    "tp = Tp()\n",
    "myTree = tp.retrieveTree(2)\n",
    "tp.createPlot(myTree)"
   ]
  },
  {
   "cell_type": "markdown",
   "metadata": {},
   "source": [
    "## 4.3"
   ]
  },
  {
   "cell_type": "code",
   "execution_count": 105,
   "metadata": {
    "ExecuteTime": {
     "end_time": "2018-09-13T08:38:25.669660Z",
     "start_time": "2018-09-13T08:38:25.657665Z"
    }
   },
   "outputs": [
    {
     "name": "stdout",
     "output_type": "stream",
     "text": [
      "Index(['编号', '色泽', '根蒂', '敲声', '纹理', '脐部', '触感', '密度', '含糖率', '好瓜'], dtype='object')\n"
     ]
    }
   ],
   "source": [
    "import random, math\n",
    "data3 = pd.read_csv('./data3_full.csv')\n",
    "print (data3.columns)\n",
    "data3 = data3.drop(axis=1,columns=['编号','密度', '含糖率'])"
   ]
  },
  {
   "cell_type": "code",
   "execution_count": 285,
   "metadata": {
    "ExecuteTime": {
     "end_time": "2018-09-13T10:34:18.730593Z",
     "start_time": "2018-09-13T10:34:18.688708Z"
    }
   },
   "outputs": [],
   "source": [
    "class TreeNode(object):\n",
    "    def __init__(self, idx, data, val = None):\n",
    "        self.idx = idx\n",
    "        self.feature = None\n",
    "        self.val = val\n",
    "        self.is_leaf = False\n",
    "        \n",
    "        self.posi = len(data[data[data.columns[-1]] == '是'])\n",
    "        self.nega = len(data[data[data.columns[-1]] == '否'])\n",
    "        \n",
    "        self.ch = set()\n",
    "        self.data = data\n",
    "    \n",
    "class DecisionTree(object):\n",
    "    \n",
    "    def __init__(self, data):\n",
    "        self.data = data\n",
    "        self.nodes = {}\n",
    "        self.nodes[0] = TreeNode(0, self.data)\n",
    "        self.tot = 1\n",
    "        self.n = len(data)\n",
    "        self.tree = {}\n",
    "        \n",
    "    def add_node(self, data, val = None):\n",
    "        self.nodes[self.tot] = TreeNode(self.tot, data, val)    \n",
    "        self.tot += 1\n",
    "        return self.tot - 1\n",
    "\n",
    "    def Entropy(self, p1):\n",
    "        if p1 < 1e-6 or p1 > 1.0 - 1e-6:\n",
    "            return 0\n",
    "        else:\n",
    "            return -(p1 * math.log2(p1) + (1 - p1) * math.log2(1 - p1))\n",
    "    \n",
    "    def Gain(self, data, feature):\n",
    "        import math\n",
    "        p1 = len(data[data[data.columns[-1]] == '是']) / float(len(data))\n",
    "        gain = self.Entropy(p1)\n",
    "        groups = data.groupby(feature)\n",
    "        for dat in groups:\n",
    "            dat = dat[1]\n",
    "            p1 = len(dat[dat[dat.columns[-1]] == '是']) / float(len(dat))\n",
    "            gain -= len(dat) / float(len(data)) * self.Entropy(p1)\n",
    "        return gain\n",
    "    \n",
    "    def sel_feature(self, data): \n",
    "        best_feature, max_gain = None, -1e9\n",
    "        for feature in data.columns[:-1]:\n",
    "            cur_gain = self.Gain(data, feature)\n",
    "            if cur_gain > max_gain + 1e-6:\n",
    "                best_feature, max_gain = feature, cur_gain\n",
    "        return best_feature\n",
    "    \n",
    "    def to_end(self, data):\n",
    "        if len(data) == 1:\n",
    "            return True\n",
    "        if len(data.groupby(data.columns[-1])) == 1:\n",
    "            return True\n",
    "        one_class = True\n",
    "        for feature in data.columns[:-1]:\n",
    "            if len(data.groupby(feature)) > 1:\n",
    "                one_class = False\n",
    "                break\n",
    "        if one_class:\n",
    "            return True\n",
    "        return False\n",
    "        \n",
    "    def dfs(self, data, cur = 0, par = -1):\n",
    "        \n",
    "        cnt1, cnt0 = self.nodes[cur].posi, self.nodes[cur].nega        \n",
    "        \n",
    "        if self.to_end(data):\n",
    "            self.nodes[cur].is_leaf = True\n",
    "            if cnt1 * 2.0 > len(data):\n",
    "                self.nodes[cur].val = \"是\" + \"\\n1:{}\\n0:{}\".format(cnt1, cnt0)\n",
    "            elif cnt0 * 2.0 > len(data):\n",
    "                self.nodes[cur].val = \"否\" + \"\\n1:{}\\n0:{}\".format(cnt1, cnt0)\n",
    "            else:\n",
    "                self.nodes[cur].val = \"是否\"[random.randint(0,1)] + \"\\n1:{}\\n0:{}\".format(cnt1, cnt0)\n",
    "            return\n",
    "        else:\n",
    "            self.nodes[cur].val = \"1:{}\\n0:{}\".format(cnt1, cnt0)\n",
    "        \n",
    "        feature = self.sel_feature(data)\n",
    "        self.nodes[cur].feature = feature\n",
    "        \n",
    "        feature_vals = set(data[feature].values)\n",
    "        if feature_vals != None:\n",
    "            for val in feature_vals:\n",
    "                data_cur = data[data[feature] == val]\n",
    "                nxt = self.add_node(data_cur)\n",
    "                self.nodes[cur].ch.add((nxt, val))\n",
    "                self.dfs(data_cur, nxt, cur)\n",
    "        \n",
    "        print (self.nodes[cur].feature, self.nodes[cur].idx, self.nodes[cur].ch)\n",
    "\n",
    "        \n",
    "    def get_tree(self, cur = 0,):\n",
    "        if self.nodes[cur].is_leaf == True:\n",
    "            return self.nodes[cur].val\n",
    "        else:\n",
    "            cur_tree = {}\n",
    "            for (nxt, val) in self.nodes[cur].ch:\n",
    "                cur_tree[val] = self.get_tree(nxt)\n",
    "            return {self.nodes[cur].feature: cur_tree}\n",
    "    \n",
    "    def accuracy(self):\n",
    "        accuracy = 0.0\n",
    "        for cur in range(self.tot):\n",
    "            if self.nodes[cur].is_leaf == True:\n",
    "                if self.nodes[cur].val[0] == '是':\n",
    "                    accuracy += self.nodes[cur].posi\n",
    "                else:\n",
    "                    accuracy += self.nodes[cur].nega\n",
    "        return accuracy / float(self.n)"
   ]
  },
  {
   "cell_type": "code",
   "execution_count": 286,
   "metadata": {
    "ExecuteTime": {
     "end_time": "2018-09-13T10:34:19.642605Z",
     "start_time": "2018-09-13T10:34:19.508877Z"
    }
   },
   "outputs": [
    {
     "name": "stdout",
     "output_type": "stream",
     "text": [
      "触感 5 {(7, '硬滑'), (6, '软粘')}\n",
      "色泽 3 {(4, '青绿'), (5, '乌黑')}\n",
      "根蒂 1 {(3, '稍蜷'), (2, '蜷缩'), (8, '硬挺')}\n",
      "触感 10 {(11, '软粘'), (12, '硬滑')}\n",
      "纹理 0 {(1, '清晰'), (10, '稍糊'), (9, '模糊')}\n"
     ]
    }
   ],
   "source": [
    "dt = DecisionTree(data3)\n",
    "dt.dfs(dt.data)"
   ]
  },
  {
   "cell_type": "code",
   "execution_count": 287,
   "metadata": {
    "ExecuteTime": {
     "end_time": "2018-09-13T10:34:20.569671Z",
     "start_time": "2018-09-13T10:34:20.313322Z"
    }
   },
   "outputs": [
    {
     "data": {
      "image/png": "[encoded data removed]",
      "text/plain": [
       "<Figure size 432x288 with 1 Axes>"
      ]
     },
     "metadata": {},
     "output_type": "display_data"
    }
   ],
   "source": [
    "dt.tree = dt.get_tree()\n",
    "tp = Tp()\n",
    "tp.createPlot(dt.tree)"
   ]
  },
  {
   "cell_type": "code",
   "execution_count": 289,
   "metadata": {
    "ExecuteTime": {
     "end_time": "2018-09-13T10:34:22.315934Z",
     "start_time": "2018-09-13T10:34:22.310834Z"
    }
   },
   "outputs": [
    {
     "name": "stdout",
     "output_type": "stream",
     "text": [
      "1.0\n"
     ]
    }
   ],
   "source": [
    "print (dt.accuracy())"
   ]
  }
 ],
 "metadata": {
  "kernelspec": {
   "display_name": "Python 3",
   "language": "python",
   "name": "python3"
  },
  "language_info": {
   "codemirror_mode": {
    "name": "ipython",
    "version": 3
   },
   "file_extension": ".py",
   "mimetype": "text/x-python",
   "name": "python",
   "nbconvert_exporter": "python",
   "pygments_lexer": "ipython3",
   "version": "3.6.5"
  }
 },
 "nbformat": 4,
 "nbformat_minor": 2
}
