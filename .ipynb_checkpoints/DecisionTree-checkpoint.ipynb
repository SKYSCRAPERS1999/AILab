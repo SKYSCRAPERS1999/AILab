{
 "cells": [
  {
   "cell_type": "code",
   "execution_count": 701,
   "metadata": {
    "ExecuteTime": {
     "end_time": "2018-09-13T14:24:25.660094Z",
     "start_time": "2018-09-13T14:24:25.624432Z"
    }
   },
   "outputs": [],
   "source": [
    "import matplotlib.pyplot as plt\n",
    "import matplotlib as mpl\n",
    "mpl.rcParams[u'font.sans-serif'] = ['simhei']\n",
    "mpl.rcParams['axes.unicode_minus'] = False\n",
    "\n",
    "class Tp():\n",
    "    def __init__(self):\n",
    "        self.decisionNode = dict(boxstyle='sawtooth', fc='10')\n",
    "        self.leafNode = dict(boxstyle='round4',fc='0.8')\n",
    "        self.arrow_args = dict(arrowstyle='<|-')\n",
    "  \n",
    "    def plotNode(self, nodeTxt, centerPt, parentPt, nodeType):\n",
    "        createPlot.ax1.annotate(nodeTxt, xy=parentPt, xycoords='axes fraction',\\\n",
    "                                 xytext=centerPt,textcoords='axes fraction',\\\n",
    "                                 va='center', ha='center',bbox=nodeType,arrowprops\\\n",
    "                                 =self.arrow_args)\n",
    "\n",
    "\n",
    "    def getNumLeafs(self, myTree):\n",
    "        numLeafs = 0\n",
    "        firstStr = list(myTree.keys())[0]\n",
    "        secondDict = myTree[firstStr]\n",
    "        for key in secondDict:\n",
    "            if(type(secondDict[key]).__name__ == 'dict'):\n",
    "                numLeafs += self.getNumLeafs(secondDict[key])\n",
    "            else:\n",
    "                numLeafs += 1\n",
    "        return  numLeafs\n",
    "\n",
    "    def getTreeDepth(self, myTree):\n",
    "        maxDepth = 0\n",
    "        firstStr = list(myTree.keys())[0]\n",
    "        secondDict = myTree[firstStr]\n",
    "        for key in secondDict:\n",
    "            if(type(secondDict[key]).__name__ == 'dict'):\n",
    "                thisDepth = 1 + self.getTreeDepth((secondDict[key]))\n",
    "            else:\n",
    "                thisDepth = 1\n",
    "            if thisDepth > maxDepth: maxDepth = thisDepth\n",
    "        return maxDepth\n",
    "\n",
    "    def retrieveTree(self, i):\n",
    "        #预先设置树的信息\n",
    "        listOfTree = [{'no surfacing':{0:'no', 1:{'flipper':{0:'no', 1:'yes'}}}},\n",
    "                      {'no surfacing':{0:'no', 1:{'flipper':{0:{'head':{0:'no', 1:'yes'}},1:'no'}}}},\n",
    "                      {'a1':{0:'b1', 1:{'b2':{0:{'c1':{0:'d1',1:'d2'}}, 1:'c2'}}, 2:'b3'}}]\n",
    "        return listOfTree[i]\n",
    "\n",
    "    def createPlot(self, inTree):\n",
    "        fig = plt.figure(1,facecolor='white')\n",
    "        fig.clf()\n",
    "        axprops = dict(xticks = [], yticks=[])\n",
    "        createPlot.ax1 = plt.subplot(111,frameon = False,**axprops)\n",
    "        plotTree.totalW = float(getNumLeafs(inTree))\n",
    "        plotTree.totalD = float(getTreeDepth(inTree))\n",
    "        plotTree.xOff = -0.5/plotTree.totalW; plotTree.yOff = 1.0\n",
    "        self.plotTree(inTree,(0.5,1.0), '')\n",
    "        plt.show()\n",
    "\n",
    "    def plotMidText(self, cntrPt, parentPt,txtString):\n",
    "        xMid = (parentPt[0]-cntrPt[0])/2.0 + cntrPt[0]\n",
    "        yMid = (parentPt[1]-cntrPt[1])/2.0 + cntrPt[1]\n",
    "        createPlot.ax1.text(xMid, yMid, txtString)\n",
    "\n",
    "    def plotTree(self, myTree, parentPt, nodeTxt):\n",
    "        numLeafs = self.getNumLeafs(myTree)\n",
    "        depth = self.getTreeDepth(myTree)\n",
    "        firstStr = list(myTree.keys())[0]\n",
    "        cntrPt = (plotTree.xOff+(1.0+float(numLeafs))/2.0/plotTree.totalW,\\\n",
    "                  plotTree.yOff)\n",
    "        self.plotMidText(cntrPt,parentPt,nodeTxt)\n",
    "        self.plotNode(firstStr,cntrPt,parentPt,self.decisionNode)\n",
    "        secondDict = myTree[firstStr]\n",
    "        plotTree.yOff = plotTree.yOff - 1.0/plotTree.totalD\n",
    "        for key in secondDict:\n",
    "            if type(secondDict[key]).__name__ == 'dict':\n",
    "                self.plotTree(secondDict[key],cntrPt,str(key))\n",
    "            else:\n",
    "                plotTree.xOff = plotTree.xOff + 1.0/plotTree.totalW\n",
    "                self.plotNode(secondDict[key],(plotTree.xOff,plotTree.yOff),\\\n",
    "                         (cntrPt[0], cntrPt[1]),self.leafNode)\n",
    "                self.plotMidText((plotTree.xOff,plotTree.yOff),cntrPt,str(key))\n",
    "        plotTree.yOff = plotTree.yOff + 1.0/plotTree.totalD"
   ]
  },
  {
   "cell_type": "code",
   "execution_count": 702,
   "metadata": {
    "ExecuteTime": {
     "end_time": "2018-09-13T14:24:26.592330Z",
     "start_time": "2018-09-13T14:24:26.588931Z"
    }
   },
   "outputs": [],
   "source": [
    "# tp = Tp()\n",
    "# myTree = tp.retrieveTree(2)\n",
    "# tp.createPlot(myTree)"
   ]
  },
  {
   "cell_type": "code",
   "execution_count": 952,
   "metadata": {
    "ExecuteTime": {
     "end_time": "2018-09-13T15:51:40.055082Z",
     "start_time": "2018-09-13T15:51:40.010835Z"
    }
   },
   "outputs": [],
   "source": [
    "class TreeNode(object):\n",
    "    def __init__(self, idx, data):\n",
    "        \n",
    "        self.idx = idx\n",
    "        self.feature = self.val = None\n",
    "        self.is_leaf = True\n",
    "        \n",
    "        self.posi = len(data[data[data.columns[-1]] == 1])\n",
    "        self.nega = len(data[data[data.columns[-1]] == 0])\n",
    "\n",
    "        self.ch = set()\n",
    "        self.data = data\n",
    "        \n",
    "        if self.posi * 2.0 > len(data):\n",
    "            self.val = 1\n",
    "        elif self.nega  * 2.0 > len(data):\n",
    "            self.val = 0\n",
    "        else:\n",
    "            self.val = [1, 0][random.randint(0,1)]\n",
    "            \n",
    "class DecisionTree(object):\n",
    "    \n",
    "    def __init__(self, data, test_data):\n",
    "        self.data = data\n",
    "        self.test_data = test_data\n",
    "        self.nodes = {}\n",
    "        self.nodes[0] = TreeNode(0, self.data)\n",
    "        self.nodes[0].is_leaf = True\n",
    "        self.tot = 1\n",
    "        self.n = len(data)\n",
    "        self.tree = {}\n",
    "        \n",
    "    def add_node(self, data):\n",
    "        self.nodes[self.tot] = TreeNode(self.tot, data)    \n",
    "        self.tot += 1\n",
    "        return self.tot - 1\n",
    "\n",
    "    def Entropy(self, p1):\n",
    "        if p1 < 1e-6 or p1 > 1.0 - 1e-6:\n",
    "            return 0\n",
    "        else:\n",
    "            return -(p1 * math.log2(p1) + (1 - p1) * math.log2(1 - p1))\n",
    "    \n",
    "    def Gain(self, data, feature):\n",
    "        import math\n",
    "        p1 = len(data[data[data.columns[-1]] == 1]) / float(len(data))\n",
    "        gain = self.Entropy(p1)\n",
    "        groups = data.groupby(feature)\n",
    "        for dat in groups:\n",
    "            \n",
    "            dat = dat[1]\n",
    "            p1 = len(dat[dat[dat.columns[-1]] == 1]) / float(len(dat))\n",
    "            gain -= len(dat) / float(len(data)) * self.Entropy(p1)\n",
    "        return gain\n",
    "    \n",
    "    def Gini(self, data, feature):\n",
    "        import math\n",
    "        gini = 0.0\n",
    "        groups = data.groupby(feature)\n",
    "        for dat in groups:\n",
    "            dat = dat[1]\n",
    "            p1 = len(dat[dat[dat.columns[-1]] == 1]) / float(len(dat))\n",
    "            gini += len(dat) / float(len(data)) * (1.0 - p1 * p1 - (1 - p1) * (1 - p1))\n",
    "        return (1e9 - gini)\n",
    "    \n",
    "    def sel_feature(self, data, method = 1): \n",
    "        best_feature, max_gain = None, -1e9\n",
    "        for feature in data.columns[:-1]:\n",
    "            if method == 0:\n",
    "                cur_gain = self.Gain(data, feature)\n",
    "            elif method == 1:\n",
    "                cur_gain = self.Gini(data, feature)\n",
    "            else:\n",
    "                cur_gain = random.randint(0, 1e9)\n",
    "            if cur_gain > max_gain + 1e-6:\n",
    "                best_feature, max_gain = feature, cur_gain\n",
    "        return best_feature\n",
    "    \n",
    "    def to_end(self, data):\n",
    "        if len(data) == 1:\n",
    "            return True\n",
    "        if len(data.groupby(data.columns[-1])) == 1:\n",
    "            return True\n",
    "        one_class = True\n",
    "        for feature in data.columns[:-1]:\n",
    "            if len(data.groupby(feature)) > 1:\n",
    "                one_class = False\n",
    "                break\n",
    "        if one_class:\n",
    "            return True\n",
    "        return False        \n",
    "    \n",
    "    def prune_test(self, data, cur, feature, to_prune = True):\n",
    "        feature_vals = set(data[feature].values)\n",
    "        \n",
    "        pre_accuracy = self.test_accuracy(self.test_data)\n",
    "        \n",
    "        self.nodes[cur].is_leaf = False  # for checking\n",
    "        self.nodes[cur].feature = feature # for checking\n",
    "        for val in feature_vals:\n",
    "            data_cur = data[data[feature] == val]\n",
    "            nxt = self.add_node(data_cur)\n",
    "            \n",
    "            self.nodes[cur].ch.add((nxt, val))\n",
    "            \n",
    "        aft_accuracy = self.test_accuracy(self.test_data)\n",
    "        \n",
    "        print ('pre: {}, aft: {}'.format(pre_accuracy, aft_accuracy))\n",
    "        if to_prune == True and pre_accuracy > aft_accuracy: # become worse\n",
    "            self.nodes[cur].is_leaf = True # change back\n",
    "            for (nxt, val) in self.nodes[cur].ch:\n",
    "                self.nodes.pop(nxt)\n",
    "                self.tot -= 1\n",
    "            self.nodes[cur].ch.clear()\n",
    "            return False\n",
    "        else:\n",
    "            return True\n",
    "                \n",
    "    def dfs(self, data, cur = 0, par = -1):\n",
    "\n",
    "        if self.to_end(data) == True:\n",
    "            return\n",
    "        \n",
    "        feature = self.sel_feature(data)\n",
    "        feature_vals = set(data[feature].values)\n",
    "        if feature_vals == None or self.prune_test(data, cur, feature, True) == False:\n",
    "            return\n",
    "        \n",
    "        for (nxt, val) in self.nodes[cur].ch:\n",
    "            data_cur = data[data[feature] == val]\n",
    "            self.dfs(data_cur, nxt, cur)\n",
    "        \n",
    "    def get_tree(self, cur = 0):\n",
    "        if self.nodes[cur].is_leaf == True:\n",
    "            return self.nodes[cur].val\n",
    "        else:\n",
    "            cur_tree = {}\n",
    "            for (nxt, val) in self.nodes[cur].ch:\n",
    "                cur_tree[val] = self.get_tree(nxt)\n",
    "            return {self.nodes[cur].feature: cur_tree}\n",
    "    \n",
    "    def train_accuracy(self):\n",
    "        accuracy, n = 0.0, 0.0\n",
    "        for cur in range(self.tot):\n",
    "            if self.nodes[cur].is_leaf == True:\n",
    "                n += self.nodes[cur].posi + self.nodes[cur].nega\n",
    "                if self.nodes[cur].val == 1:\n",
    "                    accuracy += self.nodes[cur].posi\n",
    "                else:\n",
    "                    accuracy += self.nodes[cur].nega\n",
    "        return accuracy / float(n)\n",
    "    \n",
    "    def dfs_check(self, sample, cur = 0):\n",
    "        if self.nodes[cur].is_leaf == True:\n",
    "            return self.nodes[cur].val == sample[-1]\n",
    "        else:\n",
    "            feature = self.nodes[cur].feature\n",
    "            for (nxt, val) in self.nodes[cur].ch:\n",
    "                next_data = self.nodes[nxt].data\n",
    "                if len(next_data[feature]) > 0 and val == next_data[feature].iloc[0]:\n",
    "                    return self.dfs_check(sample, nxt)\n",
    "            return self.nodes[cur].val == sample[-1]\n",
    "        \n",
    "    def test_accuracy(self, test_data):\n",
    "        accuracy, n = 0.0, len(test_data)\n",
    "        for sample in test_data.iterrows():\n",
    "            sample = sample[1]\n",
    "            if self.dfs_check(sample):\n",
    "                accuracy += 1\n",
    "        return accuracy / float(n)"
   ]
  },
  {
   "cell_type": "markdown",
   "metadata": {},
   "source": [
    "## 4.3, 4.4"
   ]
  },
  {
   "cell_type": "code",
   "execution_count": 958,
   "metadata": {
    "ExecuteTime": {
     "end_time": "2018-09-13T15:52:00.085794Z",
     "start_time": "2018-09-13T15:52:00.069712Z"
    }
   },
   "outputs": [],
   "source": [
    "import random, math\n",
    "\n",
    "def get_data2():\n",
    "    data = pd.read_csv('./data2.csv')\n",
    "    to_drop = list(set(['编号','密度', '含糖率']).intersection(data.columns))\n",
    "    data = data.drop(axis=1,columns=to_drop)\n",
    "    data['好瓜'] = data['好瓜'].apply(lambda x: 1 if x == '是' else 0)\n",
    "    \n",
    "    data = data.sample(frac = 1).reset_index(drop=True)\n",
    "\n",
    "    data_train = data[:int(len(data)*0.7)].reset_index(drop=True)\n",
    "    data_test = data[int(len(data)*0.7):].reset_index(drop=True)\n",
    "    return (data_train, data_test)"
   ]
  },
  {
   "cell_type": "code",
   "execution_count": 887,
   "metadata": {
    "ExecuteTime": {
     "end_time": "2018-09-13T15:12:11.068064Z",
     "start_time": "2018-09-13T15:12:11.050687Z"
    }
   },
   "outputs": [],
   "source": [
    "import random, math\n",
    "\n",
    "def get_data_iris():\n",
    "    data = pd.read_csv('./data_iris.csv', names=['sepal_l', 'sepal_w', 'petal_l', 'petal_w', 'type'])\n",
    "    def idxing(x):\n",
    "        if x == 'Iris-setosa':\n",
    "            return 2\n",
    "        elif x == 'Iris-versicolor':\n",
    "            return 0\n",
    "        else:\n",
    "            return 1\n",
    "    data['type'] = data['type'].apply(idxing)\n",
    "    data = data[data.type != 2]\n",
    "\n",
    "    data_bar = np.apply_along_axis(axis=0,arr=data,func1d=np.median)\n",
    "    for i in range(len(data_bar) - 1):\n",
    "        feature = data.columns[i]\n",
    "        data[feature] = data[feature].apply(lambda x : \"small\" if x < data_bar[i] else \"big\")\n",
    "\n",
    "    data = data.sample(frac = 1).reset_index(drop=True)\n",
    "    data_train = data[:int(len(data)*0.8)].reset_index(drop=True)\n",
    "    data_test = data[int(len(data)*0.8):].reset_index(drop=True)\n",
    "    \n",
    "    return (data_train, data_test)"
   ]
  },
  {
   "cell_type": "code",
   "execution_count": 956,
   "metadata": {
    "ExecuteTime": {
     "end_time": "2018-09-13T15:51:49.046580Z",
     "start_time": "2018-09-13T15:51:49.008901Z"
    }
   },
   "outputs": [],
   "source": [
    "(data_train, data_test) = get_data2()"
   ]
  },
  {
   "cell_type": "code",
   "execution_count": 967,
   "metadata": {
    "ExecuteTime": {
     "end_time": "2018-09-13T15:52:11.823529Z",
     "start_time": "2018-09-13T15:52:11.767971Z"
    }
   },
   "outputs": [],
   "source": [
    "(data_train, data_test) = get_data_iris()"
   ]
  },
  {
   "cell_type": "code",
   "execution_count": 968,
   "metadata": {
    "ExecuteTime": {
     "end_time": "2018-09-13T15:52:12.935238Z",
     "start_time": "2018-09-13T15:52:12.404545Z"
    }
   },
   "outputs": [
    {
     "name": "stdout",
     "output_type": "stream",
     "text": [
      "pre: 0.35, aft: 0.35\n",
      "pre: 0.35, aft: 0.35\n",
      "pre: 0.35, aft: 0.65\n",
      "pre: 0.65, aft: 0.65\n",
      "pre: 0.65, aft: 0.65\n",
      "pre: 0.65, aft: 0.65\n",
      "pre: 0.65, aft: 0.65\n",
      "pre: 0.65, aft: 0.65\n",
      "train_accuracy: 0.975, test_accuracy: 0.65\n"
     ]
    },
    {
     "data": {
      "image/png": "[encoded data removed]",
      "text/plain": [
       "<Figure size 432x288 with 1 Axes>"
      ]
     },
     "metadata": {},
     "output_type": "display_data"
    }
   ],
   "source": [
    "dt = DecisionTree(data_train, data_test)\n",
    "dt.dfs(dt.data)\n",
    "print ('train_accuracy: {}, test_accuracy: {}'.format(dt.train_accuracy(), dt.test_accuracy(dt.test_data)))\n",
    "\n",
    "dt.tree = dt.get_tree()\n",
    "tp = Tp()\n",
    "tp.createPlot(dt.tree)"
   ]
  }
 ],
 "metadata": {
  "kernelspec": {
   "display_name": "Python 3",
   "language": "python",
   "name": "python3"
  },
  "language_info": {
   "codemirror_mode": {
    "name": "ipython",
    "version": 3
   },
   "file_extension": ".py",
   "mimetype": "text/x-python",
   "name": "python",
   "nbconvert_exporter": "python",
   "pygments_lexer": "ipython3",
   "version": "3.6.5"
  }
 },
 "nbformat": 4,
 "nbformat_minor": 2
}
