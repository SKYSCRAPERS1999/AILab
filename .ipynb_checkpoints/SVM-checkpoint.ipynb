{
 "cells": [
  {
   "cell_type": "code",
   "execution_count": 446,
   "metadata": {
    "ExecuteTime": {
     "end_time": "2018-09-23T03:28:52.819034Z",
     "start_time": "2018-09-23T03:28:52.806467Z"
    }
   },
   "outputs": [
    {
     "data": {
      "text/plain": [
       "'/home/impulse/Documents/AILab'"
      ]
     },
     "execution_count": 446,
     "metadata": {},
     "output_type": "execute_result"
    }
   ],
   "source": [
    "import sys, os, pandas as pd, numpy as np, scipy\n",
    "from sklearn import preprocessing\n",
    "os.getcwd()"
   ]
  },
  {
   "cell_type": "code",
   "execution_count": 459,
   "metadata": {
    "ExecuteTime": {
     "end_time": "2018-09-23T08:17:29.164337Z",
     "start_time": "2018-09-23T08:17:29.156795Z"
    }
   },
   "outputs": [],
   "source": [
    "sys.path.insert(0, '/home/impulse/Documents/AILab/libsvm-3.23/python/')\n",
    "from svmutil import *"
   ]
  },
  {
   "cell_type": "code",
   "execution_count": 453,
   "metadata": {
    "ExecuteTime": {
     "end_time": "2018-09-23T08:15:48.542689Z",
     "start_time": "2018-09-23T08:15:48.530576Z"
    }
   },
   "outputs": [],
   "source": [
    "def get_data3(ratio = 0.5):\n",
    "    data = pd.read_csv('./data3.csv')\n",
    "    data.drop(axis=1,columns=['编号'],inplace=True)\n",
    "    data[['好瓜']] = data[['好瓜']].apply(lambda x: 1.0 if (x == '是').bool() else 0.0, axis=1)\n",
    "    \n",
    "    discrete_fea = data.columns[data.dtypes == 'object']\n",
    "    for fea in discrete_fea:\n",
    "        onehot_fea = pd.get_dummies(data[[fea]], dtype='float')\n",
    "        data.drop(fea, axis=1, inplace=True)\n",
    "        data = pd.concat([onehot_fea, data], axis=1)\n",
    "        \n",
    "    data_posi = data[data['好瓜'] == 1].sample(frac = 1).reset_index(drop=True)\n",
    "    data_nega = data[data['好瓜'] == 0].sample(frac = 1).reset_index(drop=True)\n",
    "    data_train = data_posi[:int(len(data_posi)*ratio)].append(data_nega[:int(len(data_nega)*ratio)]).reset_index(drop=True)\n",
    "    data_test = data_posi[int(len(data_posi)*ratio):].append(data_nega[int(len(data_nega)*ratio):]).reset_index(drop=True)\n",
    "    \n",
    "    feature_train, label_train = data_train[data_train.columns[:-1]], data_train[data_train.columns[-1]]\n",
    "    feature_test, label_test = data_test[data_test.columns[:-1]], data_test[data_test.columns[-1]]\n",
    "    \n",
    "    #数据标准化\n",
    "    scaler = preprocessing.MinMaxScaler().fit(feature_train)\n",
    "    #训练集数据标准化\n",
    "    feature_train = scaler.transform(feature_train)\n",
    "    #测试集数据标准化\n",
    "    feature_test = scaler.transform(feature_test)\n",
    "\n",
    "    return ((feature_train, label_train.values), (feature_test, label_test.values))"
   ]
  },
  {
   "cell_type": "code",
   "execution_count": 661,
   "metadata": {
    "ExecuteTime": {
     "end_time": "2018-09-23T11:40:46.761648Z",
     "start_time": "2018-09-23T11:40:46.745596Z"
    }
   },
   "outputs": [],
   "source": [
    "import random, math\n",
    "\n",
    "def idxing(x):\n",
    "    if x == 'Iris-setosa':\n",
    "        return 2\n",
    "    elif x == 'Iris-versicolor':\n",
    "        return 0\n",
    "    else:\n",
    "        return 1\n",
    "\n",
    "def get_data_iris(ratio = 0.7):\n",
    "    data = pd.read_csv('./data_iris.csv', names=['sepal_l', 'sepal_w', 'petal_l', 'petal_w', 'type'])\n",
    "\n",
    "    data['type'] = data['type'].apply(idxing)\n",
    "    data = data[data.type != 2]\n",
    "\n",
    "    data_bar = np.apply_along_axis(axis=0,arr=data,func1d=np.median)\n",
    "    \n",
    "    data = data.sample(frac = 1).reset_index(drop=True)\n",
    "    data_posi = data[data.type == 1].sample(frac = 1).reset_index(drop=True)\n",
    "    data_nega = data[data.type == 0].sample(frac = 1).reset_index(drop=True)\n",
    "    data_train = data_posi[:int(len(data_posi)*ratio)].append(data_nega[:int(len(data_nega)*ratio)]).reset_index(drop=True)\n",
    "    data_test = data_posi[int(len(data_posi)*ratio):].append(data_nega[int(len(data_nega)*ratio):]).reset_index(drop=True)\n",
    "    \n",
    "    feature_train, label_train = data_train[data_train.columns[:-1]], data_train[data_train.columns[-1]]\n",
    "    feature_test, label_test = data_test[data_test.columns[:-1]], data_test[data_test.columns[-1]]\n",
    "    \n",
    "    #数据标准化\n",
    "    scaler = preprocessing.MinMaxScaler().fit(feature_train)\n",
    "    #训练集数据标准化\n",
    "    feature_train = scaler.transform(feature_train)\n",
    "    #测试集数据标准化\n",
    "    feature_test = scaler.transform(feature_test)\n",
    "\n",
    "    return ((feature_train, label_train.values), (feature_test, label_test.values))"
   ]
  },
  {
   "cell_type": "code",
   "execution_count": 667,
   "metadata": {
    "ExecuteTime": {
     "end_time": "2018-09-23T11:41:09.895367Z",
     "start_time": "2018-09-23T11:41:09.826638Z"
    }
   },
   "outputs": [],
   "source": [
    "((feature_train, label_train), (feature_test, label_test)) = get_data3()\n",
    "x, y = scipy.sparse.csr_matrix(feature_train), label_train\n",
    "xt, yt = scipy.sparse.csr_matrix(feature_test), label_test"
   ]
  },
  {
   "cell_type": "code",
   "execution_count": 758,
   "metadata": {
    "ExecuteTime": {
     "end_time": "2018-09-23T12:18:22.198498Z",
     "start_time": "2018-09-23T12:18:22.172254Z"
    }
   },
   "outputs": [],
   "source": [
    "((feature_train, label_train), (feature_test, label_test)) = get_data_iris()\n",
    "x, y = scipy.sparse.csr_matrix(feature_train), label_train\n",
    "xt, yt = scipy.sparse.csr_matrix(feature_test), label_test"
   ]
  },
  {
   "cell_type": "code",
   "execution_count": 759,
   "metadata": {
    "ExecuteTime": {
     "end_time": "2018-09-23T12:18:22.924344Z",
     "start_time": "2018-09-23T12:18:22.900729Z"
    }
   },
   "outputs": [
    {
     "name": "stdout",
     "output_type": "stream",
     "text": [
      "Accuracy = 96.6667% (29/30) (classification)\n"
     ]
    }
   ],
   "source": [
    "prob  = svm_problem(y, x)\n",
    "param = svm_parameter('-t 2 -c 4')\n",
    "m = svm_train(prob, param)\n",
    "p_label, p_acc, p_val = svm_predict(yt, xt, m)\n",
    "svm_save_model('model_file', m)"
   ]
  },
  {
   "cell_type": "code",
   "execution_count": 760,
   "metadata": {
    "ExecuteTime": {
     "end_time": "2018-09-23T12:18:23.769342Z",
     "start_time": "2018-09-23T12:18:23.709992Z"
    },
    "collapsed": true
   },
   "outputs": [
    {
     "name": "stdout",
     "output_type": "stream",
     "text": [
      "Accuracy = 97.1429% (68/70) (classification)\n"
     ]
    },
    {
     "data": {
      "text/plain": [
       "([1.0,\n",
       "  1.0,\n",
       "  0.0,\n",
       "  1.0,\n",
       "  1.0,\n",
       "  1.0,\n",
       "  1.0,\n",
       "  1.0,\n",
       "  1.0,\n",
       "  1.0,\n",
       "  1.0,\n",
       "  1.0,\n",
       "  1.0,\n",
       "  1.0,\n",
       "  1.0,\n",
       "  1.0,\n",
       "  1.0,\n",
       "  1.0,\n",
       "  1.0,\n",
       "  1.0,\n",
       "  1.0,\n",
       "  1.0,\n",
       "  1.0,\n",
       "  1.0,\n",
       "  1.0,\n",
       "  1.0,\n",
       "  1.0,\n",
       "  1.0,\n",
       "  1.0,\n",
       "  1.0,\n",
       "  1.0,\n",
       "  1.0,\n",
       "  1.0,\n",
       "  1.0,\n",
       "  1.0,\n",
       "  1.0,\n",
       "  0.0,\n",
       "  0.0,\n",
       "  0.0,\n",
       "  0.0,\n",
       "  0.0,\n",
       "  0.0,\n",
       "  0.0,\n",
       "  0.0,\n",
       "  0.0,\n",
       "  0.0,\n",
       "  0.0,\n",
       "  0.0,\n",
       "  0.0,\n",
       "  0.0,\n",
       "  0.0,\n",
       "  0.0,\n",
       "  0.0,\n",
       "  0.0,\n",
       "  0.0,\n",
       "  0.0,\n",
       "  0.0,\n",
       "  0.0,\n",
       "  0.0,\n",
       "  0.0,\n",
       "  0.0,\n",
       "  0.0,\n",
       "  0.0,\n",
       "  0.0,\n",
       "  0.0,\n",
       "  0.0,\n",
       "  0.0,\n",
       "  0.0,\n",
       "  0.0,\n",
       "  0.0],\n",
       " (97.14285714285714, 0.02857142857142857, 0.8889795918367347),\n",
       " [[1.26353512758015],\n",
       "  [2.157262485609391],\n",
       "  [-0.2888619816117917],\n",
       "  [1.3681170888788827],\n",
       "  [0.9221107793784125],\n",
       "  [0.12540453238559962],\n",
       "  [2.038859282621566],\n",
       "  [1.3991022024726965],\n",
       "  [1.7468718366825469],\n",
       "  [1.4251833836415524],\n",
       "  [1.658918508730717],\n",
       "  [0.23107969870602213],\n",
       "  [0.4123749011585804],\n",
       "  [0.9488241934218085],\n",
       "  [1.8693721376007604],\n",
       "  [1.9961804119171052],\n",
       "  [1.9879708938234977],\n",
       "  [1.688485322617562],\n",
       "  [1.2756108379711901],\n",
       "  [0.2667338040521163],\n",
       "  [0.9209948533282386],\n",
       "  [1.3795431949316677],\n",
       "  [0.9999455897431235],\n",
       "  [1.0316282329102369],\n",
       "  [1.6473057187032314],\n",
       "  [0.6471687562889392],\n",
       "  [2.144972716620126],\n",
       "  [0.1610857633476645],\n",
       "  [1.204643783602167],\n",
       "  [1.0461581008798628],\n",
       "  [1.9743007428538175],\n",
       "  [0.4730131041739875],\n",
       "  [2.277227598970372],\n",
       "  [1.0001087891441927],\n",
       "  [0.2934733303833394],\n",
       "  [0.02587106677111478],\n",
       "  [-0.9682741216699888],\n",
       "  [-0.35929629131998425],\n",
       "  [-0.24748087083256914],\n",
       "  [-2.570296155228895],\n",
       "  [-0.9724190033862863],\n",
       "  [-1.1759049291963026],\n",
       "  [-1.246581415211791],\n",
       "  [-1.7689972996876548],\n",
       "  [-1.3937203798054312],\n",
       "  [-1.7757851006391419],\n",
       "  [-0.7863256752272285],\n",
       "  [-1.571338322571457],\n",
       "  [-0.7652867897698483],\n",
       "  [-2.231266633725463],\n",
       "  [-1.8925502931921852],\n",
       "  [-1.7805402679307099],\n",
       "  [-1.6966997026114585],\n",
       "  [-2.22866703214298],\n",
       "  [-1.445786912523142],\n",
       "  [-1.940882931614395],\n",
       "  [-0.8583118917424457],\n",
       "  [-2.1855023134568485],\n",
       "  [-1.6190003858558],\n",
       "  [-1.563773498905205],\n",
       "  [-1.1913203083241264],\n",
       "  [-0.09907754755080239],\n",
       "  [-0.8239567758452484],\n",
       "  [-0.8183966025098144],\n",
       "  [-1.540621926453308],\n",
       "  [-0.8545668021579629],\n",
       "  [-1.1850540175676199],\n",
       "  [-1.0000542774102539],\n",
       "  [-1.1357355760018497],\n",
       "  [-0.9639373462413601]])"
      ]
     },
     "execution_count": 760,
     "metadata": {},
     "output_type": "execute_result"
    }
   ],
   "source": [
    "svm_predict(y, x, m)"
   ]
  }
 ],
 "metadata": {
  "kernelspec": {
   "display_name": "Python 3",
   "language": "python",
   "name": "python3"
  },
  "language_info": {
   "codemirror_mode": {
    "name": "ipython",
    "version": 3
   },
   "file_extension": ".py",
   "mimetype": "text/x-python",
   "name": "python",
   "nbconvert_exporter": "python",
   "pygments_lexer": "ipython3",
   "version": "3.6.5"
  }
 },
 "nbformat": 4,
 "nbformat_minor": 2
}
