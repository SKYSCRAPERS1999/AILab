{
 "cells": [
  {
   "cell_type": "code",
   "execution_count": 1,
   "metadata": {
    "ExecuteTime": {
     "end_time": "2018-10-01T01:43:18.076256Z",
     "start_time": "2018-10-01T01:43:17.676779Z"
    }
   },
   "outputs": [],
   "source": [
    "import matplotlib.pyplot as plt\n",
    "import matplotlib\n",
    "import pandas as pd, numpy as np, math\n",
    "matplotlib.rcParams[u'font.sans-serif'] = ['simhei']\n",
    "matplotlib.rcParams['axes.unicode_minus'] = False"
   ]
  },
  {
   "cell_type": "code",
   "execution_count": 20,
   "metadata": {
    "ExecuteTime": {
     "end_time": "2018-10-01T01:48:43.155271Z",
     "start_time": "2018-10-01T01:48:43.152596Z"
    }
   },
   "outputs": [],
   "source": [
    "def get_data4(ratio = 0.7):\n",
    "    data = pd.read_csv('./data4.csv')\n",
    "    data.drop(columns = '编号', inplace = True)\n",
    "    return data"
   ]
  },
  {
   "cell_type": "code",
   "execution_count": 39,
   "metadata": {
    "ExecuteTime": {
     "end_time": "2018-10-01T02:04:45.988882Z",
     "start_time": "2018-10-01T02:04:45.969477Z"
    }
   },
   "outputs": [],
   "source": [
    "data = get_data4()"
   ]
  },
  {
   "cell_type": "code",
   "execution_count": 244,
   "metadata": {
    "ExecuteTime": {
     "end_time": "2018-10-01T02:34:21.121801Z",
     "start_time": "2018-10-01T02:34:21.109330Z"
    }
   },
   "outputs": [],
   "source": [
    "class Kmeans(object):\n",
    "    def __init__(self, data):\n",
    "        self.data = data\n",
    "        \n",
    "    def fit(self, k = 3):\n",
    "        self.model = {'k': k}\n",
    "        n, m = self.data.shape\n",
    "        center = self.model['center_init'] = np.array(self.data.sample(n = k))\n",
    "        data = self.data.values\n",
    "        dis = np.zeros((n, k))\n",
    "        label = np.zeros(n)\n",
    "        iteration = 0\n",
    "        while True:\n",
    "            iteration += 1\n",
    "            for j in range(k): dis[:,j] = np.sum(np.square(data - center[j,:]), axis = 1)\n",
    "            label = np.argmin(dis, axis = 1)\n",
    "            new_center = np.zeros((k, m), dtype = np.float64)\n",
    "            cnt_center = np.zeros(k, dtype = np.int)\n",
    "            for i in range(n): new_center[label[i],:] += data[i,:]; cnt_center[label[i]] += 1\n",
    "            for i in range(k): new_center[i,:] /= float(cnt_center[i])\n",
    "            if np.linalg.norm(new_center - center) < 1e-6:\n",
    "                break\n",
    "            else:\n",
    "                center = new_center\n",
    "        self.model['label'], self.model['center'], self.model['iteration'] = label, center, iteration\n",
    "        \n",
    "        self.model['E'] = 0.0\n",
    "        for i in range(n): self.model['E'] += np.linalg.norm(data[i,:] - center[label[i],:], ord = 2)\n",
    "            \n",
    "        return self.model\n",
    "    \n",
    "    def show(self, model):\n",
    "        data = self.data\n",
    "        plt.xlabel(data.columns[0]); plt.ylabel(data.columns[1])\n",
    "        data = data.values\n",
    "        plt.scatter(data[:,0], data[:,1], c = model['label'], cmap = plt.cm.autumn)\n",
    "        plt.scatter(model['center'][:,0], model['center'][:,1], c = np.arange(0, model['k']),\n",
    "                    cmap = plt.cm.summer, marker = 'D', s = 100)"
   ]
  },
  {
   "cell_type": "code",
   "execution_count": 255,
   "metadata": {
    "ExecuteTime": {
     "end_time": "2018-10-01T02:34:50.177145Z",
     "start_time": "2018-10-01T02:34:49.940785Z"
    }
   },
   "outputs": [
    {
     "name": "stdout",
     "output_type": "stream",
     "text": [
      "8\n",
      "3.31692859764552\n"
     ]
    },
    {
     "data": {
      "image/png": "[encoded data removed]",
      "text/plain": [
       "<Figure size 432x288 with 1 Axes>"
      ]
     },
     "metadata": {},
     "output_type": "display_data"
    }
   ],
   "source": [
    "km = Kmeans(data)\n",
    "model = km.fit(k = 3)\n",
    "print (model['iteration'])\n",
    "print (model['E'])\n",
    "km.show(model)"
   ]
  }
 ],
 "metadata": {
  "kernelspec": {
   "display_name": "Python 3",
   "language": "python",
   "name": "python3"
  },
  "language_info": {
   "codemirror_mode": {
    "name": "ipython",
    "version": 3
   },
   "file_extension": ".py",
   "mimetype": "text/x-python",
   "name": "python",
   "nbconvert_exporter": "python",
   "pygments_lexer": "ipython3",
   "version": "3.6.5"
  }
 },
 "nbformat": 4,
 "nbformat_minor": 2
}
