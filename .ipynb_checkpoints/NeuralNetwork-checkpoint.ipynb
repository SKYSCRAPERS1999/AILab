{
 "cells": [
  {
   "cell_type": "code",
   "execution_count": 7,
   "metadata": {
    "ExecuteTime": {
     "end_time": "2018-09-23T11:36:41.566475Z",
     "start_time": "2018-09-23T11:36:41.163411Z"
    }
   },
   "outputs": [],
   "source": [
    "import matplotlib.pyplot as plt\n",
    "import matplotlib\n",
    "import pandas as pd, numpy as np\n",
    "matplotlib.rcParams[u'font.sans-serif'] = ['simhei']\n",
    "matplotlib.rcParams['axes.unicode_minus'] = False"
   ]
  },
  {
   "cell_type": "code",
   "execution_count": 8,
   "metadata": {
    "ExecuteTime": {
     "end_time": "2018-09-23T11:36:42.316357Z",
     "start_time": "2018-09-23T11:36:42.309661Z"
    }
   },
   "outputs": [],
   "source": [
    "def get_data3(ratio = 0.6):\n",
    "    data = pd.read_csv('./data3.csv')\n",
    "    data.drop(axis=1,columns=['编号'],inplace=True)\n",
    "    data[['好瓜']] = data[['好瓜']].apply(lambda x: 1.0 if (x == '是').bool() else 0.0, axis=1)\n",
    "    \n",
    "    discrete_fea = data.columns[data.dtypes == 'object']\n",
    "    for fea in discrete_fea:\n",
    "        onehot_fea = pd.get_dummies(data[[fea]], dtype='float')\n",
    "        data.drop(fea, axis=1, inplace=True)\n",
    "        data = pd.concat([onehot_fea, data], axis=1)\n",
    "        \n",
    "#     data = data.sample(frac = 1).reset_index(drop=True)\n",
    "    data_posi = data[data['好瓜'] == 1].sample(frac = 1).reset_index(drop=True)\n",
    "    data_nega = data[data['好瓜'] == 0].sample(frac = 1).reset_index(drop=True)\n",
    "    data_train = data_posi[:int(len(data_posi)*ratio)].append(data_nega[:int(len(data_nega)*ratio)]).reset_index(drop=True)\n",
    "    data_test = data_posi[int(len(data_posi)*ratio):].append(data_nega[int(len(data_nega)*ratio):]).reset_index(drop=True)\n",
    "    \n",
    "    return (data_train, data_test)"
   ]
  },
  {
   "cell_type": "code",
   "execution_count": 9,
   "metadata": {
    "ExecuteTime": {
     "end_time": "2018-09-23T11:36:43.100248Z",
     "start_time": "2018-09-23T11:36:43.063818Z"
    }
   },
   "outputs": [],
   "source": [
    "import random, math\n",
    "\n",
    "def idxing(x):\n",
    "    if x == 'Iris-setosa':\n",
    "        return 2\n",
    "    elif x == 'Iris-versicolor':\n",
    "        return 0\n",
    "    else:\n",
    "        return 1\n",
    "\n",
    "def get_data_iris(ratio = 0.7):\n",
    "    data = pd.read_csv('./data_iris.csv', names=['sepal_l', 'sepal_w', 'petal_l', 'petal_w', 'type'])\n",
    "\n",
    "    data['type'] = data['type'].apply(idxing)\n",
    "    data = data[data.type != 2]\n",
    "\n",
    "    data_bar = np.apply_along_axis(axis=0,arr=data,func1d=np.median)\n",
    "\n",
    "    data = data.sample(frac = 1).reset_index(drop=True)\n",
    "    data_posi = data[data.type == 1].sample(frac = 1).reset_index(drop=True)\n",
    "    data_nega = data[data.type == 0].sample(frac = 1).reset_index(drop=True)\n",
    "    data_train = data_posi[:int(len(data_posi)*ratio)].append(data_nega[:int(len(data_nega)*ratio)]).reset_index(drop=True)\n",
    "    data_test = data_posi[int(len(data_posi)*ratio):].append(data_nega[int(len(data_nega)*ratio):]).reset_index(drop=True)\n",
    "    \n",
    "    return (data_train, data_test)"
   ]
  },
  {
   "cell_type": "code",
   "execution_count": 10,
   "metadata": {
    "ExecuteTime": {
     "end_time": "2018-09-23T11:36:44.560691Z",
     "start_time": "2018-09-23T11:36:44.556461Z"
    }
   },
   "outputs": [],
   "source": [
    "def sigmoid(x):\n",
    "    return 1.0 / (np.exp(-x) + 1.0)"
   ]
  },
  {
   "cell_type": "code",
   "execution_count": 11,
   "metadata": {
    "ExecuteTime": {
     "end_time": "2018-09-23T11:36:46.073215Z",
     "start_time": "2018-09-23T11:36:46.011123Z"
    }
   },
   "outputs": [],
   "source": [
    "class NN(object):\n",
    "    def __init__(self, data_pair, by_whole = False, lamda = 2e-8):\n",
    "        (self.data_train, self.data_test) = data_pair\n",
    "        self.by_whole = by_whole\n",
    "        self.lamda = lamda ## ratio of non-regular item\n",
    "        self.d = self.data_train.shape[1] - 1\n",
    "        self.q = self.d\n",
    "        self.l = 1\n",
    "        self.data = [ np.zeros(self.d), np.zeros(self.q), np.zeros(self.l) ] ## [x, b, y]\n",
    "        self.weight = [ np.random.random((self.d, self.q)), np.random.random((self.q, self.l)) ] ## [v, w]\n",
    "        self.threshold = [ np.random.random(self.q), np.random.random(self.l) ] ## [gamma, theta]\n",
    "        self.clear()\n",
    "        \n",
    "    def clear(self):\n",
    "        self.delta_w = np.zeros((self.q, self.l))\n",
    "        self.delta_theta = np.float64(0.0)\n",
    "        self.delta_v = np.zeros((self.d, self.q))\n",
    "        self.delta_gamma = np.zeros(self.q)\n",
    "    \n",
    "    def update(self, n):\n",
    "        ## regular item added\n",
    "        self.weight[1]+=(1-self.lamda)*self.delta_w/float(n) - self.lamda*(self.weight[1]).sum()\n",
    "        self.threshold[1]+=(1-self.lamda)*self.delta_theta/float(n) - self.lamda*(self.threshold[1]).sum()\n",
    "        self.weight[0]+=(1-self.lamda)*self.delta_v/float(n) - self.lamda*(self.weight[0]).sum()\n",
    "        self.threshold[0]+=(1-self.lamda)*self.delta_gamma/float(n) - self.lamda*(self.threshold[0]).sum()\n",
    "        self.clear()\n",
    "        \n",
    "    ## input: idx of data_train\n",
    "    ## output: (y^, y)\n",
    "    def forward(self, sample):\n",
    "        sample = sample.values\n",
    "        self.data[0] = sample[:-1]\n",
    "        self.data[1] = sigmoid(np.dot(self.weight[0].T, self.data[0]) - self.threshold[0])\n",
    "        self.data[2] = sigmoid(np.dot(self.weight[1].T, self.data[1]) - self.threshold[1])\n",
    "        (_y, y) = self.data[2][0], sample[-1]\n",
    "        return (_y, y)\n",
    "    \n",
    "    ## input: (y^, y)\n",
    "    def bp(self, _y, y, alpha = 4.0, beta = 1.0, to_update = True):  \n",
    "#     def bp(self, _y, y, alpha = 12.0, beta = 3.0, to_update = True):    \n",
    "        g = _y * (1.0 - _y) * (y - _y) ## (1, )\n",
    "        e = self.data[1] * (1.0 - self.data[1]) * np.dot(self.weight[1].T, self.data[1]) ## (q, )\n",
    "\n",
    "        self.delta_w += beta * g * self.data[1].reshape(self.delta_w.shape[0], 1) ## (q, )\n",
    "        self.delta_theta += -beta * g ## (1, )\n",
    "        self.delta_v += alpha * np.outer(self.data[0], e) ## (d, q)\n",
    "        self.delta_gamma += -alpha * e ## (q, 1)\n",
    "        if to_update: self.update(1)\n",
    "        \n",
    "    def fit(self, iteration = 100000):\n",
    "        \n",
    "        for T in range(iteration + 1):\n",
    "            if T % 1000 == 0: print ('iter {}:'.format(T))\n",
    "            \n",
    "            ## data_train\n",
    "            acc, n = 0.0, self.data_train.shape[0]\n",
    "            for i in range(n):\n",
    "                (_y, y) = self.forward(self.data_train.iloc[i])\n",
    "                acc += (_y < 0.5 and y == 0.0) or (_y >= 0.5 and y == 1.0)\n",
    "                self.bp(_y, y, self.by_whole)\n",
    "            if T % 1000 == 0: print ('train_accuracy: {}'.format(acc / float(n)))\n",
    "            if self.by_whole == True: self.update(n)\n",
    "\n",
    "            ## data_test\n",
    "            acc, n = 0.0, self.data_test.shape[0]\n",
    "            if n == 0: continue\n",
    "            for i in range(n):\n",
    "                (_y, y) = self.forward(self.data_test.iloc[i])\n",
    "                acc += (_y < 0.5 and y == 0.0) or (_y >= 0.5 and y == 1.0)\n",
    "            if T % 1000 == 0: print ('test_accuracy: {}'.format(acc / float(n)))"
   ]
  },
  {
   "cell_type": "code",
   "execution_count": null,
   "metadata": {
    "ExecuteTime": {
     "end_time": "2018-09-18T11:43:05.438536Z",
     "start_time": "2018-09-18T11:43:05.431029Z"
    }
   },
   "outputs": [],
   "source": [
    "## of data3"
   ]
  },
  {
   "cell_type": "code",
   "execution_count": null,
   "metadata": {
    "ExecuteTime": {
     "end_time": "2018-09-18T12:32:24.796431Z",
     "start_time": "2018-09-18T12:32:13.283779Z"
    }
   },
   "outputs": [],
   "source": [
    "nn = NN(data_pair=get_data3(), by_whole=False, lamda=1e-3)\n",
    "nn.fit()"
   ]
  },
  {
   "cell_type": "code",
   "execution_count": null,
   "metadata": {
    "ExecuteTime": {
     "end_time": "2018-09-18T11:43:11.229224Z",
     "start_time": "2018-09-18T11:43:11.225851Z"
    }
   },
   "outputs": [],
   "source": [
    "## of data iris"
   ]
  },
  {
   "cell_type": "code",
   "execution_count": null,
   "metadata": {
    "ExecuteTime": {
     "start_time": "2018-09-23T11:36:49.268Z"
    }
   },
   "outputs": [
    {
     "name": "stdout",
     "output_type": "stream",
     "text": [
      "iter 0:\n",
      "train_accuracy: 0.9\n",
      "test_accuracy: 0.5\n",
      "iter 1000:\n",
      "train_accuracy: 0.9142857142857143\n",
      "test_accuracy: 0.6\n"
     ]
    }
   ],
   "source": [
    "nn = NN(data_pair=get_data_iris(), by_whole=False, lamda=1e-5)\n",
    "nn.fit()"
   ]
  },
  {
   "cell_type": "code",
   "execution_count": null,
   "metadata": {
    "ExecuteTime": {
     "end_time": "2018-09-19T01:27:58.891403Z",
     "start_time": "2018-09-19T01:27:58.888979Z"
    }
   },
   "outputs": [],
   "source": [
    "## XOR Problem"
   ]
  },
  {
   "cell_type": "code",
   "execution_count": null,
   "metadata": {
    "ExecuteTime": {
     "end_time": "2018-09-19T06:02:38.065917Z",
     "start_time": "2018-09-19T06:01:03.380396Z"
    }
   },
   "outputs": [],
   "source": [
    "def Dis(x, c):\n",
    "    return np.square(x - c).sum()\n",
    "def Rou(x, c, beta):\n",
    "    return np.exp(-beta * Dis(x, c))\n",
    "\n",
    "q = 10\n",
    "data = np.array([[0,0,0],[0,1,1],[1,0,1],[1,1,0]], dtype='float64')\n",
    "\n",
    "beta = np.zeros(q, dtype='float64')\n",
    "w = np.random.random(q)\n",
    "\n",
    "delta_beta = np.zeros(q, dtype='float64')\n",
    "delta_w = np.random.random(q); delta_w /= delta_w.sum() \n",
    "\n",
    "c = np.random.random((q, 2))\n",
    "rou = np.zeros(q, dtype='float64')\n",
    "dis = np.zeros(q, dtype='float64')\n",
    "iteration = 100000\n",
    "alpha = 1.0\n",
    "\n",
    "for T in range(iteration + 1):\n",
    "    print ('Iter {}:'.format(T))\n",
    "    acc, n = 0.0, data.shape[0]\n",
    "    for i in range(n):\n",
    "        ## forward\n",
    "        sample = data[i]\n",
    "        feature, label = sample[:-1], sample[-1]\n",
    "        for j in range(q):\n",
    "            rou[j] = Rou(feature, c[j], beta[j])\n",
    "            dis[j] = Dis(feature, c[j])\n",
    "\n",
    "        phi = np.dot(w, rou)\n",
    "        \n",
    "        ## bp\n",
    "        delta_w = -(phi - label) * rou\n",
    "        delta_beta = (phi - label) * w * rou * dis\n",
    "        \n",
    "        w += alpha * delta_w\n",
    "        beta += alpha * delta_beta\n",
    "        \n",
    "        print ('{:.3f} {:.1f}'.format(phi, label))\n",
    "    print ('')"
   ]
  },
  {
   "cell_type": "markdown",
   "metadata": {
    "ExecuteTime": {
     "end_time": "2018-09-19T06:10:45.506695Z",
     "start_time": "2018-09-19T06:10:45.494095Z"
    }
   },
   "source": [
    "## Scrawling Capchas"
   ]
  }
 ],
 "metadata": {
  "kernelspec": {
   "display_name": "Python 3",
   "language": "python",
   "name": "python3"
  },
  "language_info": {
   "codemirror_mode": {
    "name": "ipython",
    "version": 3
   },
   "file_extension": ".py",
   "mimetype": "text/x-python",
   "name": "python",
   "nbconvert_exporter": "python",
   "pygments_lexer": "ipython3",
   "version": "3.6.5"
  }
 },
 "nbformat": 4,
 "nbformat_minor": 2
}
