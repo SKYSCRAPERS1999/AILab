{
 "cells": [
  {
   "cell_type": "code",
   "execution_count": 1,
   "metadata": {
    "ExecuteTime": {
     "end_time": "2018-09-18T06:48:44.980520Z",
     "start_time": "2018-09-18T06:48:44.556499Z"
    }
   },
   "outputs": [],
   "source": [
    "import matplotlib.pyplot as plt\n",
    "import matplotlib\n",
    "import pandas as pd, numpy as np\n",
    "matplotlib.rcParams[u'font.sans-serif'] = ['simhei']\n",
    "matplotlib.rcParams['axes.unicode_minus'] = False"
   ]
  },
  {
   "cell_type": "code",
   "execution_count": 288,
   "metadata": {
    "ExecuteTime": {
     "end_time": "2018-09-18T10:36:21.510208Z",
     "start_time": "2018-09-18T10:36:21.496395Z"
    }
   },
   "outputs": [],
   "source": [
    "def get_data3(ratio = 0.6):\n",
    "    data = pd.read_csv('./data3.csv')\n",
    "    data.drop(axis=1,columns=['编号'],inplace=True)\n",
    "    data[['好瓜']] = data[['好瓜']].apply(lambda x: 1.0 if (x == '是').bool() else 0.0, axis=1)\n",
    "    \n",
    "    discrete_fea = data.columns[data.dtypes == 'object']\n",
    "    for fea in discrete_fea:\n",
    "        onehot_fea = pd.get_dummies(data[[fea]], dtype='float')\n",
    "        data.drop(fea, axis=1, inplace=True)\n",
    "        data = pd.concat([onehot_fea, data], axis=1)\n",
    "        \n",
    "#     data = data.sample(frac = 1).reset_index(drop=True)\n",
    "    data_posi = data[data['好瓜'] == 1].sample(frac = 1).reset_index(drop=True)\n",
    "    data_nega = data[data['好瓜'] == 0].sample(frac = 1).reset_index(drop=True)\n",
    "    data_train = data_posi[:int(len(data_posi)*ratio)].append(data_nega[:int(len(data_nega)*ratio)]).reset_index(drop=True)\n",
    "    data_test = data_posi[int(len(data_posi)*ratio):].append(data_nega[int(len(data_nega)*ratio):]).reset_index(drop=True)\n",
    "    \n",
    "    return (data_train, data_test)"
   ]
  },
  {
   "cell_type": "code",
   "execution_count": 289,
   "metadata": {
    "ExecuteTime": {
     "end_time": "2018-09-18T10:36:22.395829Z",
     "start_time": "2018-09-18T10:36:22.393156Z"
    }
   },
   "outputs": [],
   "source": [
    "def sigmoid(x):\n",
    "    return 1.0 / (np.exp(-x) + 1.0)"
   ]
  },
  {
   "cell_type": "code",
   "execution_count": 310,
   "metadata": {
    "ExecuteTime": {
     "end_time": "2018-09-18T10:40:31.713432Z",
     "start_time": "2018-09-18T10:40:31.680521Z"
    }
   },
   "outputs": [],
   "source": [
    "class NN(object):\n",
    "    def __init__(self, data_pair, by_whole = False, lamda = 2e-8):\n",
    "        (self.data_train, self.data_test) = data_pair\n",
    "        self.by_whole = by_whole\n",
    "        self.lamda = lamda ## ratio of non-regular item\n",
    "        self.d = self.data_train.shape[1] - 1\n",
    "        self.q = self.d\n",
    "        self.l = 1\n",
    "        self.data = [ np.zeros(self.d), np.zeros(self.q), np.zeros(self.l) ] ## [x, b, y]\n",
    "        self.weight = [ np.random.random((self.d, self.q)), np.random.random((self.q, self.l)) ] ## [v, w]\n",
    "        self.threshold = [ np.random.random(self.q), np.random.random(self.l) ] ## [gamma, theta]\n",
    "        self.clear()\n",
    "        \n",
    "    def clear(self):\n",
    "        self.delta_w = np.zeros((self.q, self.l))\n",
    "        self.delta_theta = np.float64(0.0)\n",
    "        self.delta_v = np.zeros((self.d, self.q))\n",
    "        self.delta_gamma = np.zeros(self.q)\n",
    "    \n",
    "    def update(self, n):\n",
    "        ## regular item added\n",
    "        self.weight[1]+=(1-self.lamda)*self.delta_w/float(n) - self.lamda*np.square(self.weight[1]).sum()\n",
    "        self.threshold[1]+=(1-self.lamda)*self.delta_theta/float(n) - self.lamda*np.square(self.threshold[1]).sum()\n",
    "        self.weight[0]+=(1-self.lamda)*self.delta_v/float(n) - self.lamda*np.square(self.weight[0]).sum()\n",
    "        self.threshold[0]+=(1-self.lamda)*self.delta_gamma/float(n) - self.lamda*np.square(self.threshold[0]).sum()\n",
    "        self.clear()\n",
    "        \n",
    "    ## input: idx of data_train\n",
    "    ## output: (y^, y)\n",
    "    def forward(self, sample):\n",
    "        sample = sample.values\n",
    "        self.data[0] = sample[:-1]\n",
    "        self.data[1] = sigmoid(np.dot(self.weight[0].T, self.data[0]) - self.threshold[0])\n",
    "        self.data[2] = sigmoid(np.dot(self.weight[1].T, self.data[1]) - self.threshold[1])\n",
    "        (_y, y) = self.data[2][0], sample[-1]\n",
    "        return (_y, y)\n",
    "    \n",
    "    ## input: (y^, y)\n",
    "    def bp(self, _y, y, alpha = 4.0, beta = 1.0, to_update = True):    \n",
    "        g = _y * (1.0 - _y) * (y - _y) ## (1, )\n",
    "        e = self.data[1] * (1.0 - self.data[1]) * np.dot(self.weight[1].T, self.data[1]) ## (q, )\n",
    "\n",
    "        self.delta_w += beta * g * self.data[1].reshape(self.delta_w.shape[0], 1) ## (q, )\n",
    "        self.delta_theta += -beta * g ## (1, )\n",
    "        self.delta_v += alpha * np.outer(self.data[0], e) ## (d, q)\n",
    "        self.delta_gamma += -alpha * e ## (q, 1)\n",
    "        if to_update: self.update(1)\n",
    "        \n",
    "    def fit(self, iteration = 10000):\n",
    "        \n",
    "        for T in range(iteration + 1):\n",
    "            if T % 1000 == 0: print ('iter {}:'.format(T))\n",
    "            \n",
    "            ## data_train\n",
    "            acc, n = 0.0, self.data_train.shape[0]\n",
    "            for i in range(n):\n",
    "                (_y, y) = self.forward(self.data_train.iloc[i])\n",
    "                acc += (_y < 0.5 and y == 0.0) or (_y >= 0.5 and y == 1.0)\n",
    "                self.bp(_y, y, self.by_whole)\n",
    "            if T % 1000 == 0: print ('train_accuracy: {}'.format(acc / float(n)))\n",
    "            if self.by_whole == True: self.update(n)\n",
    "\n",
    "            ## data_test\n",
    "            acc, n = 0.0, self.data_test.shape[0]\n",
    "            if n == 0: continue\n",
    "            for i in range(n):\n",
    "                (_y, y) = self.forward(self.data_test.iloc[i])\n",
    "                acc += (_y < 0.5 and y == 0.0) or (_y >= 0.5 and y == 1.0)\n",
    "            if T % 1000 == 0: print ('test_accuracy: {}'.format(acc / float(n)))"
   ]
  },
  {
   "cell_type": "code",
   "execution_count": 312,
   "metadata": {
    "ExecuteTime": {
     "end_time": "2018-09-18T10:41:43.792459Z",
     "start_time": "2018-09-18T10:41:15.947414Z"
    }
   },
   "outputs": [
    {
     "name": "stdout",
     "output_type": "stream",
     "text": [
      "iter 0:\n",
      "train_accuracy: 0.4444444444444444\n",
      "test_accuracy: 0.5\n",
      "iter 1000:\n",
      "train_accuracy: 0.8888888888888888\n",
      "test_accuracy: 0.5\n",
      "iter 2000:\n",
      "train_accuracy: 0.8888888888888888\n",
      "test_accuracy: 0.875\n",
      "iter 3000:\n",
      "train_accuracy: 1.0\n",
      "test_accuracy: 0.875\n",
      "iter 4000:\n",
      "train_accuracy: 1.0\n",
      "test_accuracy: 0.875\n",
      "iter 5000:\n",
      "train_accuracy: 1.0\n",
      "test_accuracy: 0.875\n",
      "iter 6000:\n",
      "train_accuracy: 1.0\n",
      "test_accuracy: 0.875\n",
      "iter 7000:\n",
      "train_accuracy: 1.0\n",
      "test_accuracy: 0.875\n",
      "iter 8000:\n",
      "train_accuracy: 1.0\n",
      "test_accuracy: 0.875\n",
      "iter 9000:\n",
      "train_accuracy: 1.0\n",
      "test_accuracy: 0.875\n",
      "iter 10000:\n",
      "train_accuracy: 1.0\n",
      "test_accuracy: 0.875\n"
     ]
    }
   ],
   "source": [
    "nn = NN(data_pair=get_data3(), by_whole=False)\n",
    "nn.fit()"
   ]
  },
  {
   "cell_type": "code",
   "execution_count": 345,
   "metadata": {
    "ExecuteTime": {
     "end_time": "2018-09-18T10:46:58.748169Z",
     "start_time": "2018-09-18T10:46:58.727665Z"
    }
   },
   "outputs": [
    {
     "data": {
      "text/plain": [
       "[array([0.   , 1.   , 0.   , 1.   , 0.   , 0.   , 1.   , 0.   , 0.   ,\n",
       "        0.   , 1.   , 1.   , 0.   , 0.   , 0.   , 0.   , 1.   , 0.243,\n",
       "        0.267]),\n",
       " array([0.92303218, 0.93575052, 0.50301132, 0.88127795, 0.74235609,\n",
       "        0.93526469, 0.81453194, 0.75906516, 0.72673143, 0.77506768,\n",
       "        0.9633189 , 0.63793674, 0.9452934 , 0.83496401, 0.75918474,\n",
       "        0.90171826, 0.68978209, 0.95505926, 0.94493792]),\n",
       " array([0.25486036])]"
      ]
     },
     "execution_count": 345,
     "metadata": {},
     "output_type": "execute_result"
    }
   ],
   "source": [
    "nn.data"
   ]
  },
  {
   "cell_type": "code",
   "execution_count": 342,
   "metadata": {
    "ExecuteTime": {
     "end_time": "2018-09-18T10:46:55.727451Z",
     "start_time": "2018-09-18T10:46:55.717737Z"
    }
   },
   "outputs": [
    {
     "data": {
      "text/plain": [
       "[array([ 0.24344668,  0.6516109 ,  0.75907478,  0.60997328,  0.79474004,\n",
       "         0.17206575,  0.15094391,  0.82964143,  0.98708875,  0.3858398 ,\n",
       "         0.01434463,  0.86190606,  0.11832951,  0.81139068,  0.82637912,\n",
       "         0.65209751, -0.01151704,  0.71379395,  0.03926378]),\n",
       " array([-1.86558582])]"
      ]
     },
     "execution_count": 342,
     "metadata": {},
     "output_type": "execute_result"
    }
   ],
   "source": [
    "nn.threshold"
   ]
  }
 ],
 "metadata": {
  "kernelspec": {
   "display_name": "Python 3",
   "language": "python",
   "name": "python3"
  },
  "language_info": {
   "codemirror_mode": {
    "name": "ipython",
    "version": 3
   },
   "file_extension": ".py",
   "mimetype": "text/x-python",
   "name": "python",
   "nbconvert_exporter": "python",
   "pygments_lexer": "ipython3",
   "version": "3.6.5"
  }
 },
 "nbformat": 4,
 "nbformat_minor": 2
}
