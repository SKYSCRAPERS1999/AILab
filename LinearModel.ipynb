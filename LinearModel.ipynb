{
 "cells": [
  {
   "cell_type": "code",
   "execution_count": 679,
   "metadata": {
    "ExecuteTime": {
     "end_time": "2018-09-12T12:08:23.517897Z",
     "start_time": "2018-09-12T12:08:23.510034Z"
    }
   },
   "outputs": [],
   "source": [
    "import numpy as np, pandas as pd, math\n",
    "import matplotlib.pyplot as plt"
   ]
  },
  {
   "cell_type": "markdown",
   "metadata": {
    "ExecuteTime": {
     "end_time": "2018-09-12T08:42:07.221636Z",
     "start_time": "2018-09-12T08:42:07.215213Z"
    },
    "heading_collapsed": true
   },
   "source": [
    "## 3.3"
   ]
  },
  {
   "cell_type": "code",
   "execution_count": 475,
   "metadata": {
    "ExecuteTime": {
     "end_time": "2018-09-12T08:49:55.706446Z",
     "start_time": "2018-09-12T08:49:55.647415Z"
    },
    "hidden": true
   },
   "outputs": [
    {
     "name": "stderr",
     "output_type": "stream",
     "text": [
      "/home/impulse/anaconda3/lib/python3.6/site-packages/ipykernel_launcher.py:3: SettingWithCopyWarning: \n",
      "A value is trying to be set on a copy of a slice from a DataFrame.\n",
      "Try using .loc[row_indexer,col_indexer] = value instead\n",
      "\n",
      "See the caveats in the documentation: http://pandas.pydata.org/pandas-docs/stable/indexing.html#indexing-view-versus-copy\n",
      "  This is separate from the ipykernel package so we can avoid doing imports until\n"
     ]
    }
   ],
   "source": [
    "data3 = pd.read_csv('./data3.csv')\n",
    "data3_alpha = data3.get(['密度', '含糖率', '好瓜'])\n",
    "data3_alpha['好瓜'] = data3_alpha['好瓜'].apply(lambda x: 1 if x == '是' else 0)\n",
    "data3_alpha.head()\n",
    "\n",
    "feature, label = data3_alpha.get(['密度', '含糖率']), data3_alpha['好瓜']\n",
    "feature, label = feature.values, label.values\n",
    "feature = np.c_[feature, np.ones(len(feature))]"
   ]
  },
  {
   "cell_type": "code",
   "execution_count": 680,
   "metadata": {
    "ExecuteTime": {
     "end_time": "2018-09-12T12:08:27.271315Z",
     "start_time": "2018-09-12T12:08:27.265594Z"
    },
    "hidden": true
   },
   "outputs": [],
   "source": [
    "def deriv(feature, label, beta, lamda = 0.1):\n",
    "    m = feature.shape[1]\n",
    "    ret = np.zeros(m)\n",
    "    for i in range(len(feature)):\n",
    "        y = np.exp(np.dot(beta, feature[i]))\n",
    "        p1 = float(y) / float(1 + y)\n",
    "        ret -= feature[i] * (label[i] - p1)\n",
    "    ret += 2 * lamda * beta ## l2 正则\n",
    "    return ret"
   ]
  },
  {
   "cell_type": "code",
   "execution_count": 753,
   "metadata": {
    "ExecuteTime": {
     "end_time": "2018-09-12T12:56:45.524143Z",
     "start_time": "2018-09-12T12:56:45.510598Z"
    },
    "hidden": true
   },
   "outputs": [],
   "source": [
    "def LR(feature, label, beta = np.ones(3), step = 1.0, output = 0):\n",
    "    m, i = feature.shape[1], 0\n",
    "    beta, last = np.ones(m), np.zeros(m)\n",
    "    while np.sum(np.square(last - beta)) > 1e-3:\n",
    "        i = i + 1\n",
    "        if output and (i < 10 or i % 100 == 0):\n",
    "            print (i, beta)\n",
    "        last = beta\n",
    "        beta = beta - deriv(feature, label, beta) * step / i\n",
    "    return beta"
   ]
  },
  {
   "cell_type": "code",
   "execution_count": 488,
   "metadata": {
    "ExecuteTime": {
     "end_time": "2018-09-12T08:59:38.748349Z",
     "start_time": "2018-09-12T08:59:38.714275Z"
    },
    "hidden": true
   },
   "outputs": [],
   "source": [
    "def plotBestFit(beta, feature, label):\n",
    "    xcord1, ycord1 = [],  []\n",
    "    xcord2, ycord2 = [],  []\n",
    "    for i in range(len(feature)):\n",
    "        if int(label[i]) == 1:\n",
    "            xcord1.append(feature[i, 0]); ycord1.append(feature[i, 1])\n",
    "        else:\n",
    "            xcord2.append(feature[i, 0]); ycord2.append(feature[i, 1])\n",
    "    fig = plt.figure()\n",
    "    ax = fig.add_subplot(111)\n",
    "    ax.scatter(xcord1, ycord1, s = 30, c = 'red', marker='s')\n",
    "    ax.scatter(xcord2, ycord2, s = 30, c = 'green')\n",
    "    x = np.arange(0, 1, 0.1)\n",
    "    y = (-beta[2] - beta[0] * x) / beta[1] ## w1*x1 + w2*x2 + b = 0\n",
    "    ax.plot(x, y)\n",
    "    plt.xlabel(\"X1\"); plt.ylabel(\"X2\")\n",
    "    plt.show()"
   ]
  },
  {
   "cell_type": "code",
   "execution_count": 682,
   "metadata": {
    "ExecuteTime": {
     "end_time": "2018-09-12T12:08:35.209134Z",
     "start_time": "2018-09-12T12:08:35.106195Z"
    },
    "hidden": true
   },
   "outputs": [
    {
     "name": "stdout",
     "output_type": "stream",
     "text": [
      "1 [1. 1. 1.]\n",
      "2 [-2.36583886 -0.0786374  -5.63813213]\n",
      "3 [ 0.16149194  1.04237363 -1.08342131]\n",
      "4 [ 0.71717524  1.31707326 -0.13477098]\n",
      "5 [ 0.38493164  1.22124462 -0.79518667]\n",
      "6 [ 0.51726495  1.30058465 -0.58690538]\n",
      "7 [ 0.51057822  1.31889727 -0.62622893]\n",
      "8 [ 0.5176024   1.3389292  -0.63536156]\n",
      "9 [ 0.52375376  1.35592766 -0.64253571]\n",
      "10 [ 0.52905023  1.37057032 -0.64862601]\n",
      "11 [ 0.5336645   1.38337873 -0.65392395]\n",
      "12 [ 0.53773456  1.394727   -0.65860246]\n",
      "13 [ 0.54136357  1.404889   -0.66278146]\n",
      "14 [ 0.54462923  1.41407034 -0.66654923]\n",
      "[ 0.54759114  1.4224289  -0.66997297]\n",
      "1 0.3660153545401665\n",
      "1 0.2886958446383729\n",
      "1 0.05272104714657688\n",
      "1 0.11529483825432735\n",
      "1 -0.05969007841891716\n",
      "1 -0.11217808755543618\n",
      "1 -0.19463972193192391\n",
      "1 -0.13054314017958074\n",
      "0 -0.17583623675450902\n",
      "0 -0.15711980346281545\n",
      "0 -0.4547346911587755\n",
      "0 -0.3413287450450886\n",
      "0 -0.0910511743158322\n",
      "0 -0.02856466424955484\n",
      "0 0.05345853757366248\n",
      "0 -0.28550940659975427\n",
      "0 -0.12974475926364043\n"
     ]
    },
    {
     "data": {
      "image/png": "[encoded data removed]",
      "text/plain": [
       "<Figure size 432x288 with 1 Axes>"
      ]
     },
     "metadata": {},
     "output_type": "display_data"
    }
   ],
   "source": [
    "beta = LR(feature, label)\n",
    "\n",
    "print (beta)\n",
    "\n",
    "for i in range(len(feature)):\n",
    "    print(label[i], np.dot(beta, feature[i]))\n",
    "    \n",
    "plotBestFit(beta, feature, label)"
   ]
  },
  {
   "cell_type": "markdown",
   "metadata": {
    "heading_collapsed": true
   },
   "source": [
    "## 3.4"
   ]
  },
  {
   "cell_type": "code",
   "execution_count": 683,
   "metadata": {
    "ExecuteTime": {
     "end_time": "2018-09-12T12:08:38.838598Z",
     "start_time": "2018-09-12T12:08:38.814779Z"
    },
    "hidden": true
   },
   "outputs": [],
   "source": [
    "data_iris = pd.read_csv('./data_iris.csv', names=['sepal_l', 'sepal_w', 'petal_l', 'petal_w', 'type'])"
   ]
  },
  {
   "cell_type": "code",
   "execution_count": 684,
   "metadata": {
    "ExecuteTime": {
     "end_time": "2018-09-12T12:08:39.445077Z",
     "start_time": "2018-09-12T12:08:39.429499Z"
    },
    "hidden": true
   },
   "outputs": [],
   "source": [
    "def idxing(x):\n",
    "    if x == 'Iris-setosa':\n",
    "        return 0\n",
    "    elif x == 'Iris-versicolor':\n",
    "        return 1\n",
    "    else:\n",
    "        return 2\n",
    "data_iris['type'] = data_iris['type'].apply(idxing)"
   ]
  },
  {
   "cell_type": "code",
   "execution_count": 687,
   "metadata": {
    "ExecuteTime": {
     "end_time": "2018-09-12T12:11:19.354698Z",
     "start_time": "2018-09-12T12:11:19.342151Z"
    },
    "hidden": true
   },
   "outputs": [],
   "source": [
    "def data_from_idx(data, idx):\n",
    "    data = data[data['type'] != (idx + 2) % 3]\n",
    "    data['type'] = data['type'].apply(lambda x: 0 if x == idx else 1)    \n",
    "    return data"
   ]
  },
  {
   "cell_type": "code",
   "execution_count": 755,
   "metadata": {
    "ExecuteTime": {
     "end_time": "2018-09-12T12:57:24.081866Z",
     "start_time": "2018-09-12T12:57:24.076014Z"
    },
    "hidden": true
   },
   "outputs": [],
   "source": [
    "def ten_fold(df):\n",
    "    \n",
    "    fold = 10\n",
    "    data = data_from_idx(df, 0)\n",
    "    data = data.values\n",
    "    \n",
    "    correct_num = 0\n",
    "\n",
    "    for T in range(10):\n",
    "        np.random.shuffle(data)\n",
    "\n",
    "        feature = data[:,:-1]\n",
    "        label = data[:,-1]\n",
    "        feature = np.c_[feature, np.ones(len(data))]\n",
    "\n",
    "        for i in range(fold):\n",
    "            index_test = np.arange(i, len(data), fold)\n",
    "            index_train = np.array(list(set(range(100)).difference(index_test)))\n",
    "\n",
    "            feature_train = feature[index_train]\n",
    "            label_train = label[index_train]\n",
    "\n",
    "            feature_test = feature[index_test]\n",
    "            label_test = label[index_test]\n",
    "            predict_label_test = np.zeros(len(label_test))\n",
    "\n",
    "            beta = LR(feature_train, label_train)\n",
    "            for i in range(len(label_test)):\n",
    "                t = 1 if np.dot(beta, feature_test[i]) >= 0 else 0\n",
    "                predict_label_test[i] = t\n",
    "\n",
    "#             print(predict_label_test)\n",
    "#             print(label_test)\n",
    "            correct_num += np.sum(predict_label_test == label_test)\n",
    "    \n",
    "    print ('accuracy is {}%'.format(correct_num / float(10)))\n",
    "    \n",
    "    return "
   ]
  },
  {
   "cell_type": "code",
   "execution_count": 756,
   "metadata": {
    "ExecuteTime": {
     "end_time": "2018-09-12T12:57:38.362968Z",
     "start_time": "2018-09-12T12:57:25.181573Z"
    },
    "hidden": true
   },
   "outputs": [
    {
     "name": "stderr",
     "output_type": "stream",
     "text": [
      "/home/impulse/anaconda3/lib/python3.6/site-packages/ipykernel_launcher.py:3: SettingWithCopyWarning: \n",
      "A value is trying to be set on a copy of a slice from a DataFrame.\n",
      "Try using .loc[row_indexer,col_indexer] = value instead\n",
      "\n",
      "See the caveats in the documentation: http://pandas.pydata.org/pandas-docs/stable/indexing.html#indexing-view-versus-copy\n",
      "  This is separate from the ipykernel package so we can avoid doing imports until\n"
     ]
    },
    {
     "name": "stdout",
     "output_type": "stream",
     "text": [
      "accuracy is 89.8%\n"
     ]
    }
   ],
   "source": [
    "ten_fold(data_iris)"
   ]
  },
  {
   "cell_type": "code",
   "execution_count": 764,
   "metadata": {
    "ExecuteTime": {
     "end_time": "2018-09-12T13:03:30.518325Z",
     "start_time": "2018-09-12T13:03:30.497853Z"
    },
    "hidden": true
   },
   "outputs": [],
   "source": [
    "def n_fold(df):\n",
    "    \n",
    "    data = data_from_idx(df, 0)\n",
    "    data = data.values\n",
    "    fold = len(data)\n",
    "    \n",
    "    correct_num = 0\n",
    "\n",
    "    np.random.shuffle(data)\n",
    "\n",
    "    feature = data[:,:-1]\n",
    "    label = data[:,-1]\n",
    "    feature = np.c_[feature, np.ones(len(data))]\n",
    "\n",
    "    for i in range(fold):\n",
    "        print ('i = {}'.format(i))\n",
    "        index_test = np.arange(i, len(data), fold)\n",
    "        index_train = np.array(list(set(range(100)).difference(index_test)))\n",
    "\n",
    "        feature_train = feature[index_train]\n",
    "        label_train = label[index_train]\n",
    "\n",
    "        feature_test = feature[index_test]\n",
    "        label_test = label[index_test]\n",
    "        predict_label_test = np.zeros(len(label_test))\n",
    "\n",
    "        beta = LR(feature_train, label_train)\n",
    "        for i in range(len(label_test)):\n",
    "            t = 1 if np.dot(beta, feature_test[i]) >= 0 else 0\n",
    "            predict_label_test[i] = t\n",
    "\n",
    "#             print(predict_label_test)\n",
    "#             print(label_test)\n",
    "        correct_num += np.sum(predict_label_test == label_test)\n",
    "    \n",
    "    print ('accuracy is {}%'.format(correct_num))\n",
    "    \n",
    "    return "
   ]
  },
  {
   "cell_type": "code",
   "execution_count": 765,
   "metadata": {
    "ExecuteTime": {
     "end_time": "2018-09-12T13:03:44.513141Z",
     "start_time": "2018-09-12T13:03:31.056240Z"
    },
    "hidden": true,
    "scrolled": true
   },
   "outputs": [
    {
     "name": "stderr",
     "output_type": "stream",
     "text": [
      "/home/impulse/anaconda3/lib/python3.6/site-packages/ipykernel_launcher.py:3: SettingWithCopyWarning: \n",
      "A value is trying to be set on a copy of a slice from a DataFrame.\n",
      "Try using .loc[row_indexer,col_indexer] = value instead\n",
      "\n",
      "See the caveats in the documentation: http://pandas.pydata.org/pandas-docs/stable/indexing.html#indexing-view-versus-copy\n",
      "  This is separate from the ipykernel package so we can avoid doing imports until\n"
     ]
    },
    {
     "name": "stdout",
     "output_type": "stream",
     "text": [
      "i = 0\n",
      "i = 1\n",
      "i = 2\n",
      "i = 3\n",
      "i = 4\n",
      "i = 5\n",
      "i = 6\n",
      "i = 7\n",
      "i = 8\n",
      "i = 9\n",
      "i = 10\n",
      "i = 11\n",
      "i = 12\n",
      "i = 13\n",
      "i = 14\n",
      "i = 15\n",
      "i = 16\n",
      "i = 17\n",
      "i = 18\n",
      "i = 19\n",
      "i = 20\n",
      "i = 21\n",
      "i = 22\n",
      "i = 23\n",
      "i = 24\n",
      "i = 25\n",
      "i = 26\n",
      "i = 27\n",
      "i = 28\n",
      "i = 29\n",
      "i = 30\n",
      "i = 31\n",
      "i = 32\n",
      "i = 33\n",
      "i = 34\n",
      "i = 35\n",
      "i = 36\n",
      "i = 37\n",
      "i = 38\n",
      "i = 39\n",
      "i = 40\n",
      "i = 41\n",
      "i = 42\n",
      "i = 43\n",
      "i = 44\n",
      "i = 45\n",
      "i = 46\n",
      "i = 47\n",
      "i = 48\n",
      "i = 49\n",
      "i = 50\n",
      "i = 51\n",
      "i = 52\n",
      "i = 53\n",
      "i = 54\n",
      "i = 55\n",
      "i = 56\n",
      "i = 57\n",
      "i = 58\n",
      "i = 59\n",
      "i = 60\n",
      "i = 61\n",
      "i = 62\n",
      "i = 63\n",
      "i = 64\n",
      "i = 65\n",
      "i = 66\n",
      "i = 67\n",
      "i = 68\n",
      "i = 69\n",
      "i = 70\n",
      "i = 71\n",
      "i = 72\n",
      "i = 73\n",
      "i = 74\n",
      "i = 75\n",
      "i = 76\n",
      "i = 77\n",
      "i = 78\n",
      "i = 79\n",
      "i = 80\n",
      "i = 81\n",
      "i = 82\n",
      "i = 83\n",
      "i = 84\n",
      "i = 85\n",
      "i = 86\n",
      "i = 87\n",
      "i = 88\n",
      "i = 89\n",
      "i = 90\n",
      "i = 91\n",
      "i = 92\n",
      "i = 93\n",
      "i = 94\n",
      "i = 95\n",
      "i = 96\n",
      "i = 97\n",
      "i = 98\n",
      "i = 99\n",
      "accuracy is 100%\n"
     ]
    }
   ],
   "source": [
    "n_fold(data_iris)"
   ]
  },
  {
   "cell_type": "markdown",
   "metadata": {},
   "source": [
    "## 3.5"
   ]
  },
  {
   "cell_type": "code",
   "execution_count": 883,
   "metadata": {
    "ExecuteTime": {
     "end_time": "2018-09-12T16:00:10.193175Z",
     "start_time": "2018-09-12T16:00:10.134548Z"
    }
   },
   "outputs": [
    {
     "name": "stderr",
     "output_type": "stream",
     "text": [
      "/home/impulse/anaconda3/lib/python3.6/site-packages/ipykernel_launcher.py:3: SettingWithCopyWarning: \n",
      "A value is trying to be set on a copy of a slice from a DataFrame.\n",
      "Try using .loc[row_indexer,col_indexer] = value instead\n",
      "\n",
      "See the caveats in the documentation: http://pandas.pydata.org/pandas-docs/stable/indexing.html#indexing-view-versus-copy\n",
      "  This is separate from the ipykernel package so we can avoid doing imports until\n"
     ]
    }
   ],
   "source": [
    "data3 = pd.read_csv('./data3.csv')\n",
    "data3_alpha = data3.get(['密度', '含糖率', '好瓜'])\n",
    "data3_alpha['好瓜'] = data3_alpha['好瓜'].apply(lambda x: 1 if x == '是' else 0)\n",
    "data3_alpha.head()\n",
    "\n",
    "feature, label = data3_alpha.get(['密度', '含糖率']), data3_alpha['好瓜']\n",
    "feature, label = feature.values, label.values"
   ]
  },
  {
   "cell_type": "code",
   "execution_count": 802,
   "metadata": {
    "ExecuteTime": {
     "end_time": "2018-09-12T15:18:05.281068Z",
     "start_time": "2018-09-12T15:18:05.270513Z"
    }
   },
   "outputs": [],
   "source": [
    "def Devi(data): # 样本离差阵\n",
    "    bar = np.mean(data)\n",
    "    data -= bar\n",
    "    return np.dot(data.T, data)"
   ]
  },
  {
   "cell_type": "code",
   "execution_count": 916,
   "metadata": {
    "ExecuteTime": {
     "end_time": "2018-09-12T16:12:50.815556Z",
     "start_time": "2018-09-12T16:12:50.792310Z"
    }
   },
   "outputs": [],
   "source": [
    "def LDA(feature, label):\n",
    "    feature_1 = feature[label == 1]\n",
    "    feature_0 = feature[label == 0]\n",
    "    \n",
    "    bar_1 = np.apply_along_axis(arr=feature_1, axis=0, func1d=np.mean)\n",
    "    bar_0 = np.apply_along_axis(arr=feature_0, axis=0, func1d=np.mean)\n",
    "#     Sb = np.dot(bar_0, bar_1.T)\n",
    "    S0, S1 = Devi(feature_0), Devi(feature_1)\n",
    "    Sw = S0 + S1\n",
    "    U, S, VT = np.linalg.svd(Sw)\n",
    "    \n",
    "    end = 0\n",
    "    for i in range(len(S) + 1):\n",
    "        if S[:end].sum() / float(S.sum()) <= 0.99:\n",
    "            end = i\n",
    "            \n",
    "    w = np.linalg.multi_dot([VT.T[:,:end], np.linalg.inv(np.diag(S[:end])), U[:end,:], bar_0 - bar_1])\n",
    "    return w"
   ]
  },
  {
   "cell_type": "code",
   "execution_count": 917,
   "metadata": {
    "ExecuteTime": {
     "end_time": "2018-09-12T16:12:51.624815Z",
     "start_time": "2018-09-12T16:12:51.611108Z"
    }
   },
   "outputs": [],
   "source": [
    "w = LDA(feature, label)"
   ]
  },
  {
   "cell_type": "code",
   "execution_count": 918,
   "metadata": {
    "ExecuteTime": {
     "end_time": "2018-09-12T16:12:52.296020Z",
     "start_time": "2018-09-12T16:12:52.268737Z"
    }
   },
   "outputs": [],
   "source": [
    "def plotDisCriminant(w, feature, label):\n",
    "    xcord1, ycord1 = feature[label == 0, 0], feature[label == 0, 1]\n",
    "    xcord2, ycord2 = feature[label == 1, 0], feature[label == 1, 1]\n",
    "    \n",
    "    fig = plt.figure()\n",
    "    ax = fig.add_subplot(111)\n",
    "    ax.scatter(xcord1, ycord1, s = 30, c = 'red', marker='s')\n",
    "    ax.scatter(xcord2, ycord2, s = 30, c = 'green')\n",
    "    x = np.arange(0, 1, 0.1)\n",
    "    y = 1.0 * w[1] / w[0] * x\n",
    "    ax.plot(x, y)\n",
    "    plt.xlabel(\"X1\"); plt.ylabel(\"X2\")\n",
    "    plt.show()"
   ]
  },
  {
   "cell_type": "code",
   "execution_count": 919,
   "metadata": {
    "ExecuteTime": {
     "end_time": "2018-09-12T16:12:53.219344Z",
     "start_time": "2018-09-12T16:12:53.037261Z"
    }
   },
   "outputs": [
    {
     "data": {
      "image/png": "[encoded data removed]",
      "text/plain": [
       "<Figure size 432x288 with 1 Axes>"
      ]
     },
     "metadata": {},
     "output_type": "display_data"
    }
   ],
   "source": [
    "plotDisCriminant(w, feature, label)"
   ]
  }
 ],
 "metadata": {
  "kernelspec": {
   "display_name": "Python 3",
   "language": "python",
   "name": "python3"
  },
  "language_info": {
   "codemirror_mode": {
    "name": "ipython",
    "version": 3
   },
   "file_extension": ".py",
   "mimetype": "text/x-python",
   "name": "python",
   "nbconvert_exporter": "python",
   "pygments_lexer": "ipython3",
   "version": "3.6.5"
  }
 },
 "nbformat": 4,
 "nbformat_minor": 2
}
