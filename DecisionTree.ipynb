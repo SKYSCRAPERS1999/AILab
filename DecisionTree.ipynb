{
 "cells": [
  {
   "cell_type": "code",
   "execution_count": 24,
   "metadata": {
    "ExecuteTime": {
     "end_time": "2018-09-13T01:23:56.098212Z",
     "start_time": "2018-09-13T01:23:56.063480Z"
    }
   },
   "outputs": [],
   "source": [
    "import numpy as np, pandas as pd, math\n",
    "import matplotlib.pyplot as plt\n",
    "\n",
    "class Tp(object):\n",
    "    \n",
    "    def __init__(self):\n",
    "        self.decisionNode = dict(boxstyle='sawtooth', fc='10')\n",
    "        self.leafNode = dict(boxstyle='round4',fc='0.8')\n",
    "        self.arrow_args = dict(arrowstyle='<|-')\n",
    "\n",
    "    def plotNode(self, nodeTxt, centerPt, parentPt, nodeType):\n",
    "        createPlot.ax1.annotate(nodeTxt, xy=parentPt, xycoords='axes fraction',\\\n",
    "                                 xytext=centerPt,textcoords='axes fraction',\\\n",
    "                                 va='center', ha='center',bbox=nodeType,arrowprops\\\n",
    "                                 =self.arrow_args)\n",
    "\n",
    "    def getNumLeafs(self, myTree):\n",
    "        numLeafs = 0\n",
    "        firstStr = list(myTree.keys())[0]\n",
    "        secondDict = myTree[firstStr]\n",
    "        for key in secondDict:\n",
    "            if(type(secondDict[key]).__name__ == 'dict'):\n",
    "                numLeafs += getNumLeafs(secondDict[key])\n",
    "            else:\n",
    "                numLeafs += 1\n",
    "        return numLeafs\n",
    "\n",
    "    def getTreeDepth(self, myTree):\n",
    "        maxDepth = 0\n",
    "        firstStr = list(myTree.keys())[0]\n",
    "        secondDict = myTree[firstStr]\n",
    "        for key in secondDict:\n",
    "            if(type(secondDict[key]).__name__ == 'dict'):\n",
    "                thisDepth = 1 + getTreeDepth((secondDict[key]))\n",
    "            else:\n",
    "                thisDepth = 1\n",
    "            if thisDepth > maxDepth: maxDepth = thisDepth\n",
    "        return maxDepth\n",
    "\n",
    "    def retrieveTree(self, i):\n",
    "        #预先设置树的信息\n",
    "        listOfTree = [{'no surfacing':{0:'no', 1:{'flipper':{0:'no', 1:'yes'}}}},\n",
    "                      {'no surfacing':{0:'no', 1:{'flipper':{0:{'head':{0:'no', 1:'yes'}},1:'no'}}}},\n",
    "                      {'a1':{0:'b1', 1:{'b2':{0:{'c1':{0:'d1',1:'d2'}}, 1:'c2'}}, 2:'b3'}}]\n",
    "        return listOfTree[i]\n",
    "\n",
    "    def createPlot(self, inTree):\n",
    "        fig = plt.figure(1,facecolor='white')\n",
    "        fig.clf()\n",
    "        axprops = dict(xticks = [], yticks=[])\n",
    "        createPlot.ax1 = plt.subplot(111,frameon = False,**axprops)\n",
    "        plotTree.totalW = float(getNumLeafs(inTree))\n",
    "        plotTree.totalD = float(getTreeDepth(inTree))\n",
    "        plotTree.xOff = -0.5 / plotTree.totalW;plotTree.yOff = 1.0\n",
    "        plotTree(inTree,(0.5,1.0), '')\n",
    "        plt.show()\n",
    "\n",
    "    def plotMidText(self, cntrPt, parentPt,txtString):\n",
    "        xMid = (parentPt[0] - cntrPt[0]) / 2.0 + cntrPt[0]\n",
    "        yMid = (parentPt[1] - cntrPt[1]) / 2.0 + cntrPt[1]\n",
    "        createPlot.ax1.text(xMid, yMid, txtString)\n",
    "\n",
    "    def plotTree(self, myTree, parentPt, nodeTxt):\n",
    "        numLeafs = getNumLeafs(myTree)\n",
    "        depth = getTreeDepth(myTree)\n",
    "        firstStr = list(myTree.keys())[0]\n",
    "        cntrPt = (plotTree.xOff+(1.0+float(numLeafs))/2.0/plotTree.totalW,\\\n",
    "                  plotTree.yOff)\n",
    "        plotMidText(cntrPt,parentPt,nodeTxt)\n",
    "        plotNode(firstStr,cntrPt,parentPt,self.decisionNode)\n",
    "        secondDict = myTree[firstStr]\n",
    "        plotTree.yOff = plotTree.yOff - 1.0/plotTree.totalD\n",
    "        for key in secondDict:\n",
    "            if type(secondDict[key]).__name__ == 'dict':\n",
    "                plotTree(secondDict[key],cntrPt,str(key))\n",
    "            else:\n",
    "                plotTree.xOff = plotTree.xOff + 1.0/plotTree.totalW\n",
    "                plotNode(secondDict[key],(plotTree.xOff,plotTree.yOff),\\\n",
    "                         cntrPt,self.leafNode)\n",
    "                plotMidText((plotTree.xOff,plotTree.yOff),cntrPt,str(key))\n",
    "        plotTree.yOff = plotTree.yOff + 1.0/plotTree.totalD"
   ]
  },
  {
   "cell_type": "code",
   "execution_count": 28,
   "metadata": {
    "ExecuteTime": {
     "end_time": "2018-09-13T01:34:50.468741Z",
     "start_time": "2018-09-13T01:34:50.328246Z"
    }
   },
   "outputs": [
    {
     "data": {
      "image/png": "[encoded data removed]",
      "text/plain": [
       "<Figure size 432x288 with 1 Axes>"
      ]
     },
     "metadata": {},
     "output_type": "display_data"
    }
   ],
   "source": [
    "tp = Tp()\n",
    "myTree = tp.retrieveTree(2)\n",
    "tp.createPlot(myTree)"
   ]
  },
  {
   "cell_type": "markdown",
   "metadata": {},
   "source": [
    "## 4.3"
   ]
  },
  {
   "cell_type": "code",
   "execution_count": 50,
   "metadata": {
    "ExecuteTime": {
     "end_time": "2018-09-13T02:45:52.721491Z",
     "start_time": "2018-09-13T02:45:52.695950Z"
    }
   },
   "outputs": [
    {
     "name": "stdout",
     "output_type": "stream",
     "text": [
      "Index(['编号', '色泽', '根蒂', '敲声', '纹理', '脐部', '触感', '密度', '含糖率', '好瓜'], dtype='object')\n"
     ]
    }
   ],
   "source": [
    "data3 = pd.read_csv('./data3_full.csv')\n",
    "print (data3.columns)\n",
    "data3['好瓜'] = data3['好瓜'].apply(lambda x: 1 if x == '是' else 0)\n",
    "data3 = data3.drop(axis=1,columns=['编号'])"
   ]
  },
  {
   "cell_type": "code",
   "execution_count": null,
   "metadata": {},
   "outputs": [],
   "source": [
    "class TreeNode(object):\n",
    "    def __init__(self, idx, feature, data, par):\n",
    "        self.idx = idx\n",
    "        self.feature = feature\n",
    "        self.ch = {}\n",
    "        self.n_ch = 0\n",
    "        self.data = data\n",
    "        self.n = len(data)\n",
    "    def add_son(self, data, idx, feature):\n",
    "        ch[idx] = TreeNode(idx, feature, data, self.idx)\n",
    "        self.n_ch += 1\n",
    "        \n",
    "class DecisionTree(object):\n",
    "    \n",
    "    def __init__(self, data):\n",
    "        self.data = data\n",
    "        self.tot = 0\n",
    "        self.n = len(data)\n",
    "        self.nodes = {}\n",
    "    \n",
    "    def add_node(self, feature, data, par):\n",
    "        node = TreeNode(tot, feature, data, par)\n",
    "        if par != -1:\n",
    "            add_son(par. tot)\n",
    "        tot += 1\n",
    "        \n",
    "    def sel_feature(self):\n",
    "        pass\n",
    "    \n",
    "    def dfs(self):\n",
    "        (feature_name, feature_val) = sel_feature()\n",
    "        data_cur = self.data[self.data[feature_name] == feature_val]\n",
    "        "
   ]
  }
 ],
 "metadata": {
  "kernelspec": {
   "display_name": "Python 3",
   "language": "python",
   "name": "python3"
  },
  "language_info": {
   "codemirror_mode": {
    "name": "ipython",
    "version": 3
   },
   "file_extension": ".py",
   "mimetype": "text/x-python",
   "name": "python",
   "nbconvert_exporter": "python",
   "pygments_lexer": "ipython3",
   "version": "3.6.5"
  }
 },
 "nbformat": 4,
 "nbformat_minor": 2
}
