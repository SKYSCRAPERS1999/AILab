{
 "cells": [
  {
   "cell_type": "code",
   "execution_count": 9,
   "metadata": {
    "ExecuteTime": {
     "end_time": "2018-09-13T08:03:21.812647Z",
     "start_time": "2018-09-13T08:03:21.757366Z"
    }
   },
   "outputs": [],
   "source": [
    "import numpy as np, pandas as pd\n",
    "import matplotlib.pyplot as plt\n",
    "\n",
    "class Tp(object):\n",
    "    \n",
    "    def __init__(self):\n",
    "        self.decisionNode = dict(boxstyle='sawtooth', fc='10')\n",
    "        self.leafNode = dict(boxstyle='round4',fc='0.8')\n",
    "        self.arrow_args = dict(arrowstyle='<|-')\n",
    "\n",
    "    def plotNode(self, nodeTxt, centerPt, parentPt, nodeType):\n",
    "        createPlot.ax1.annotate(nodeTxt, xy=parentPt, xycoords='axes fraction',\\\n",
    "                                 xytext=centerPt,textcoords='axes fraction',\\\n",
    "                                 va='center', ha='center',bbox=nodeType,arrowprops\\\n",
    "                                 =self.arrow_args)\n",
    "\n",
    "    def getNumLeafs(self, myTree):\n",
    "        numLeafs = 0\n",
    "        firstStr = list(myTree.keys())[0]\n",
    "        secondDict = myTree[firstStr]\n",
    "        for key in secondDict:\n",
    "            if(type(secondDict[key]).__name__ == 'dict'):\n",
    "                numLeafs += getNumLeafs(secondDict[key])\n",
    "            else:\n",
    "                numLeafs += 1\n",
    "        return numLeafs\n",
    "\n",
    "    def getTreeDepth(self, myTree):\n",
    "        maxDepth = 0\n",
    "        firstStr = list(myTree.keys())[0]\n",
    "        secondDict = myTree[firstStr]\n",
    "        for key in secondDict:\n",
    "            if(type(secondDict[key]).__name__ == 'dict'):\n",
    "                thisDepth = 1 + getTreeDepth((secondDict[key]))\n",
    "            else:\n",
    "                thisDepth = 1\n",
    "            if thisDepth > maxDepth: maxDepth = thisDepth\n",
    "        return maxDepth\n",
    "\n",
    "    def retrieveTree(self, i):\n",
    "        #预先设置树的信息\n",
    "        listOfTree = [{'no surfacing':{0:'no', 1:{'flipper':{0:'no', 1:'yes'}}}},\n",
    "                      {'no surfacing':{0:'no', 1:{'flipper':{0:{'head':{0:'no', 1:'yes'}},1:'no'}}}},\n",
    "                      {'a1':{0:'b1', 1:{'b2':{0:{'c1':{0:'d1',1:'d2'}}, 1:'c2'}}, 2:'b3'}}]\n",
    "        return listOfTree[i]\n",
    "\n",
    "    def createPlot(self, inTree):\n",
    "        fig = plt.figure(1,facecolor='white')\n",
    "        fig.clf()\n",
    "        axprops = dict(xticks = [], yticks=[])\n",
    "        createPlot.ax1 = plt.subplot(111,frameon = False,**axprops)\n",
    "        plotTree.totalW = float(getNumLeafs(inTree))\n",
    "        plotTree.totalD = float(getTreeDepth(inTree))\n",
    "        plotTree.xOff = -0.5 / plotTree.totalW;plotTree.yOff = 1.0\n",
    "        plotTree(inTree,(0.5,1.0), '')\n",
    "        plt.show()\n",
    "\n",
    "    def plotMidText(self, cntrPt, parentPt,txtString):\n",
    "        xMid = (parentPt[0] - cntrPt[0]) / 2.0 + cntrPt[0]\n",
    "        yMid = (parentPt[1] - cntrPt[1]) / 2.0 + cntrPt[1]\n",
    "        createPlot.ax1.text(xMid, yMid, txtString)\n",
    "\n",
    "    def plotTree(self, myTree, parentPt, nodeTxt):\n",
    "        numLeafs = getNumLeafs(myTree)\n",
    "        depth = getTreeDepth(myTree)\n",
    "        firstStr = list(myTree.keys())[0]\n",
    "        cntrPt = (plotTree.xOff+(1.0+float(numLeafs))/2.0/plotTree.totalW,\\\n",
    "                  plotTree.yOff)\n",
    "        plotMidText(cntrPt,parentPt,nodeTxt)\n",
    "        plotNode(firstStr,cntrPt,parentPt,self.decisionNode)\n",
    "        secondDict = myTree[firstStr]\n",
    "        plotTree.yOff = plotTree.yOff - 1.0/plotTree.totalD\n",
    "        for key in secondDict:\n",
    "            if type(secondDict[key]).__name__ == 'dict':\n",
    "                plotTree(secondDict[key],cntrPt,str(key))\n",
    "            else:\n",
    "                plotTree.xOff = plotTree.xOff + 1.0/plotTree.totalW\n",
    "                plotNode(secondDict[key],(plotTree.xOff,plotTree.yOff),\\\n",
    "                         cntrPt,self.leafNode)\n",
    "                plotMidText((plotTree.xOff,plotTree.yOff),cntrPt,str(key))\n",
    "        plotTree.yOff = plotTree.yOff + 1.0/plotTree.totalD"
   ]
  },
  {
   "cell_type": "code",
   "execution_count": 10,
   "metadata": {
    "ExecuteTime": {
     "end_time": "2018-09-13T08:03:22.720619Z",
     "start_time": "2018-09-13T08:03:22.653727Z"
    }
   },
   "outputs": [
    {
     "ename": "NameError",
     "evalue": "name 'createPlot' is not defined",
     "output_type": "error",
     "traceback": [
      "\u001b[0;31m---------------------------------------------------------------------------\u001b[0m",
      "\u001b[0;31mNameError\u001b[0m                                 Traceback (most recent call last)",
      "\u001b[0;32m<ipython-input-10-9c546abe2b3b>\u001b[0m in \u001b[0;36m<module>\u001b[0;34m()\u001b[0m\n\u001b[1;32m      1\u001b[0m \u001b[0mtp\u001b[0m \u001b[0;34m=\u001b[0m \u001b[0mTp\u001b[0m\u001b[0;34m(\u001b[0m\u001b[0;34m)\u001b[0m\u001b[0;34m\u001b[0m\u001b[0m\n\u001b[1;32m      2\u001b[0m \u001b[0mmyTree\u001b[0m \u001b[0;34m=\u001b[0m \u001b[0mtp\u001b[0m\u001b[0;34m.\u001b[0m\u001b[0mretrieveTree\u001b[0m\u001b[0;34m(\u001b[0m\u001b[0;36m2\u001b[0m\u001b[0;34m)\u001b[0m\u001b[0;34m\u001b[0m\u001b[0m\n\u001b[0;32m----> 3\u001b[0;31m \u001b[0mtp\u001b[0m\u001b[0;34m.\u001b[0m\u001b[0mcreatePlot\u001b[0m\u001b[0;34m(\u001b[0m\u001b[0mmyTree\u001b[0m\u001b[0;34m)\u001b[0m\u001b[0;34m\u001b[0m\u001b[0m\n\u001b[0m",
      "\u001b[0;32m<ipython-input-9-44cdd1792503>\u001b[0m in \u001b[0;36mcreatePlot\u001b[0;34m(self, inTree)\u001b[0m\n\u001b[1;32m     46\u001b[0m         \u001b[0mfig\u001b[0m\u001b[0;34m.\u001b[0m\u001b[0mclf\u001b[0m\u001b[0;34m(\u001b[0m\u001b[0;34m)\u001b[0m\u001b[0;34m\u001b[0m\u001b[0m\n\u001b[1;32m     47\u001b[0m         \u001b[0maxprops\u001b[0m \u001b[0;34m=\u001b[0m \u001b[0mdict\u001b[0m\u001b[0;34m(\u001b[0m\u001b[0mxticks\u001b[0m \u001b[0;34m=\u001b[0m \u001b[0;34m[\u001b[0m\u001b[0;34m]\u001b[0m\u001b[0;34m,\u001b[0m \u001b[0myticks\u001b[0m\u001b[0;34m=\u001b[0m\u001b[0;34m[\u001b[0m\u001b[0;34m]\u001b[0m\u001b[0;34m)\u001b[0m\u001b[0;34m\u001b[0m\u001b[0m\n\u001b[0;32m---> 48\u001b[0;31m         \u001b[0mcreatePlot\u001b[0m\u001b[0;34m.\u001b[0m\u001b[0max1\u001b[0m \u001b[0;34m=\u001b[0m \u001b[0mplt\u001b[0m\u001b[0;34m.\u001b[0m\u001b[0msubplot\u001b[0m\u001b[0;34m(\u001b[0m\u001b[0;36m111\u001b[0m\u001b[0;34m,\u001b[0m\u001b[0mframeon\u001b[0m \u001b[0;34m=\u001b[0m \u001b[0;32mFalse\u001b[0m\u001b[0;34m,\u001b[0m\u001b[0;34m**\u001b[0m\u001b[0maxprops\u001b[0m\u001b[0;34m)\u001b[0m\u001b[0;34m\u001b[0m\u001b[0m\n\u001b[0m\u001b[1;32m     49\u001b[0m         \u001b[0mplotTree\u001b[0m\u001b[0;34m.\u001b[0m\u001b[0mtotalW\u001b[0m \u001b[0;34m=\u001b[0m \u001b[0mfloat\u001b[0m\u001b[0;34m(\u001b[0m\u001b[0mgetNumLeafs\u001b[0m\u001b[0;34m(\u001b[0m\u001b[0minTree\u001b[0m\u001b[0;34m)\u001b[0m\u001b[0;34m)\u001b[0m\u001b[0;34m\u001b[0m\u001b[0m\n\u001b[1;32m     50\u001b[0m         \u001b[0mplotTree\u001b[0m\u001b[0;34m.\u001b[0m\u001b[0mtotalD\u001b[0m \u001b[0;34m=\u001b[0m \u001b[0mfloat\u001b[0m\u001b[0;34m(\u001b[0m\u001b[0mgetTreeDepth\u001b[0m\u001b[0;34m(\u001b[0m\u001b[0minTree\u001b[0m\u001b[0;34m)\u001b[0m\u001b[0;34m)\u001b[0m\u001b[0;34m\u001b[0m\u001b[0m\n",
      "\u001b[0;31mNameError\u001b[0m: name 'createPlot' is not defined"
     ]
    },
    {
     "data": {
      "image/png": "[encoded data removed]",
      "text/plain": [
       "<Figure size 432x288 with 1 Axes>"
      ]
     },
     "metadata": {},
     "output_type": "display_data"
    }
   ],
   "source": [
    "tp = Tp()\n",
    "myTree = tp.retrieveTree(2)\n",
    "tp.createPlot(myTree)"
   ]
  },
  {
   "cell_type": "markdown",
   "metadata": {},
   "source": [
    "## 4.3"
   ]
  },
  {
   "cell_type": "code",
   "execution_count": null,
   "metadata": {
    "ExecuteTime": {
     "end_time": "2018-09-13T06:51:22.067717Z",
     "start_time": "2018-09-13T06:51:22.047066Z"
    }
   },
   "outputs": [],
   "source": [
    "import random, math\n",
    "data3 = pd.read_csv('./data3_full.csv')\n",
    "print (data3.columns)\n",
    "data3 = data3.drop(axis=1,columns=['编号','密度', '含糖率'])"
   ]
  },
  {
   "cell_type": "code",
   "execution_count": null,
   "metadata": {
    "ExecuteTime": {
     "end_time": "2018-09-13T07:29:10.331397Z",
     "start_time": "2018-09-13T07:29:10.311960Z"
    }
   },
   "outputs": [],
   "source": [
    "class TreeNode(object):\n",
    "    def __init__(self, idx, data, par, val = None):\n",
    "        self.idx = idx\n",
    "        self.feature = None\n",
    "        self.val = val\n",
    "        self.ch = set()\n",
    "        self.data = data\n",
    "        self.n = len(data)\n",
    "    \n",
    "class DecisionTree(object):\n",
    "    \n",
    "    def __init__(self, data):\n",
    "        self.data = data\n",
    "        self.n = len(data)\n",
    "        self.nodes = {}\n",
    "        self.nodes[0] = TreeNode(0, self.data, -1)\n",
    "        self.tot = 1\n",
    "        self.tree = {}\n",
    "        \n",
    "    def add_node(self, data, val = None):\n",
    "        self.nodes[self.tot] = TreeNode(self.tot, data, val)    \n",
    "        self.tot += 1\n",
    "        return self.tot - 1\n",
    "\n",
    "    def Entropy(self, p1):\n",
    "        if p1 < 1e-6 or p1 > 1.0 - 1e-6:\n",
    "            return 0\n",
    "        else:\n",
    "            return -(p1 * math.log2(p1) + (1 - p1) * math.log2(1 - p1))\n",
    "    \n",
    "    def Gain(self, data, feature):\n",
    "        import math\n",
    "        p1 = len(data[data[data.columns[-1]] == '是']) / float(len(data))\n",
    "        gain = self.Entropy(p1)\n",
    "        groups = data.groupby(feature)\n",
    "        for dat in groups:\n",
    "            dat = dat[1]\n",
    "            p1 = len(dat[dat[dat.columns[-1]] == '是']) / float(len(dat))\n",
    "            gain -= len(dat) / float(len(data)) * self.Entropy(p1)\n",
    "        return gain\n",
    "    \n",
    "    def sel_feature(self, data): \n",
    "        best_feature, max_gain = None, -1e9\n",
    "        for feature in data.columns[:-1]:\n",
    "            cur_gain = self.Gain(data, feature)\n",
    "            if cur_gain > max_gain + 1e-6:\n",
    "                best_feature, max_gain = feature, cur_gain\n",
    "        return best_feature\n",
    "    \n",
    "    def to_end(self, data):\n",
    "        if len(data) == 1:\n",
    "            return True\n",
    "        if len(data.groupby(data.columns[-1])) == 1:\n",
    "            return True\n",
    "        one_class = True\n",
    "        for feature in data.columns[:-1]:\n",
    "            if len(data.groupby(feature)) > 1:\n",
    "                one_class = False\n",
    "                break\n",
    "        if one_class:\n",
    "            return True\n",
    "        return False\n",
    "        \n",
    "    def dfs(self, data, cur = 0, par = -1):\n",
    "        \n",
    "        if self.to_end(data):\n",
    "            if len(data[data[data.columns[-1]] == '是']) * 2.0 > len(data):\n",
    "                self.nodes[cur].val = '是'\n",
    "            elif len(data[data[data.columns[-1]] == '否']) * 2.0 > len(data):\n",
    "                self.nodes[cur].val = '否'\n",
    "            else:\n",
    "                self.nodes[cur].val = \"是否\"[random.randint(0,1)]\n",
    "            return\n",
    "        \n",
    "        feature = self.sel_feature(data)\n",
    "        self.nodes[cur].feature = feature\n",
    "        \n",
    "        feature_vals = set(data[feature].values)\n",
    "        if feature_vals != None:\n",
    "            for val in feature_vals:\n",
    "                data_cur = data[data[feature] == val]\n",
    "                nxt = self.add_node(feature, data_cur)\n",
    "                self.nodes[cur].ch.add(nxt)\n",
    "                self.dfs(data_cur, nxt, cur)\n",
    "        \n",
    "        print (self.nodes[cur].feature, self.nodes[cur].idx, self.nodes[cur].ch)\n",
    "\n",
    "        \n",
    "    def get_tree(self, cur = 0, par = -1):\n",
    "        if self.nodes[cur].val != None:\n",
    "            return self.nodes[cur].val\n",
    "        else:\n",
    "            cur_tree = {}\n",
    "            for (cnt, nxt) in enumerate(self.nodes[cur].ch):\n",
    "                cur_tree[cnt] = self.get_tree(nxt, cur)\n",
    "            return {self.nodes[cur].feature: cur_tree}"
   ]
  },
  {
   "cell_type": "code",
   "execution_count": null,
   "metadata": {
    "ExecuteTime": {
     "end_time": "2018-09-13T07:29:11.328852Z",
     "start_time": "2018-09-13T07:29:11.302213Z"
    }
   },
   "outputs": [],
   "source": [
    "[{'a1':{0:'b1', 1:{'b2':{0:{'c1':{0:'d1',1:'d2'}}, 1:'c2'}}, 2:'b3'}}]"
   ]
  },
  {
   "cell_type": "code",
   "execution_count": null,
   "metadata": {
    "ExecuteTime": {
     "end_time": "2018-09-13T07:45:17.256315Z",
     "start_time": "2018-09-13T07:45:17.239771Z"
    }
   },
   "outputs": [],
   "source": [
    "tree"
   ]
  },
  {
   "cell_type": "code",
   "execution_count": null,
   "metadata": {
    "ExecuteTime": {
     "end_time": "2018-09-13T07:29:12.280346Z",
     "start_time": "2018-09-13T07:29:12.111425Z"
    }
   },
   "outputs": [],
   "source": [
    "dt = DecisionTree(data3)\n",
    "dt.dfs(dt.data)"
   ]
  },
  {
   "cell_type": "code",
   "execution_count": null,
   "metadata": {
    "ExecuteTime": {
     "end_time": "2018-09-13T07:47:58.233384Z",
     "start_time": "2018-09-13T07:47:57.548126Z"
    }
   },
   "outputs": [],
   "source": [
    "tree = dt.get_tree()\n",
    "tp = Tp()\n",
    "tp.createPlot(tree)"
   ]
  }
 ],
 "metadata": {
  "kernelspec": {
   "display_name": "Python 3",
   "language": "python",
   "name": "python3"
  },
  "language_info": {
   "codemirror_mode": {
    "name": "ipython",
    "version": 3
   },
   "file_extension": ".py",
   "mimetype": "text/x-python",
   "name": "python",
   "nbconvert_exporter": "python",
   "pygments_lexer": "ipython3",
   "version": "3.6.5"
  }
 },
 "nbformat": 4,
 "nbformat_minor": 2
}
