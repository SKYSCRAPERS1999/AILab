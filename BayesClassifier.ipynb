{
 "cells": [
  {
   "cell_type": "code",
   "execution_count": 32,
   "metadata": {
    "ExecuteTime": {
     "end_time": "2018-09-25T00:49:18.367791Z",
     "start_time": "2018-09-25T00:49:18.357044Z"
    }
   },
   "outputs": [],
   "source": [
    "import numpy as np, pandas as pd\n",
    "import math, re, datetime, random\n",
    "import pylab as plt\n",
    "from sklearn import preprocessing\n",
    "from sklearn.model_selection import train_test_split"
   ]
  },
  {
   "cell_type": "code",
   "execution_count": 553,
   "metadata": {
    "ExecuteTime": {
     "end_time": "2018-09-25T07:02:56.823896Z",
     "start_time": "2018-09-25T07:02:56.806005Z"
    }
   },
   "outputs": [],
   "source": [
    "def rescaling(x, d1, d2):\n",
    "    if (x <= d1):\n",
    "        return 'small'\n",
    "    elif (x <= d2):\n",
    "        return 'mid'\n",
    "    else:\n",
    "        return 'big'\n",
    "     \n",
    "def get_data3(ratio = 0.8):\n",
    "    data = pd.read_csv('./data3.csv')\n",
    "    data['好瓜'] = data['好瓜'].apply(lambda x: True if x == '是' else False)\n",
    "    data = data.drop(axis=1,columns=['编号'])\n",
    "    feature_rescale = ['含糖率', '密度']\n",
    "    for fea in feature_rescale:\n",
    "        sorted_feature_data = sorted(list(data[fea]))\n",
    "        n = len(sorted_feature_data)\n",
    "        data[fea] = data[fea].apply(rescaling,d1=sorted_feature_data[n//3],d2=sorted_feature_data[2*n//3])\n",
    "    \n",
    "    idx = np.random.randint(0, len(data))\n",
    "    return (data, data.iloc[idx])"
   ]
  },
  {
   "cell_type": "code",
   "execution_count": 457,
   "metadata": {
    "ExecuteTime": {
     "end_time": "2018-09-25T06:31:24.573524Z",
     "start_time": "2018-09-25T06:31:24.560390Z"
    }
   },
   "outputs": [],
   "source": [
    "class Naive_Bayes():\n",
    "    def __init__(self, data_train, sample_test):\n",
    "        from collections import defaultdict\n",
    "        self.data_train = data_train\n",
    "        self.sample_test = sample_test\n",
    "        self.c0 = len(data_train[data_train[data_train.columns[-1]] == False])\n",
    "        self.c1 = len(data_train[data_train[data_train.columns[-1]] == True])\n",
    "        self.table = ({}, {})\n",
    "        \n",
    "    def fit(self):\n",
    "        cols = self.data_train.columns\n",
    "        self.table[0][cols[-1]] = (self.c0 + 1) / (self.c0 + self.c1 + 2)\n",
    "        self.table[1][cols[-1]] = (self.c1 + 1) / (self.c0 + self.c1 + 2)\n",
    "        \n",
    "        for fea in cols[:-1]:\n",
    "            fea_dic = [{}, {}]\n",
    "            groups = self.data_train.groupby(axis = 0, by = fea)\n",
    "            N = len(groups)\n",
    "            \n",
    "            fea_dic[0] = defaultdict(lambda: 1 / float(self.c0 + N))\n",
    "            fea_dic[1] = defaultdict(lambda: 1 / float(self.c1 + N))\n",
    "            \n",
    "            for (val, tab) in groups:\n",
    "                n0, n1 = len(tab[tab[tab.columns[-1]] == False]), len(tab[tab[tab.columns[-1]] == True])\n",
    "                fea_dic[0][val] = (n0 + 1) / float(self.c0 + N)\n",
    "                fea_dic[1][val] = (n1 + 1) / float(self.c1 + N)\n",
    "            \n",
    "            (self.table[0][fea], self.table[1][fea]) = fea_dic\n",
    "    \n",
    "    def test(self):\n",
    "        cols = self.data_train.columns\n",
    "        sample = self.sample_test\n",
    "        logl = np.zeros(2)\n",
    "        for c in range(2):\n",
    "            logl[c] += np.log(self.table[c][cols[-1]])\n",
    "            for fea in cols[:-1]:\n",
    "                val = sample[fea]\n",
    "                logl[c] += np.log(self.table[c][fea][val])\n",
    "        output = [sample[-1], logl[1] >= logl[0], (logl[0], logl[1])]\n",
    "        print ('{}, {} <-- {} '.format(output[0], output[1], output[2]))"
   ]
  },
  {
   "cell_type": "code",
   "execution_count": 616,
   "metadata": {
    "ExecuteTime": {
     "end_time": "2018-09-25T07:12:32.916926Z",
     "start_time": "2018-09-25T07:12:32.901812Z"
    }
   },
   "outputs": [],
   "source": [
    "class AODE_Bayes():\n",
    "    def __init__(self, data_train, sample_test):\n",
    "        from collections import defaultdict\n",
    "        self.data_train = data_train\n",
    "        self.sample_test = sample_test\n",
    "        self.c = (len(data_train[data_train[data_train.columns[-1]]==False]), \\\n",
    "                  len(data_train[data_train[data_train.columns[-1]]==True]))\n",
    "        self.ctable = ({}, {})\n",
    "        self.table = ({}, {})\n",
    "        \n",
    "    def fit(self):\n",
    "        cols = self.data_train.columns\n",
    "        \n",
    "        for C in range(2):\n",
    "            \n",
    "            data = self.data_train[self.data_train[cols[-1]] == (True if C == 1 else False)]\n",
    "            \n",
    "            for par in cols[:-1]:\n",
    "                groups_par = data.groupby(axis = 0, by = par)\n",
    "                N = len(groups_par)\n",
    "                par_dic = defaultdict(lambda: 1 / float(self.c[0] + self.c[1] + 2 * N))\n",
    "                self.table[C][par] = {}\n",
    "                \n",
    "                for (val, data_par) in groups_par:\n",
    "                    NC = len(data_par)\n",
    "                    par_dic[val] = (NC + 1) / float(self.c[0] + self.c[1] + 2 * N)\n",
    "                    self.table[C][par][val] = {}\n",
    "                    \n",
    "                    for son in cols[:-1]:\n",
    "                        if (son == par): \n",
    "                            continue\n",
    "                        else:\n",
    "                            groups_son = data_par.groupby(axis = 0, by = son)\n",
    "                            n = len(groups_son)\n",
    "                            son_dic = defaultdict(lambda: 1 / float(NC + n))\n",
    "                            for (ual, data_son) in groups_son:\n",
    "                                nC = len(data_son)\n",
    "                                son_dic[ual] = (nC + 1) / (NC + n)\n",
    "                        self.table[C][par][val][son] = son_dic\n",
    "            \n",
    "                self.ctable[C][par] = par_dic\n",
    "            \n",
    "    def test(self):\n",
    "        cols = data_train.columns\n",
    "        sample = self.sample_test\n",
    "        logl = np.zeros(2)\n",
    "        for C in range(2):\n",
    "            for par in cols[:-1]:\n",
    "                val = sample[par]\n",
    "                if par not in self.table[C] or val not in self.table[C][par]: continue    \n",
    "                p = self.ctable[C][par][val]\n",
    "                for son in cols[:-1]:\n",
    "                    if son == par: continue\n",
    "                    ual = sample[son]\n",
    "                    if son not in self.table[C][par][val]: continue\n",
    "#                         print('par, val, son, ual = ({},{},{},{})'.format(par,val,son,ual))\n",
    "                    p *= self.table[C][par][val][son][ual]\n",
    "                logl[C] += p\n",
    "        \n",
    "        output = [sample[-1], logl[1] >= logl[0], (logl[0], logl[1])]\n",
    "        print ('{}, {} <-- {} '.format(output[0], output[1], output[2]))"
   ]
  },
  {
   "cell_type": "code",
   "execution_count": 675,
   "metadata": {
    "ExecuteTime": {
     "end_time": "2018-09-25T07:13:30.578111Z",
     "start_time": "2018-09-25T07:13:30.097077Z"
    },
    "scrolled": true
   },
   "outputs": [
    {
     "name": "stdout",
     "output_type": "stream",
     "text": [
      "False, False <-- (-8.220054892307417, -9.923610682227556) \n",
      "False, False <-- (0.04100403825039061, 0.03131964203555818) \n"
     ]
    }
   ],
   "source": [
    "(data_train, sample_test) = get_data3()\n",
    "\n",
    "nb = Naive_Bayes(data_train, sample_test)\n",
    "nb.fit()\n",
    "output = nb.test()\n",
    "\n",
    "snb = AODE_Bayes(data_train, sample_test)\n",
    "snb.fit()\n",
    "snb.test()"
   ]
  }
 ],
 "metadata": {
  "kernelspec": {
   "display_name": "Python 3",
   "language": "python",
   "name": "python3"
  },
  "language_info": {
   "codemirror_mode": {
    "name": "ipython",
    "version": 3
   },
   "file_extension": ".py",
   "mimetype": "text/x-python",
   "name": "python",
   "nbconvert_exporter": "python",
   "pygments_lexer": "ipython3",
   "version": "3.6.5"
  }
 },
 "nbformat": 4,
 "nbformat_minor": 2
}
